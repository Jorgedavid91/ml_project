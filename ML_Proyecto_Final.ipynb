{
  "nbformat": 4,
  "nbformat_minor": 0,
  "metadata": {
    "colab": {
      "provenance": [],
      "collapsed_sections": [
        "8amUnkAwMV6x"
      ],
      "mount_file_id": "1vf7E-ACz5dOXL3eaUd5otDqfoQZOm-RK",
      "authorship_tag": "ABX9TyPiVN+0ggaj3+4z6sKUQzik",
      "include_colab_link": true
    },
    "kernelspec": {
      "name": "python3",
      "display_name": "Python 3"
    },
    "language_info": {
      "name": "python"
    }
  },
  "cells": [
    {
      "cell_type": "markdown",
      "metadata": {
        "id": "view-in-github",
        "colab_type": "text"
      },
      "source": [
        "<a href=\"https://colab.research.google.com/github/Jorgedavid91/ml_project/blob/dev/ML_Proyecto_Final.ipynb\" target=\"_parent\"><img src=\"https://colab.research.google.com/assets/colab-badge.svg\" alt=\"Open In Colab\"/></a>"
      ]
    },
    {
      "cell_type": "code",
      "execution_count": 1,
      "metadata": {
        "id": "impJLoqeYYaA"
      },
      "outputs": [],
      "source": [
        "import pandas as pd\n",
        "import numpy as np"
      ]
    },
    {
      "cell_type": "markdown",
      "source": [
        "Levantamos el Dataset original"
      ],
      "metadata": {
        "id": "elYWCHKhMzBS"
      }
    },
    {
      "cell_type": "code",
      "source": [
        "df_init = pd.read_csv('/content/drive/MyDrive/dataset/ml_final_project/COVID19MEXICO.csv',header='infer')"
      ],
      "metadata": {
        "id": "qH34QCrbYsKP"
      },
      "execution_count": 2,
      "outputs": []
    },
    {
      "cell_type": "markdown",
      "source": [
        "# Análisis exploratorio de datos"
      ],
      "metadata": {
        "id": "8amUnkAwMV6x"
      }
    },
    {
      "cell_type": "code",
      "source": [
        "df_init.info()"
      ],
      "metadata": {
        "colab": {
          "base_uri": "https://localhost:8080/"
        },
        "id": "Q1DlRPayMoXL",
        "outputId": "86ad02c6-4d67-4071-9bb0-e827c5f5022e"
      },
      "execution_count": null,
      "outputs": [
        {
          "output_type": "stream",
          "name": "stdout",
          "text": [
            "<class 'pandas.core.frame.DataFrame'>\n",
            "RangeIndex: 1137999 entries, 0 to 1137998\n",
            "Data columns (total 41 columns):\n",
            " #   Column                 Non-Null Count    Dtype \n",
            "---  ------                 --------------    ----- \n",
            " 0   FECHA_ACTUALIZACION    1137999 non-null  object\n",
            " 1   ID_REGISTRO            1137999 non-null  object\n",
            " 2   ORIGEN                 1137999 non-null  int64 \n",
            " 3   SECTOR                 1137999 non-null  int64 \n",
            " 4   ENTIDAD_UM             1137999 non-null  int64 \n",
            " 5   SEXO                   1137999 non-null  int64 \n",
            " 6   ENTIDAD_NAC            1137999 non-null  int64 \n",
            " 7   ENTIDAD_RES            1137999 non-null  int64 \n",
            " 8   MUNICIPIO_RES          1137999 non-null  int64 \n",
            " 9   TIPO_PACIENTE          1137999 non-null  int64 \n",
            " 10  FECHA_INGRESO          1137999 non-null  object\n",
            " 11  FECHA_SINTOMAS         1137999 non-null  object\n",
            " 12  FECHA_DEF              1137999 non-null  object\n",
            " 13  INTUBADO               1137999 non-null  int64 \n",
            " 14  NEUMONIA               1137999 non-null  int64 \n",
            " 15  EDAD                   1137999 non-null  int64 \n",
            " 16  NACIONALIDAD           1137999 non-null  int64 \n",
            " 17  EMBARAZO               1137999 non-null  int64 \n",
            " 18  HABLA_LENGUA_INDIG     1137999 non-null  int64 \n",
            " 19  INDIGENA               1137999 non-null  int64 \n",
            " 20  DIABETES               1137999 non-null  int64 \n",
            " 21  EPOC                   1137999 non-null  int64 \n",
            " 22  ASMA                   1137999 non-null  int64 \n",
            " 23  INMUSUPR               1137999 non-null  int64 \n",
            " 24  HIPERTENSION           1137999 non-null  int64 \n",
            " 25  OTRA_COM               1137999 non-null  int64 \n",
            " 26  CARDIOVASCULAR         1137999 non-null  int64 \n",
            " 27  OBESIDAD               1137999 non-null  int64 \n",
            " 28  RENAL_CRONICA          1137999 non-null  int64 \n",
            " 29  TABAQUISMO             1137999 non-null  int64 \n",
            " 30  OTRO_CASO              1137999 non-null  int64 \n",
            " 31  TOMA_MUESTRA_LAB       1137999 non-null  int64 \n",
            " 32  RESULTADO_LAB          1137999 non-null  int64 \n",
            " 33  TOMA_MUESTRA_ANTIGENO  1137999 non-null  int64 \n",
            " 34  RESULTADO_ANTIGENO     1137999 non-null  int64 \n",
            " 35  CLASIFICACION_FINAL    1137999 non-null  int64 \n",
            " 36  MIGRANTE               1137999 non-null  int64 \n",
            " 37  PAIS_NACIONALIDAD      1137999 non-null  object\n",
            " 38  PAIS_ORIGEN            1137999 non-null  object\n",
            " 39  UCI                    1137999 non-null  int64 \n",
            " 40  FALLECIDO              1137999 non-null  object\n",
            "dtypes: int64(33), object(8)\n",
            "memory usage: 356.0+ MB\n"
          ]
        }
      ]
    },
    {
      "cell_type": "code",
      "source": [
        "df.head()"
      ],
      "metadata": {
        "colab": {
          "base_uri": "https://localhost:8080/",
          "height": 255
        },
        "id": "9BB0GAGwNBXb",
        "outputId": "c3a9f2e0-d117-46df-b274-27480522782c"
      },
      "execution_count": null,
      "outputs": [
        {
          "output_type": "execute_result",
          "data": {
            "text/plain": [
              "  FECHA_ACTUALIZACION ID_REGISTRO  ORIGEN  SECTOR  ENTIDAD_UM  SEXO  \\\n",
              "0          2023-09-19      0ed066       2      12          16     2   \n",
              "1          2023-09-19      b4071e       2      12           9     1   \n",
              "2          2023-09-19      a5442c       2      12           9     1   \n",
              "3          2023-09-19      dacb2c       2      12           7     1   \n",
              "4          2023-09-19      6cef7b       2      12           7     1   \n",
              "\n",
              "   ENTIDAD_NAC  ENTIDAD_RES  MUNICIPIO_RES  TIPO_PACIENTE  ...  \\\n",
              "0           16           16             41              1  ...   \n",
              "1            9            9              3              1  ...   \n",
              "2            9            9              4              1  ...   \n",
              "3            7            7            108              1  ...   \n",
              "4            7            7            108              1  ...   \n",
              "\n",
              "  TOMA_MUESTRA_LAB RESULTADO_LAB TOMA_MUESTRA_ANTIGENO  RESULTADO_ANTIGENO  \\\n",
              "0                2            97                     1                   2   \n",
              "1                2            97                     1                   2   \n",
              "2                2            97                     1                   2   \n",
              "3                2            97                     2                  97   \n",
              "4                2            97                     2                  97   \n",
              "\n",
              "   CLASIFICACION_FINAL  MIGRANTE  PAIS_NACIONALIDAD  PAIS_ORIGEN  UCI  \\\n",
              "0                    7        99             México           97   97   \n",
              "1                    7        99             México           97   97   \n",
              "2                    7        99             México           97   97   \n",
              "3                    6        99             México           97   97   \n",
              "4                    6        99             México           97   97   \n",
              "\n",
              "   FALLECIDO  \n",
              "0         NO  \n",
              "1         NO  \n",
              "2         NO  \n",
              "3         NO  \n",
              "4         NO  \n",
              "\n",
              "[5 rows x 41 columns]"
            ],
            "text/html": [
              "\n",
              "  <div id=\"df-4ad70e4b-75a2-4cf9-9168-d2a2ba594ca9\" class=\"colab-df-container\">\n",
              "    <div>\n",
              "<style scoped>\n",
              "    .dataframe tbody tr th:only-of-type {\n",
              "        vertical-align: middle;\n",
              "    }\n",
              "\n",
              "    .dataframe tbody tr th {\n",
              "        vertical-align: top;\n",
              "    }\n",
              "\n",
              "    .dataframe thead th {\n",
              "        text-align: right;\n",
              "    }\n",
              "</style>\n",
              "<table border=\"1\" class=\"dataframe\">\n",
              "  <thead>\n",
              "    <tr style=\"text-align: right;\">\n",
              "      <th></th>\n",
              "      <th>FECHA_ACTUALIZACION</th>\n",
              "      <th>ID_REGISTRO</th>\n",
              "      <th>ORIGEN</th>\n",
              "      <th>SECTOR</th>\n",
              "      <th>ENTIDAD_UM</th>\n",
              "      <th>SEXO</th>\n",
              "      <th>ENTIDAD_NAC</th>\n",
              "      <th>ENTIDAD_RES</th>\n",
              "      <th>MUNICIPIO_RES</th>\n",
              "      <th>TIPO_PACIENTE</th>\n",
              "      <th>...</th>\n",
              "      <th>TOMA_MUESTRA_LAB</th>\n",
              "      <th>RESULTADO_LAB</th>\n",
              "      <th>TOMA_MUESTRA_ANTIGENO</th>\n",
              "      <th>RESULTADO_ANTIGENO</th>\n",
              "      <th>CLASIFICACION_FINAL</th>\n",
              "      <th>MIGRANTE</th>\n",
              "      <th>PAIS_NACIONALIDAD</th>\n",
              "      <th>PAIS_ORIGEN</th>\n",
              "      <th>UCI</th>\n",
              "      <th>FALLECIDO</th>\n",
              "    </tr>\n",
              "  </thead>\n",
              "  <tbody>\n",
              "    <tr>\n",
              "      <th>0</th>\n",
              "      <td>2023-09-19</td>\n",
              "      <td>0ed066</td>\n",
              "      <td>2</td>\n",
              "      <td>12</td>\n",
              "      <td>16</td>\n",
              "      <td>2</td>\n",
              "      <td>16</td>\n",
              "      <td>16</td>\n",
              "      <td>41</td>\n",
              "      <td>1</td>\n",
              "      <td>...</td>\n",
              "      <td>2</td>\n",
              "      <td>97</td>\n",
              "      <td>1</td>\n",
              "      <td>2</td>\n",
              "      <td>7</td>\n",
              "      <td>99</td>\n",
              "      <td>México</td>\n",
              "      <td>97</td>\n",
              "      <td>97</td>\n",
              "      <td>NO</td>\n",
              "    </tr>\n",
              "    <tr>\n",
              "      <th>1</th>\n",
              "      <td>2023-09-19</td>\n",
              "      <td>b4071e</td>\n",
              "      <td>2</td>\n",
              "      <td>12</td>\n",
              "      <td>9</td>\n",
              "      <td>1</td>\n",
              "      <td>9</td>\n",
              "      <td>9</td>\n",
              "      <td>3</td>\n",
              "      <td>1</td>\n",
              "      <td>...</td>\n",
              "      <td>2</td>\n",
              "      <td>97</td>\n",
              "      <td>1</td>\n",
              "      <td>2</td>\n",
              "      <td>7</td>\n",
              "      <td>99</td>\n",
              "      <td>México</td>\n",
              "      <td>97</td>\n",
              "      <td>97</td>\n",
              "      <td>NO</td>\n",
              "    </tr>\n",
              "    <tr>\n",
              "      <th>2</th>\n",
              "      <td>2023-09-19</td>\n",
              "      <td>a5442c</td>\n",
              "      <td>2</td>\n",
              "      <td>12</td>\n",
              "      <td>9</td>\n",
              "      <td>1</td>\n",
              "      <td>9</td>\n",
              "      <td>9</td>\n",
              "      <td>4</td>\n",
              "      <td>1</td>\n",
              "      <td>...</td>\n",
              "      <td>2</td>\n",
              "      <td>97</td>\n",
              "      <td>1</td>\n",
              "      <td>2</td>\n",
              "      <td>7</td>\n",
              "      <td>99</td>\n",
              "      <td>México</td>\n",
              "      <td>97</td>\n",
              "      <td>97</td>\n",
              "      <td>NO</td>\n",
              "    </tr>\n",
              "    <tr>\n",
              "      <th>3</th>\n",
              "      <td>2023-09-19</td>\n",
              "      <td>dacb2c</td>\n",
              "      <td>2</td>\n",
              "      <td>12</td>\n",
              "      <td>7</td>\n",
              "      <td>1</td>\n",
              "      <td>7</td>\n",
              "      <td>7</td>\n",
              "      <td>108</td>\n",
              "      <td>1</td>\n",
              "      <td>...</td>\n",
              "      <td>2</td>\n",
              "      <td>97</td>\n",
              "      <td>2</td>\n",
              "      <td>97</td>\n",
              "      <td>6</td>\n",
              "      <td>99</td>\n",
              "      <td>México</td>\n",
              "      <td>97</td>\n",
              "      <td>97</td>\n",
              "      <td>NO</td>\n",
              "    </tr>\n",
              "    <tr>\n",
              "      <th>4</th>\n",
              "      <td>2023-09-19</td>\n",
              "      <td>6cef7b</td>\n",
              "      <td>2</td>\n",
              "      <td>12</td>\n",
              "      <td>7</td>\n",
              "      <td>1</td>\n",
              "      <td>7</td>\n",
              "      <td>7</td>\n",
              "      <td>108</td>\n",
              "      <td>1</td>\n",
              "      <td>...</td>\n",
              "      <td>2</td>\n",
              "      <td>97</td>\n",
              "      <td>2</td>\n",
              "      <td>97</td>\n",
              "      <td>6</td>\n",
              "      <td>99</td>\n",
              "      <td>México</td>\n",
              "      <td>97</td>\n",
              "      <td>97</td>\n",
              "      <td>NO</td>\n",
              "    </tr>\n",
              "  </tbody>\n",
              "</table>\n",
              "<p>5 rows × 41 columns</p>\n",
              "</div>\n",
              "    <div class=\"colab-df-buttons\">\n",
              "\n",
              "  <div class=\"colab-df-container\">\n",
              "    <button class=\"colab-df-convert\" onclick=\"convertToInteractive('df-4ad70e4b-75a2-4cf9-9168-d2a2ba594ca9')\"\n",
              "            title=\"Convert this dataframe to an interactive table.\"\n",
              "            style=\"display:none;\">\n",
              "\n",
              "  <svg xmlns=\"http://www.w3.org/2000/svg\" height=\"24px\" viewBox=\"0 -960 960 960\">\n",
              "    <path d=\"M120-120v-720h720v720H120Zm60-500h600v-160H180v160Zm220 220h160v-160H400v160Zm0 220h160v-160H400v160ZM180-400h160v-160H180v160Zm440 0h160v-160H620v160ZM180-180h160v-160H180v160Zm440 0h160v-160H620v160Z\"/>\n",
              "  </svg>\n",
              "    </button>\n",
              "\n",
              "  <style>\n",
              "    .colab-df-container {\n",
              "      display:flex;\n",
              "      gap: 12px;\n",
              "    }\n",
              "\n",
              "    .colab-df-convert {\n",
              "      background-color: #E8F0FE;\n",
              "      border: none;\n",
              "      border-radius: 50%;\n",
              "      cursor: pointer;\n",
              "      display: none;\n",
              "      fill: #1967D2;\n",
              "      height: 32px;\n",
              "      padding: 0 0 0 0;\n",
              "      width: 32px;\n",
              "    }\n",
              "\n",
              "    .colab-df-convert:hover {\n",
              "      background-color: #E2EBFA;\n",
              "      box-shadow: 0px 1px 2px rgba(60, 64, 67, 0.3), 0px 1px 3px 1px rgba(60, 64, 67, 0.15);\n",
              "      fill: #174EA6;\n",
              "    }\n",
              "\n",
              "    .colab-df-buttons div {\n",
              "      margin-bottom: 4px;\n",
              "    }\n",
              "\n",
              "    [theme=dark] .colab-df-convert {\n",
              "      background-color: #3B4455;\n",
              "      fill: #D2E3FC;\n",
              "    }\n",
              "\n",
              "    [theme=dark] .colab-df-convert:hover {\n",
              "      background-color: #434B5C;\n",
              "      box-shadow: 0px 1px 3px 1px rgba(0, 0, 0, 0.15);\n",
              "      filter: drop-shadow(0px 1px 2px rgba(0, 0, 0, 0.3));\n",
              "      fill: #FFFFFF;\n",
              "    }\n",
              "  </style>\n",
              "\n",
              "    <script>\n",
              "      const buttonEl =\n",
              "        document.querySelector('#df-4ad70e4b-75a2-4cf9-9168-d2a2ba594ca9 button.colab-df-convert');\n",
              "      buttonEl.style.display =\n",
              "        google.colab.kernel.accessAllowed ? 'block' : 'none';\n",
              "\n",
              "      async function convertToInteractive(key) {\n",
              "        const element = document.querySelector('#df-4ad70e4b-75a2-4cf9-9168-d2a2ba594ca9');\n",
              "        const dataTable =\n",
              "          await google.colab.kernel.invokeFunction('convertToInteractive',\n",
              "                                                    [key], {});\n",
              "        if (!dataTable) return;\n",
              "\n",
              "        const docLinkHtml = 'Like what you see? Visit the ' +\n",
              "          '<a target=\"_blank\" href=https://colab.research.google.com/notebooks/data_table.ipynb>data table notebook</a>'\n",
              "          + ' to learn more about interactive tables.';\n",
              "        element.innerHTML = '';\n",
              "        dataTable['output_type'] = 'display_data';\n",
              "        await google.colab.output.renderOutput(dataTable, element);\n",
              "        const docLink = document.createElement('div');\n",
              "        docLink.innerHTML = docLinkHtml;\n",
              "        element.appendChild(docLink);\n",
              "      }\n",
              "    </script>\n",
              "  </div>\n",
              "\n",
              "\n",
              "<div id=\"df-d0f96061-b086-4f82-99e7-03056d4d73a1\">\n",
              "  <button class=\"colab-df-quickchart\" onclick=\"quickchart('df-d0f96061-b086-4f82-99e7-03056d4d73a1')\"\n",
              "            title=\"Suggest charts.\"\n",
              "            style=\"display:none;\">\n",
              "\n",
              "<svg xmlns=\"http://www.w3.org/2000/svg\" height=\"24px\"viewBox=\"0 0 24 24\"\n",
              "     width=\"24px\">\n",
              "    <g>\n",
              "        <path d=\"M19 3H5c-1.1 0-2 .9-2 2v14c0 1.1.9 2 2 2h14c1.1 0 2-.9 2-2V5c0-1.1-.9-2-2-2zM9 17H7v-7h2v7zm4 0h-2V7h2v10zm4 0h-2v-4h2v4z\"/>\n",
              "    </g>\n",
              "</svg>\n",
              "  </button>\n",
              "\n",
              "<style>\n",
              "  .colab-df-quickchart {\n",
              "      --bg-color: #E8F0FE;\n",
              "      --fill-color: #1967D2;\n",
              "      --hover-bg-color: #E2EBFA;\n",
              "      --hover-fill-color: #174EA6;\n",
              "      --disabled-fill-color: #AAA;\n",
              "      --disabled-bg-color: #DDD;\n",
              "  }\n",
              "\n",
              "  [theme=dark] .colab-df-quickchart {\n",
              "      --bg-color: #3B4455;\n",
              "      --fill-color: #D2E3FC;\n",
              "      --hover-bg-color: #434B5C;\n",
              "      --hover-fill-color: #FFFFFF;\n",
              "      --disabled-bg-color: #3B4455;\n",
              "      --disabled-fill-color: #666;\n",
              "  }\n",
              "\n",
              "  .colab-df-quickchart {\n",
              "    background-color: var(--bg-color);\n",
              "    border: none;\n",
              "    border-radius: 50%;\n",
              "    cursor: pointer;\n",
              "    display: none;\n",
              "    fill: var(--fill-color);\n",
              "    height: 32px;\n",
              "    padding: 0;\n",
              "    width: 32px;\n",
              "  }\n",
              "\n",
              "  .colab-df-quickchart:hover {\n",
              "    background-color: var(--hover-bg-color);\n",
              "    box-shadow: 0 1px 2px rgba(60, 64, 67, 0.3), 0 1px 3px 1px rgba(60, 64, 67, 0.15);\n",
              "    fill: var(--button-hover-fill-color);\n",
              "  }\n",
              "\n",
              "  .colab-df-quickchart-complete:disabled,\n",
              "  .colab-df-quickchart-complete:disabled:hover {\n",
              "    background-color: var(--disabled-bg-color);\n",
              "    fill: var(--disabled-fill-color);\n",
              "    box-shadow: none;\n",
              "  }\n",
              "\n",
              "  .colab-df-spinner {\n",
              "    border: 2px solid var(--fill-color);\n",
              "    border-color: transparent;\n",
              "    border-bottom-color: var(--fill-color);\n",
              "    animation:\n",
              "      spin 1s steps(1) infinite;\n",
              "  }\n",
              "\n",
              "  @keyframes spin {\n",
              "    0% {\n",
              "      border-color: transparent;\n",
              "      border-bottom-color: var(--fill-color);\n",
              "      border-left-color: var(--fill-color);\n",
              "    }\n",
              "    20% {\n",
              "      border-color: transparent;\n",
              "      border-left-color: var(--fill-color);\n",
              "      border-top-color: var(--fill-color);\n",
              "    }\n",
              "    30% {\n",
              "      border-color: transparent;\n",
              "      border-left-color: var(--fill-color);\n",
              "      border-top-color: var(--fill-color);\n",
              "      border-right-color: var(--fill-color);\n",
              "    }\n",
              "    40% {\n",
              "      border-color: transparent;\n",
              "      border-right-color: var(--fill-color);\n",
              "      border-top-color: var(--fill-color);\n",
              "    }\n",
              "    60% {\n",
              "      border-color: transparent;\n",
              "      border-right-color: var(--fill-color);\n",
              "    }\n",
              "    80% {\n",
              "      border-color: transparent;\n",
              "      border-right-color: var(--fill-color);\n",
              "      border-bottom-color: var(--fill-color);\n",
              "    }\n",
              "    90% {\n",
              "      border-color: transparent;\n",
              "      border-bottom-color: var(--fill-color);\n",
              "    }\n",
              "  }\n",
              "</style>\n",
              "\n",
              "  <script>\n",
              "    async function quickchart(key) {\n",
              "      const quickchartButtonEl =\n",
              "        document.querySelector('#' + key + ' button');\n",
              "      quickchartButtonEl.disabled = true;  // To prevent multiple clicks.\n",
              "      quickchartButtonEl.classList.add('colab-df-spinner');\n",
              "      try {\n",
              "        const charts = await google.colab.kernel.invokeFunction(\n",
              "            'suggestCharts', [key], {});\n",
              "      } catch (error) {\n",
              "        console.error('Error during call to suggestCharts:', error);\n",
              "      }\n",
              "      quickchartButtonEl.classList.remove('colab-df-spinner');\n",
              "      quickchartButtonEl.classList.add('colab-df-quickchart-complete');\n",
              "    }\n",
              "    (() => {\n",
              "      let quickchartButtonEl =\n",
              "        document.querySelector('#df-d0f96061-b086-4f82-99e7-03056d4d73a1 button');\n",
              "      quickchartButtonEl.style.display =\n",
              "        google.colab.kernel.accessAllowed ? 'block' : 'none';\n",
              "    })();\n",
              "  </script>\n",
              "</div>\n",
              "    </div>\n",
              "  </div>\n"
            ]
          },
          "metadata": {},
          "execution_count": 44
        }
      ]
    },
    {
      "cell_type": "code",
      "source": [
        "print(df.shape)"
      ],
      "metadata": {
        "colab": {
          "base_uri": "https://localhost:8080/"
        },
        "id": "vBcaPUBpNJAP",
        "outputId": "919b9609-fcb7-4eb2-e76b-d62b28d35bf4"
      },
      "execution_count": null,
      "outputs": [
        {
          "output_type": "stream",
          "name": "stdout",
          "text": [
            "(1137999, 41)\n"
          ]
        }
      ]
    },
    {
      "cell_type": "code",
      "source": [
        "df.describe()"
      ],
      "metadata": {
        "colab": {
          "base_uri": "https://localhost:8080/",
          "height": 349
        },
        "id": "AXqAzFOmNO98",
        "outputId": "0a1c58b5-76bf-4252-b803-2b4126ce47b2"
      },
      "execution_count": null,
      "outputs": [
        {
          "output_type": "execute_result",
          "data": {
            "text/plain": [
              "             ORIGEN        SECTOR    ENTIDAD_UM          SEXO   ENTIDAD_NAC  \\\n",
              "count  1.137999e+06  1.137999e+06  1.137999e+06  1.137999e+06  1.137999e+06   \n",
              "mean   1.707139e+00  7.026306e+00  1.449617e+01  1.411639e+00  1.530153e+01   \n",
              "std    4.550752e-01  3.828800e+00  7.766251e+00  4.921307e-01  9.473238e+00   \n",
              "min    1.000000e+00  1.000000e+00  1.000000e+00  1.000000e+00  1.000000e+00   \n",
              "25%    1.000000e+00  4.000000e+00  9.000000e+00  1.000000e+00  9.000000e+00   \n",
              "50%    2.000000e+00  4.000000e+00  1.200000e+01  1.000000e+00  1.400000e+01   \n",
              "75%    2.000000e+00  1.200000e+01  2.000000e+01  2.000000e+00  2.100000e+01   \n",
              "max    2.000000e+00  9.900000e+01  3.200000e+01  2.000000e+00  9.900000e+01   \n",
              "\n",
              "        ENTIDAD_RES  MUNICIPIO_RES  TIPO_PACIENTE      INTUBADO      NEUMONIA  \\\n",
              "count  1.137999e+06   1.137999e+06   1.137999e+06  1.137999e+06  1.137999e+06   \n",
              "mean   1.467485e+01   3.866809e+01   1.077421e+00  8.966181e+01  2.463876e+00   \n",
              "std    7.731158e+00   7.593453e+01   2.672584e-01  2.537035e+01  6.898874e+00   \n",
              "min    1.000000e+00   1.000000e+00   1.000000e+00  1.000000e+00  1.000000e+00   \n",
              "25%    9.000000e+00   7.000000e+00   1.000000e+00  9.700000e+01  2.000000e+00   \n",
              "50%    1.400000e+01   1.700000e+01   1.000000e+00  9.700000e+01  2.000000e+00   \n",
              "75%    2.000000e+01   4.400000e+01   1.000000e+00  9.700000e+01  2.000000e+00   \n",
              "max    3.200000e+01   9.990000e+02   2.000000e+00  9.900000e+01  9.900000e+01   \n",
              "\n",
              "       ...  RENAL_CRONICA    TABAQUISMO     OTRO_CASO  TOMA_MUESTRA_LAB  \\\n",
              "count  ...   1.137999e+06  1.137999e+06  1.137999e+06      1.137999e+06   \n",
              "mean   ...   2.077190e+00  2.051722e+00  3.394174e+00      1.815736e+00   \n",
              "std    ...   2.911366e+00  2.986993e+00  1.210453e+01      3.876993e-01   \n",
              "min    ...   1.000000e+00  1.000000e+00  1.000000e+00      1.000000e+00   \n",
              "25%    ...   2.000000e+00  2.000000e+00  2.000000e+00      2.000000e+00   \n",
              "50%    ...   2.000000e+00  2.000000e+00  2.000000e+00      2.000000e+00   \n",
              "75%    ...   2.000000e+00  2.000000e+00  2.000000e+00      2.000000e+00   \n",
              "max    ...   9.800000e+01  9.800000e+01  9.900000e+01      2.000000e+00   \n",
              "\n",
              "       RESULTADO_LAB  TOMA_MUESTRA_ANTIGENO  RESULTADO_ANTIGENO  \\\n",
              "count   1.137999e+06           1.137999e+06        1.137999e+06   \n",
              "mean    7.948131e+01           1.121889e+00        1.324217e+01   \n",
              "std     3.686121e+01           3.271582e-01        3.120903e+01   \n",
              "min     1.000000e+00           1.000000e+00        1.000000e+00   \n",
              "25%     9.700000e+01           1.000000e+00        1.000000e+00   \n",
              "50%     9.700000e+01           1.000000e+00        2.000000e+00   \n",
              "75%     9.700000e+01           1.000000e+00        2.000000e+00   \n",
              "max     9.700000e+01           2.000000e+00        9.700000e+01   \n",
              "\n",
              "       CLASIFICACION_FINAL      MIGRANTE           UCI  \n",
              "count         1.137999e+06  1.137999e+06  1.137999e+06  \n",
              "mean          5.469589e+00  9.866344e+01  8.966253e+01  \n",
              "std           1.930888e+00  5.715180e+00  2.536784e+01  \n",
              "min           1.000000e+00  1.000000e+00  1.000000e+00  \n",
              "25%           3.000000e+00  9.900000e+01  9.700000e+01  \n",
              "50%           7.000000e+00  9.900000e+01  9.700000e+01  \n",
              "75%           7.000000e+00  9.900000e+01  9.700000e+01  \n",
              "max           7.000000e+00  9.900000e+01  9.900000e+01  \n",
              "\n",
              "[8 rows x 33 columns]"
            ],
            "text/html": [
              "\n",
              "  <div id=\"df-ac12d376-67b4-4a2e-8940-b7e468d81192\" class=\"colab-df-container\">\n",
              "    <div>\n",
              "<style scoped>\n",
              "    .dataframe tbody tr th:only-of-type {\n",
              "        vertical-align: middle;\n",
              "    }\n",
              "\n",
              "    .dataframe tbody tr th {\n",
              "        vertical-align: top;\n",
              "    }\n",
              "\n",
              "    .dataframe thead th {\n",
              "        text-align: right;\n",
              "    }\n",
              "</style>\n",
              "<table border=\"1\" class=\"dataframe\">\n",
              "  <thead>\n",
              "    <tr style=\"text-align: right;\">\n",
              "      <th></th>\n",
              "      <th>ORIGEN</th>\n",
              "      <th>SECTOR</th>\n",
              "      <th>ENTIDAD_UM</th>\n",
              "      <th>SEXO</th>\n",
              "      <th>ENTIDAD_NAC</th>\n",
              "      <th>ENTIDAD_RES</th>\n",
              "      <th>MUNICIPIO_RES</th>\n",
              "      <th>TIPO_PACIENTE</th>\n",
              "      <th>INTUBADO</th>\n",
              "      <th>NEUMONIA</th>\n",
              "      <th>...</th>\n",
              "      <th>RENAL_CRONICA</th>\n",
              "      <th>TABAQUISMO</th>\n",
              "      <th>OTRO_CASO</th>\n",
              "      <th>TOMA_MUESTRA_LAB</th>\n",
              "      <th>RESULTADO_LAB</th>\n",
              "      <th>TOMA_MUESTRA_ANTIGENO</th>\n",
              "      <th>RESULTADO_ANTIGENO</th>\n",
              "      <th>CLASIFICACION_FINAL</th>\n",
              "      <th>MIGRANTE</th>\n",
              "      <th>UCI</th>\n",
              "    </tr>\n",
              "  </thead>\n",
              "  <tbody>\n",
              "    <tr>\n",
              "      <th>count</th>\n",
              "      <td>1.137999e+06</td>\n",
              "      <td>1.137999e+06</td>\n",
              "      <td>1.137999e+06</td>\n",
              "      <td>1.137999e+06</td>\n",
              "      <td>1.137999e+06</td>\n",
              "      <td>1.137999e+06</td>\n",
              "      <td>1.137999e+06</td>\n",
              "      <td>1.137999e+06</td>\n",
              "      <td>1.137999e+06</td>\n",
              "      <td>1.137999e+06</td>\n",
              "      <td>...</td>\n",
              "      <td>1.137999e+06</td>\n",
              "      <td>1.137999e+06</td>\n",
              "      <td>1.137999e+06</td>\n",
              "      <td>1.137999e+06</td>\n",
              "      <td>1.137999e+06</td>\n",
              "      <td>1.137999e+06</td>\n",
              "      <td>1.137999e+06</td>\n",
              "      <td>1.137999e+06</td>\n",
              "      <td>1.137999e+06</td>\n",
              "      <td>1.137999e+06</td>\n",
              "    </tr>\n",
              "    <tr>\n",
              "      <th>mean</th>\n",
              "      <td>1.707139e+00</td>\n",
              "      <td>7.026306e+00</td>\n",
              "      <td>1.449617e+01</td>\n",
              "      <td>1.411639e+00</td>\n",
              "      <td>1.530153e+01</td>\n",
              "      <td>1.467485e+01</td>\n",
              "      <td>3.866809e+01</td>\n",
              "      <td>1.077421e+00</td>\n",
              "      <td>8.966181e+01</td>\n",
              "      <td>2.463876e+00</td>\n",
              "      <td>...</td>\n",
              "      <td>2.077190e+00</td>\n",
              "      <td>2.051722e+00</td>\n",
              "      <td>3.394174e+00</td>\n",
              "      <td>1.815736e+00</td>\n",
              "      <td>7.948131e+01</td>\n",
              "      <td>1.121889e+00</td>\n",
              "      <td>1.324217e+01</td>\n",
              "      <td>5.469589e+00</td>\n",
              "      <td>9.866344e+01</td>\n",
              "      <td>8.966253e+01</td>\n",
              "    </tr>\n",
              "    <tr>\n",
              "      <th>std</th>\n",
              "      <td>4.550752e-01</td>\n",
              "      <td>3.828800e+00</td>\n",
              "      <td>7.766251e+00</td>\n",
              "      <td>4.921307e-01</td>\n",
              "      <td>9.473238e+00</td>\n",
              "      <td>7.731158e+00</td>\n",
              "      <td>7.593453e+01</td>\n",
              "      <td>2.672584e-01</td>\n",
              "      <td>2.537035e+01</td>\n",
              "      <td>6.898874e+00</td>\n",
              "      <td>...</td>\n",
              "      <td>2.911366e+00</td>\n",
              "      <td>2.986993e+00</td>\n",
              "      <td>1.210453e+01</td>\n",
              "      <td>3.876993e-01</td>\n",
              "      <td>3.686121e+01</td>\n",
              "      <td>3.271582e-01</td>\n",
              "      <td>3.120903e+01</td>\n",
              "      <td>1.930888e+00</td>\n",
              "      <td>5.715180e+00</td>\n",
              "      <td>2.536784e+01</td>\n",
              "    </tr>\n",
              "    <tr>\n",
              "      <th>min</th>\n",
              "      <td>1.000000e+00</td>\n",
              "      <td>1.000000e+00</td>\n",
              "      <td>1.000000e+00</td>\n",
              "      <td>1.000000e+00</td>\n",
              "      <td>1.000000e+00</td>\n",
              "      <td>1.000000e+00</td>\n",
              "      <td>1.000000e+00</td>\n",
              "      <td>1.000000e+00</td>\n",
              "      <td>1.000000e+00</td>\n",
              "      <td>1.000000e+00</td>\n",
              "      <td>...</td>\n",
              "      <td>1.000000e+00</td>\n",
              "      <td>1.000000e+00</td>\n",
              "      <td>1.000000e+00</td>\n",
              "      <td>1.000000e+00</td>\n",
              "      <td>1.000000e+00</td>\n",
              "      <td>1.000000e+00</td>\n",
              "      <td>1.000000e+00</td>\n",
              "      <td>1.000000e+00</td>\n",
              "      <td>1.000000e+00</td>\n",
              "      <td>1.000000e+00</td>\n",
              "    </tr>\n",
              "    <tr>\n",
              "      <th>25%</th>\n",
              "      <td>1.000000e+00</td>\n",
              "      <td>4.000000e+00</td>\n",
              "      <td>9.000000e+00</td>\n",
              "      <td>1.000000e+00</td>\n",
              "      <td>9.000000e+00</td>\n",
              "      <td>9.000000e+00</td>\n",
              "      <td>7.000000e+00</td>\n",
              "      <td>1.000000e+00</td>\n",
              "      <td>9.700000e+01</td>\n",
              "      <td>2.000000e+00</td>\n",
              "      <td>...</td>\n",
              "      <td>2.000000e+00</td>\n",
              "      <td>2.000000e+00</td>\n",
              "      <td>2.000000e+00</td>\n",
              "      <td>2.000000e+00</td>\n",
              "      <td>9.700000e+01</td>\n",
              "      <td>1.000000e+00</td>\n",
              "      <td>1.000000e+00</td>\n",
              "      <td>3.000000e+00</td>\n",
              "      <td>9.900000e+01</td>\n",
              "      <td>9.700000e+01</td>\n",
              "    </tr>\n",
              "    <tr>\n",
              "      <th>50%</th>\n",
              "      <td>2.000000e+00</td>\n",
              "      <td>4.000000e+00</td>\n",
              "      <td>1.200000e+01</td>\n",
              "      <td>1.000000e+00</td>\n",
              "      <td>1.400000e+01</td>\n",
              "      <td>1.400000e+01</td>\n",
              "      <td>1.700000e+01</td>\n",
              "      <td>1.000000e+00</td>\n",
              "      <td>9.700000e+01</td>\n",
              "      <td>2.000000e+00</td>\n",
              "      <td>...</td>\n",
              "      <td>2.000000e+00</td>\n",
              "      <td>2.000000e+00</td>\n",
              "      <td>2.000000e+00</td>\n",
              "      <td>2.000000e+00</td>\n",
              "      <td>9.700000e+01</td>\n",
              "      <td>1.000000e+00</td>\n",
              "      <td>2.000000e+00</td>\n",
              "      <td>7.000000e+00</td>\n",
              "      <td>9.900000e+01</td>\n",
              "      <td>9.700000e+01</td>\n",
              "    </tr>\n",
              "    <tr>\n",
              "      <th>75%</th>\n",
              "      <td>2.000000e+00</td>\n",
              "      <td>1.200000e+01</td>\n",
              "      <td>2.000000e+01</td>\n",
              "      <td>2.000000e+00</td>\n",
              "      <td>2.100000e+01</td>\n",
              "      <td>2.000000e+01</td>\n",
              "      <td>4.400000e+01</td>\n",
              "      <td>1.000000e+00</td>\n",
              "      <td>9.700000e+01</td>\n",
              "      <td>2.000000e+00</td>\n",
              "      <td>...</td>\n",
              "      <td>2.000000e+00</td>\n",
              "      <td>2.000000e+00</td>\n",
              "      <td>2.000000e+00</td>\n",
              "      <td>2.000000e+00</td>\n",
              "      <td>9.700000e+01</td>\n",
              "      <td>1.000000e+00</td>\n",
              "      <td>2.000000e+00</td>\n",
              "      <td>7.000000e+00</td>\n",
              "      <td>9.900000e+01</td>\n",
              "      <td>9.700000e+01</td>\n",
              "    </tr>\n",
              "    <tr>\n",
              "      <th>max</th>\n",
              "      <td>2.000000e+00</td>\n",
              "      <td>9.900000e+01</td>\n",
              "      <td>3.200000e+01</td>\n",
              "      <td>2.000000e+00</td>\n",
              "      <td>9.900000e+01</td>\n",
              "      <td>3.200000e+01</td>\n",
              "      <td>9.990000e+02</td>\n",
              "      <td>2.000000e+00</td>\n",
              "      <td>9.900000e+01</td>\n",
              "      <td>9.900000e+01</td>\n",
              "      <td>...</td>\n",
              "      <td>9.800000e+01</td>\n",
              "      <td>9.800000e+01</td>\n",
              "      <td>9.900000e+01</td>\n",
              "      <td>2.000000e+00</td>\n",
              "      <td>9.700000e+01</td>\n",
              "      <td>2.000000e+00</td>\n",
              "      <td>9.700000e+01</td>\n",
              "      <td>7.000000e+00</td>\n",
              "      <td>9.900000e+01</td>\n",
              "      <td>9.900000e+01</td>\n",
              "    </tr>\n",
              "  </tbody>\n",
              "</table>\n",
              "<p>8 rows × 33 columns</p>\n",
              "</div>\n",
              "    <div class=\"colab-df-buttons\">\n",
              "\n",
              "  <div class=\"colab-df-container\">\n",
              "    <button class=\"colab-df-convert\" onclick=\"convertToInteractive('df-ac12d376-67b4-4a2e-8940-b7e468d81192')\"\n",
              "            title=\"Convert this dataframe to an interactive table.\"\n",
              "            style=\"display:none;\">\n",
              "\n",
              "  <svg xmlns=\"http://www.w3.org/2000/svg\" height=\"24px\" viewBox=\"0 -960 960 960\">\n",
              "    <path d=\"M120-120v-720h720v720H120Zm60-500h600v-160H180v160Zm220 220h160v-160H400v160Zm0 220h160v-160H400v160ZM180-400h160v-160H180v160Zm440 0h160v-160H620v160ZM180-180h160v-160H180v160Zm440 0h160v-160H620v160Z\"/>\n",
              "  </svg>\n",
              "    </button>\n",
              "\n",
              "  <style>\n",
              "    .colab-df-container {\n",
              "      display:flex;\n",
              "      gap: 12px;\n",
              "    }\n",
              "\n",
              "    .colab-df-convert {\n",
              "      background-color: #E8F0FE;\n",
              "      border: none;\n",
              "      border-radius: 50%;\n",
              "      cursor: pointer;\n",
              "      display: none;\n",
              "      fill: #1967D2;\n",
              "      height: 32px;\n",
              "      padding: 0 0 0 0;\n",
              "      width: 32px;\n",
              "    }\n",
              "\n",
              "    .colab-df-convert:hover {\n",
              "      background-color: #E2EBFA;\n",
              "      box-shadow: 0px 1px 2px rgba(60, 64, 67, 0.3), 0px 1px 3px 1px rgba(60, 64, 67, 0.15);\n",
              "      fill: #174EA6;\n",
              "    }\n",
              "\n",
              "    .colab-df-buttons div {\n",
              "      margin-bottom: 4px;\n",
              "    }\n",
              "\n",
              "    [theme=dark] .colab-df-convert {\n",
              "      background-color: #3B4455;\n",
              "      fill: #D2E3FC;\n",
              "    }\n",
              "\n",
              "    [theme=dark] .colab-df-convert:hover {\n",
              "      background-color: #434B5C;\n",
              "      box-shadow: 0px 1px 3px 1px rgba(0, 0, 0, 0.15);\n",
              "      filter: drop-shadow(0px 1px 2px rgba(0, 0, 0, 0.3));\n",
              "      fill: #FFFFFF;\n",
              "    }\n",
              "  </style>\n",
              "\n",
              "    <script>\n",
              "      const buttonEl =\n",
              "        document.querySelector('#df-ac12d376-67b4-4a2e-8940-b7e468d81192 button.colab-df-convert');\n",
              "      buttonEl.style.display =\n",
              "        google.colab.kernel.accessAllowed ? 'block' : 'none';\n",
              "\n",
              "      async function convertToInteractive(key) {\n",
              "        const element = document.querySelector('#df-ac12d376-67b4-4a2e-8940-b7e468d81192');\n",
              "        const dataTable =\n",
              "          await google.colab.kernel.invokeFunction('convertToInteractive',\n",
              "                                                    [key], {});\n",
              "        if (!dataTable) return;\n",
              "\n",
              "        const docLinkHtml = 'Like what you see? Visit the ' +\n",
              "          '<a target=\"_blank\" href=https://colab.research.google.com/notebooks/data_table.ipynb>data table notebook</a>'\n",
              "          + ' to learn more about interactive tables.';\n",
              "        element.innerHTML = '';\n",
              "        dataTable['output_type'] = 'display_data';\n",
              "        await google.colab.output.renderOutput(dataTable, element);\n",
              "        const docLink = document.createElement('div');\n",
              "        docLink.innerHTML = docLinkHtml;\n",
              "        element.appendChild(docLink);\n",
              "      }\n",
              "    </script>\n",
              "  </div>\n",
              "\n",
              "\n",
              "<div id=\"df-00a19753-2b06-42f6-984e-7571e9c6b92b\">\n",
              "  <button class=\"colab-df-quickchart\" onclick=\"quickchart('df-00a19753-2b06-42f6-984e-7571e9c6b92b')\"\n",
              "            title=\"Suggest charts.\"\n",
              "            style=\"display:none;\">\n",
              "\n",
              "<svg xmlns=\"http://www.w3.org/2000/svg\" height=\"24px\"viewBox=\"0 0 24 24\"\n",
              "     width=\"24px\">\n",
              "    <g>\n",
              "        <path d=\"M19 3H5c-1.1 0-2 .9-2 2v14c0 1.1.9 2 2 2h14c1.1 0 2-.9 2-2V5c0-1.1-.9-2-2-2zM9 17H7v-7h2v7zm4 0h-2V7h2v10zm4 0h-2v-4h2v4z\"/>\n",
              "    </g>\n",
              "</svg>\n",
              "  </button>\n",
              "\n",
              "<style>\n",
              "  .colab-df-quickchart {\n",
              "      --bg-color: #E8F0FE;\n",
              "      --fill-color: #1967D2;\n",
              "      --hover-bg-color: #E2EBFA;\n",
              "      --hover-fill-color: #174EA6;\n",
              "      --disabled-fill-color: #AAA;\n",
              "      --disabled-bg-color: #DDD;\n",
              "  }\n",
              "\n",
              "  [theme=dark] .colab-df-quickchart {\n",
              "      --bg-color: #3B4455;\n",
              "      --fill-color: #D2E3FC;\n",
              "      --hover-bg-color: #434B5C;\n",
              "      --hover-fill-color: #FFFFFF;\n",
              "      --disabled-bg-color: #3B4455;\n",
              "      --disabled-fill-color: #666;\n",
              "  }\n",
              "\n",
              "  .colab-df-quickchart {\n",
              "    background-color: var(--bg-color);\n",
              "    border: none;\n",
              "    border-radius: 50%;\n",
              "    cursor: pointer;\n",
              "    display: none;\n",
              "    fill: var(--fill-color);\n",
              "    height: 32px;\n",
              "    padding: 0;\n",
              "    width: 32px;\n",
              "  }\n",
              "\n",
              "  .colab-df-quickchart:hover {\n",
              "    background-color: var(--hover-bg-color);\n",
              "    box-shadow: 0 1px 2px rgba(60, 64, 67, 0.3), 0 1px 3px 1px rgba(60, 64, 67, 0.15);\n",
              "    fill: var(--button-hover-fill-color);\n",
              "  }\n",
              "\n",
              "  .colab-df-quickchart-complete:disabled,\n",
              "  .colab-df-quickchart-complete:disabled:hover {\n",
              "    background-color: var(--disabled-bg-color);\n",
              "    fill: var(--disabled-fill-color);\n",
              "    box-shadow: none;\n",
              "  }\n",
              "\n",
              "  .colab-df-spinner {\n",
              "    border: 2px solid var(--fill-color);\n",
              "    border-color: transparent;\n",
              "    border-bottom-color: var(--fill-color);\n",
              "    animation:\n",
              "      spin 1s steps(1) infinite;\n",
              "  }\n",
              "\n",
              "  @keyframes spin {\n",
              "    0% {\n",
              "      border-color: transparent;\n",
              "      border-bottom-color: var(--fill-color);\n",
              "      border-left-color: var(--fill-color);\n",
              "    }\n",
              "    20% {\n",
              "      border-color: transparent;\n",
              "      border-left-color: var(--fill-color);\n",
              "      border-top-color: var(--fill-color);\n",
              "    }\n",
              "    30% {\n",
              "      border-color: transparent;\n",
              "      border-left-color: var(--fill-color);\n",
              "      border-top-color: var(--fill-color);\n",
              "      border-right-color: var(--fill-color);\n",
              "    }\n",
              "    40% {\n",
              "      border-color: transparent;\n",
              "      border-right-color: var(--fill-color);\n",
              "      border-top-color: var(--fill-color);\n",
              "    }\n",
              "    60% {\n",
              "      border-color: transparent;\n",
              "      border-right-color: var(--fill-color);\n",
              "    }\n",
              "    80% {\n",
              "      border-color: transparent;\n",
              "      border-right-color: var(--fill-color);\n",
              "      border-bottom-color: var(--fill-color);\n",
              "    }\n",
              "    90% {\n",
              "      border-color: transparent;\n",
              "      border-bottom-color: var(--fill-color);\n",
              "    }\n",
              "  }\n",
              "</style>\n",
              "\n",
              "  <script>\n",
              "    async function quickchart(key) {\n",
              "      const quickchartButtonEl =\n",
              "        document.querySelector('#' + key + ' button');\n",
              "      quickchartButtonEl.disabled = true;  // To prevent multiple clicks.\n",
              "      quickchartButtonEl.classList.add('colab-df-spinner');\n",
              "      try {\n",
              "        const charts = await google.colab.kernel.invokeFunction(\n",
              "            'suggestCharts', [key], {});\n",
              "      } catch (error) {\n",
              "        console.error('Error during call to suggestCharts:', error);\n",
              "      }\n",
              "      quickchartButtonEl.classList.remove('colab-df-spinner');\n",
              "      quickchartButtonEl.classList.add('colab-df-quickchart-complete');\n",
              "    }\n",
              "    (() => {\n",
              "      let quickchartButtonEl =\n",
              "        document.querySelector('#df-00a19753-2b06-42f6-984e-7571e9c6b92b button');\n",
              "      quickchartButtonEl.style.display =\n",
              "        google.colab.kernel.accessAllowed ? 'block' : 'none';\n",
              "    })();\n",
              "  </script>\n",
              "</div>\n",
              "    </div>\n",
              "  </div>\n"
            ]
          },
          "metadata": {},
          "execution_count": 47
        }
      ]
    },
    {
      "cell_type": "code",
      "source": [
        "df.describe(include=[\"object\", \"bool\"])"
      ],
      "metadata": {
        "colab": {
          "base_uri": "https://localhost:8080/",
          "height": 175
        },
        "id": "EM3M4m0EPcrq",
        "outputId": "d252753e-15e2-44f3-dc6f-fab93df63a71"
      },
      "execution_count": null,
      "outputs": [
        {
          "output_type": "execute_result",
          "data": {
            "text/plain": [
              "       FECHA_ACTUALIZACION ID_REGISTRO FECHA_INGRESO FECHA_SINTOMAS  \\\n",
              "count              1137999     1137999       1137999        1137999   \n",
              "unique                   1     1137999           261            261   \n",
              "top             2023-09-19      0ed066    2023-01-09     2023-01-02   \n",
              "freq               1137999           1         14933          13655   \n",
              "\n",
              "         FECHA_DEF PAIS_NACIONALIDAD PAIS_ORIGEN FALLECIDO  \n",
              "count      1137999           1137999     1137999   1137999  \n",
              "unique         262               102          51         2  \n",
              "top     9999-99-99            México          97        NO  \n",
              "freq       1130442           1133142     1136494   1130442  "
            ],
            "text/html": [
              "\n",
              "  <div id=\"df-bde047f0-5228-44bd-bcdf-a36b07e0193f\" class=\"colab-df-container\">\n",
              "    <div>\n",
              "<style scoped>\n",
              "    .dataframe tbody tr th:only-of-type {\n",
              "        vertical-align: middle;\n",
              "    }\n",
              "\n",
              "    .dataframe tbody tr th {\n",
              "        vertical-align: top;\n",
              "    }\n",
              "\n",
              "    .dataframe thead th {\n",
              "        text-align: right;\n",
              "    }\n",
              "</style>\n",
              "<table border=\"1\" class=\"dataframe\">\n",
              "  <thead>\n",
              "    <tr style=\"text-align: right;\">\n",
              "      <th></th>\n",
              "      <th>FECHA_ACTUALIZACION</th>\n",
              "      <th>ID_REGISTRO</th>\n",
              "      <th>FECHA_INGRESO</th>\n",
              "      <th>FECHA_SINTOMAS</th>\n",
              "      <th>FECHA_DEF</th>\n",
              "      <th>PAIS_NACIONALIDAD</th>\n",
              "      <th>PAIS_ORIGEN</th>\n",
              "      <th>FALLECIDO</th>\n",
              "    </tr>\n",
              "  </thead>\n",
              "  <tbody>\n",
              "    <tr>\n",
              "      <th>count</th>\n",
              "      <td>1137999</td>\n",
              "      <td>1137999</td>\n",
              "      <td>1137999</td>\n",
              "      <td>1137999</td>\n",
              "      <td>1137999</td>\n",
              "      <td>1137999</td>\n",
              "      <td>1137999</td>\n",
              "      <td>1137999</td>\n",
              "    </tr>\n",
              "    <tr>\n",
              "      <th>unique</th>\n",
              "      <td>1</td>\n",
              "      <td>1137999</td>\n",
              "      <td>261</td>\n",
              "      <td>261</td>\n",
              "      <td>262</td>\n",
              "      <td>102</td>\n",
              "      <td>51</td>\n",
              "      <td>2</td>\n",
              "    </tr>\n",
              "    <tr>\n",
              "      <th>top</th>\n",
              "      <td>2023-09-19</td>\n",
              "      <td>0ed066</td>\n",
              "      <td>2023-01-09</td>\n",
              "      <td>2023-01-02</td>\n",
              "      <td>9999-99-99</td>\n",
              "      <td>México</td>\n",
              "      <td>97</td>\n",
              "      <td>NO</td>\n",
              "    </tr>\n",
              "    <tr>\n",
              "      <th>freq</th>\n",
              "      <td>1137999</td>\n",
              "      <td>1</td>\n",
              "      <td>14933</td>\n",
              "      <td>13655</td>\n",
              "      <td>1130442</td>\n",
              "      <td>1133142</td>\n",
              "      <td>1136494</td>\n",
              "      <td>1130442</td>\n",
              "    </tr>\n",
              "  </tbody>\n",
              "</table>\n",
              "</div>\n",
              "    <div class=\"colab-df-buttons\">\n",
              "\n",
              "  <div class=\"colab-df-container\">\n",
              "    <button class=\"colab-df-convert\" onclick=\"convertToInteractive('df-bde047f0-5228-44bd-bcdf-a36b07e0193f')\"\n",
              "            title=\"Convert this dataframe to an interactive table.\"\n",
              "            style=\"display:none;\">\n",
              "\n",
              "  <svg xmlns=\"http://www.w3.org/2000/svg\" height=\"24px\" viewBox=\"0 -960 960 960\">\n",
              "    <path d=\"M120-120v-720h720v720H120Zm60-500h600v-160H180v160Zm220 220h160v-160H400v160Zm0 220h160v-160H400v160ZM180-400h160v-160H180v160Zm440 0h160v-160H620v160ZM180-180h160v-160H180v160Zm440 0h160v-160H620v160Z\"/>\n",
              "  </svg>\n",
              "    </button>\n",
              "\n",
              "  <style>\n",
              "    .colab-df-container {\n",
              "      display:flex;\n",
              "      gap: 12px;\n",
              "    }\n",
              "\n",
              "    .colab-df-convert {\n",
              "      background-color: #E8F0FE;\n",
              "      border: none;\n",
              "      border-radius: 50%;\n",
              "      cursor: pointer;\n",
              "      display: none;\n",
              "      fill: #1967D2;\n",
              "      height: 32px;\n",
              "      padding: 0 0 0 0;\n",
              "      width: 32px;\n",
              "    }\n",
              "\n",
              "    .colab-df-convert:hover {\n",
              "      background-color: #E2EBFA;\n",
              "      box-shadow: 0px 1px 2px rgba(60, 64, 67, 0.3), 0px 1px 3px 1px rgba(60, 64, 67, 0.15);\n",
              "      fill: #174EA6;\n",
              "    }\n",
              "\n",
              "    .colab-df-buttons div {\n",
              "      margin-bottom: 4px;\n",
              "    }\n",
              "\n",
              "    [theme=dark] .colab-df-convert {\n",
              "      background-color: #3B4455;\n",
              "      fill: #D2E3FC;\n",
              "    }\n",
              "\n",
              "    [theme=dark] .colab-df-convert:hover {\n",
              "      background-color: #434B5C;\n",
              "      box-shadow: 0px 1px 3px 1px rgba(0, 0, 0, 0.15);\n",
              "      filter: drop-shadow(0px 1px 2px rgba(0, 0, 0, 0.3));\n",
              "      fill: #FFFFFF;\n",
              "    }\n",
              "  </style>\n",
              "\n",
              "    <script>\n",
              "      const buttonEl =\n",
              "        document.querySelector('#df-bde047f0-5228-44bd-bcdf-a36b07e0193f button.colab-df-convert');\n",
              "      buttonEl.style.display =\n",
              "        google.colab.kernel.accessAllowed ? 'block' : 'none';\n",
              "\n",
              "      async function convertToInteractive(key) {\n",
              "        const element = document.querySelector('#df-bde047f0-5228-44bd-bcdf-a36b07e0193f');\n",
              "        const dataTable =\n",
              "          await google.colab.kernel.invokeFunction('convertToInteractive',\n",
              "                                                    [key], {});\n",
              "        if (!dataTable) return;\n",
              "\n",
              "        const docLinkHtml = 'Like what you see? Visit the ' +\n",
              "          '<a target=\"_blank\" href=https://colab.research.google.com/notebooks/data_table.ipynb>data table notebook</a>'\n",
              "          + ' to learn more about interactive tables.';\n",
              "        element.innerHTML = '';\n",
              "        dataTable['output_type'] = 'display_data';\n",
              "        await google.colab.output.renderOutput(dataTable, element);\n",
              "        const docLink = document.createElement('div');\n",
              "        docLink.innerHTML = docLinkHtml;\n",
              "        element.appendChild(docLink);\n",
              "      }\n",
              "    </script>\n",
              "  </div>\n",
              "\n",
              "\n",
              "<div id=\"df-64cdee51-9287-42d7-b303-75700b9dff7e\">\n",
              "  <button class=\"colab-df-quickchart\" onclick=\"quickchart('df-64cdee51-9287-42d7-b303-75700b9dff7e')\"\n",
              "            title=\"Suggest charts.\"\n",
              "            style=\"display:none;\">\n",
              "\n",
              "<svg xmlns=\"http://www.w3.org/2000/svg\" height=\"24px\"viewBox=\"0 0 24 24\"\n",
              "     width=\"24px\">\n",
              "    <g>\n",
              "        <path d=\"M19 3H5c-1.1 0-2 .9-2 2v14c0 1.1.9 2 2 2h14c1.1 0 2-.9 2-2V5c0-1.1-.9-2-2-2zM9 17H7v-7h2v7zm4 0h-2V7h2v10zm4 0h-2v-4h2v4z\"/>\n",
              "    </g>\n",
              "</svg>\n",
              "  </button>\n",
              "\n",
              "<style>\n",
              "  .colab-df-quickchart {\n",
              "      --bg-color: #E8F0FE;\n",
              "      --fill-color: #1967D2;\n",
              "      --hover-bg-color: #E2EBFA;\n",
              "      --hover-fill-color: #174EA6;\n",
              "      --disabled-fill-color: #AAA;\n",
              "      --disabled-bg-color: #DDD;\n",
              "  }\n",
              "\n",
              "  [theme=dark] .colab-df-quickchart {\n",
              "      --bg-color: #3B4455;\n",
              "      --fill-color: #D2E3FC;\n",
              "      --hover-bg-color: #434B5C;\n",
              "      --hover-fill-color: #FFFFFF;\n",
              "      --disabled-bg-color: #3B4455;\n",
              "      --disabled-fill-color: #666;\n",
              "  }\n",
              "\n",
              "  .colab-df-quickchart {\n",
              "    background-color: var(--bg-color);\n",
              "    border: none;\n",
              "    border-radius: 50%;\n",
              "    cursor: pointer;\n",
              "    display: none;\n",
              "    fill: var(--fill-color);\n",
              "    height: 32px;\n",
              "    padding: 0;\n",
              "    width: 32px;\n",
              "  }\n",
              "\n",
              "  .colab-df-quickchart:hover {\n",
              "    background-color: var(--hover-bg-color);\n",
              "    box-shadow: 0 1px 2px rgba(60, 64, 67, 0.3), 0 1px 3px 1px rgba(60, 64, 67, 0.15);\n",
              "    fill: var(--button-hover-fill-color);\n",
              "  }\n",
              "\n",
              "  .colab-df-quickchart-complete:disabled,\n",
              "  .colab-df-quickchart-complete:disabled:hover {\n",
              "    background-color: var(--disabled-bg-color);\n",
              "    fill: var(--disabled-fill-color);\n",
              "    box-shadow: none;\n",
              "  }\n",
              "\n",
              "  .colab-df-spinner {\n",
              "    border: 2px solid var(--fill-color);\n",
              "    border-color: transparent;\n",
              "    border-bottom-color: var(--fill-color);\n",
              "    animation:\n",
              "      spin 1s steps(1) infinite;\n",
              "  }\n",
              "\n",
              "  @keyframes spin {\n",
              "    0% {\n",
              "      border-color: transparent;\n",
              "      border-bottom-color: var(--fill-color);\n",
              "      border-left-color: var(--fill-color);\n",
              "    }\n",
              "    20% {\n",
              "      border-color: transparent;\n",
              "      border-left-color: var(--fill-color);\n",
              "      border-top-color: var(--fill-color);\n",
              "    }\n",
              "    30% {\n",
              "      border-color: transparent;\n",
              "      border-left-color: var(--fill-color);\n",
              "      border-top-color: var(--fill-color);\n",
              "      border-right-color: var(--fill-color);\n",
              "    }\n",
              "    40% {\n",
              "      border-color: transparent;\n",
              "      border-right-color: var(--fill-color);\n",
              "      border-top-color: var(--fill-color);\n",
              "    }\n",
              "    60% {\n",
              "      border-color: transparent;\n",
              "      border-right-color: var(--fill-color);\n",
              "    }\n",
              "    80% {\n",
              "      border-color: transparent;\n",
              "      border-right-color: var(--fill-color);\n",
              "      border-bottom-color: var(--fill-color);\n",
              "    }\n",
              "    90% {\n",
              "      border-color: transparent;\n",
              "      border-bottom-color: var(--fill-color);\n",
              "    }\n",
              "  }\n",
              "</style>\n",
              "\n",
              "  <script>\n",
              "    async function quickchart(key) {\n",
              "      const quickchartButtonEl =\n",
              "        document.querySelector('#' + key + ' button');\n",
              "      quickchartButtonEl.disabled = true;  // To prevent multiple clicks.\n",
              "      quickchartButtonEl.classList.add('colab-df-spinner');\n",
              "      try {\n",
              "        const charts = await google.colab.kernel.invokeFunction(\n",
              "            'suggestCharts', [key], {});\n",
              "      } catch (error) {\n",
              "        console.error('Error during call to suggestCharts:', error);\n",
              "      }\n",
              "      quickchartButtonEl.classList.remove('colab-df-spinner');\n",
              "      quickchartButtonEl.classList.add('colab-df-quickchart-complete');\n",
              "    }\n",
              "    (() => {\n",
              "      let quickchartButtonEl =\n",
              "        document.querySelector('#df-64cdee51-9287-42d7-b303-75700b9dff7e button');\n",
              "      quickchartButtonEl.style.display =\n",
              "        google.colab.kernel.accessAllowed ? 'block' : 'none';\n",
              "    })();\n",
              "  </script>\n",
              "</div>\n",
              "    </div>\n",
              "  </div>\n"
            ]
          },
          "metadata": {},
          "execution_count": 48
        }
      ]
    },
    {
      "cell_type": "code",
      "source": [
        "df['FECHA_ACTUALIZACION'].value_counts()"
      ],
      "metadata": {
        "colab": {
          "base_uri": "https://localhost:8080/"
        },
        "id": "v0vsLqjPP1pL",
        "outputId": "028cb466-3c2c-409f-bf85-2986087d0f97"
      },
      "execution_count": null,
      "outputs": [
        {
          "output_type": "execute_result",
          "data": {
            "text/plain": [
              "2023-09-19    1137999\n",
              "Name: FECHA_ACTUALIZACION, dtype: int64"
            ]
          },
          "metadata": {},
          "execution_count": 51
        }
      ]
    },
    {
      "cell_type": "code",
      "source": [
        "df['ORIGEN'].value_counts()"
      ],
      "metadata": {
        "colab": {
          "base_uri": "https://localhost:8080/"
        },
        "id": "cH_Y5pmMQ7uW",
        "outputId": "e3a971c9-0acb-44b0-f3aa-6f2c2ff825c4"
      },
      "execution_count": null,
      "outputs": [
        {
          "output_type": "execute_result",
          "data": {
            "text/plain": [
              "2    804724\n",
              "1    333275\n",
              "Name: ORIGEN, dtype: int64"
            ]
          },
          "metadata": {},
          "execution_count": 52
        }
      ]
    },
    {
      "cell_type": "code",
      "source": [
        "df['SECTOR'].value_counts()"
      ],
      "metadata": {
        "colab": {
          "base_uri": "https://localhost:8080/"
        },
        "id": "lThLCGptQ-1Y",
        "outputId": "0bd7e2d4-de7f-4e2f-f509-90e3118fbd3a"
      },
      "execution_count": null,
      "outputs": [
        {
          "output_type": "execute_result",
          "data": {
            "text/plain": [
              "4     610985\n",
              "12    357817\n",
              "9      86923\n",
              "6      56596\n",
              "3      16557\n",
              "8       2912\n",
              "5       2811\n",
              "13      1294\n",
              "7        720\n",
              "11       483\n",
              "10       407\n",
              "2        293\n",
              "99       176\n",
              "1         25\n",
              "Name: SECTOR, dtype: int64"
            ]
          },
          "metadata": {},
          "execution_count": 53
        }
      ]
    },
    {
      "cell_type": "code",
      "source": [
        "df['ENTIDAD_UM'].value_counts()"
      ],
      "metadata": {
        "colab": {
          "base_uri": "https://localhost:8080/"
        },
        "id": "o9eUMcBzRBXO",
        "outputId": "06069e17-2a3e-4f6c-980a-4d1f6443509c"
      },
      "execution_count": null,
      "outputs": [
        {
          "output_type": "execute_result",
          "data": {
            "text/plain": [
              "9     321722\n",
              "15     83162\n",
              "11     63330\n",
              "19     61991\n",
              "21     40367\n",
              "22     35252\n",
              "2      34433\n",
              "24     34031\n",
              "7      33987\n",
              "20     30124\n",
              "14     28480\n",
              "30     26923\n",
              "28     26815\n",
              "5      26163\n",
              "17     24845\n",
              "13     23026\n",
              "25     22797\n",
              "26     22023\n",
              "16     21538\n",
              "3      19267\n",
              "31     17762\n",
              "12     16785\n",
              "1      16264\n",
              "27     15467\n",
              "18     15283\n",
              "29     13603\n",
              "8      13382\n",
              "6      12564\n",
              "32     11712\n",
              "23     10967\n",
              "10      9103\n",
              "4       4831\n",
              "Name: ENTIDAD_UM, dtype: int64"
            ]
          },
          "metadata": {},
          "execution_count": 54
        }
      ]
    },
    {
      "cell_type": "code",
      "source": [
        "df['SEXO'].value_counts()"
      ],
      "metadata": {
        "colab": {
          "base_uri": "https://localhost:8080/"
        },
        "id": "Ug1xZfVwRC1O",
        "outputId": "b61650e1-0316-4c8f-a604-dabbd77f7fbd"
      },
      "execution_count": null,
      "outputs": [
        {
          "output_type": "execute_result",
          "data": {
            "text/plain": [
              "1    669554\n",
              "2    468445\n",
              "Name: SEXO, dtype: int64"
            ]
          },
          "metadata": {},
          "execution_count": 55
        }
      ]
    },
    {
      "cell_type": "code",
      "source": [
        "df['ENTIDAD_NAC'].value_counts()"
      ],
      "metadata": {
        "colab": {
          "base_uri": "https://localhost:8080/"
        },
        "id": "6a7yjjZ_RERX",
        "outputId": "8d704498-4a39-4109-e08d-c2a4eadd6548"
      },
      "execution_count": null,
      "outputs": [
        {
          "output_type": "execute_result",
          "data": {
            "text/plain": [
              "9     295587\n",
              "15    107838\n",
              "11     64227\n",
              "19     52458\n",
              "21     42628\n",
              "30     39247\n",
              "7      37791\n",
              "20     35105\n",
              "24     34094\n",
              "14     30113\n",
              "5      26531\n",
              "25     26497\n",
              "28     25752\n",
              "16     25650\n",
              "12     25443\n",
              "17     23673\n",
              "22     23587\n",
              "26     22289\n",
              "13     22194\n",
              "2      20268\n",
              "31     18756\n",
              "27     16876\n",
              "1      15961\n",
              "18     14902\n",
              "29     13576\n",
              "8      13474\n",
              "32     12974\n",
              "3      12669\n",
              "6      11091\n",
              "10     10780\n",
              "23      6036\n",
              "4       5065\n",
              "99      4867\n",
              "Name: ENTIDAD_NAC, dtype: int64"
            ]
          },
          "metadata": {},
          "execution_count": 56
        }
      ]
    },
    {
      "cell_type": "code",
      "source": [
        "df['ENTIDAD_RES'].value_counts()"
      ],
      "metadata": {
        "colab": {
          "base_uri": "https://localhost:8080/"
        },
        "id": "WrJzKDkrRFdQ",
        "outputId": "479cfadb-d3ba-4e48-8d17-52ca47e4a26e"
      },
      "execution_count": null,
      "outputs": [
        {
          "output_type": "execute_result",
          "data": {
            "text/plain": [
              "9     289370\n",
              "15    110198\n",
              "11     63518\n",
              "19     61903\n",
              "21     40624\n",
              "22     35505\n",
              "2      34671\n",
              "7      34381\n",
              "24     33660\n",
              "20     30551\n",
              "14     28735\n",
              "30     27860\n",
              "28     26852\n",
              "5      26196\n",
              "17     25359\n",
              "13     23573\n",
              "25     22482\n",
              "26     22134\n",
              "16     22023\n",
              "3      19271\n",
              "31     17777\n",
              "12     17434\n",
              "1      16296\n",
              "27     15358\n",
              "18     15298\n",
              "29     13902\n",
              "8      13484\n",
              "6      12496\n",
              "32     11792\n",
              "23     11132\n",
              "10      9311\n",
              "4       4853\n",
              "Name: ENTIDAD_RES, dtype: int64"
            ]
          },
          "metadata": {},
          "execution_count": 57
        }
      ]
    },
    {
      "cell_type": "code",
      "source": [
        "df['MUNICIPIO_RES'].value_counts()"
      ],
      "metadata": {
        "colab": {
          "base_uri": "https://localhost:8080/"
        },
        "id": "xBvHU462RJjr",
        "outputId": "9f99a2c0-67e2-4b5c-d0a0-532f84a1818b"
      },
      "execution_count": null,
      "outputs": [
        {
          "output_type": "execute_result",
          "data": {
            "text/plain": [
              "7      59813\n",
              "5      51985\n",
              "14     42380\n",
              "2      41760\n",
              "10     41573\n",
              "       ...  \n",
              "289        1\n",
              "230        1\n",
              "240        1\n",
              "249        1\n",
              "281        1\n",
              "Name: MUNICIPIO_RES, Length: 471, dtype: int64"
            ]
          },
          "metadata": {},
          "execution_count": 58
        }
      ]
    },
    {
      "cell_type": "code",
      "source": [
        "df['MUNICIPIO_RES'].hist()"
      ],
      "metadata": {
        "colab": {
          "base_uri": "https://localhost:8080/",
          "height": 463
        },
        "id": "c99AC3pPSGsV",
        "outputId": "0fa205d3-cb5a-4624-8e4f-3a5061d98ec5"
      },
      "execution_count": null,
      "outputs": [
        {
          "output_type": "execute_result",
          "data": {
            "text/plain": [
              "<Axes: >"
            ]
          },
          "metadata": {},
          "execution_count": 59
        },
        {
          "output_type": "display_data",
          "data": {
            "text/plain": [
              "<Figure size 640x480 with 1 Axes>"
            ],
            "image/png": "[encoded data removed]"
          },
          "metadata": {}
        }
      ]
    },
    {
      "cell_type": "code",
      "source": [
        "df['TIPO_PACIENTE'].value_counts()"
      ],
      "metadata": {
        "colab": {
          "base_uri": "https://localhost:8080/"
        },
        "id": "H-dvie3dRLE-",
        "outputId": "bc1801ab-6d66-43a0-d357-8de8bc7f5952"
      },
      "execution_count": null,
      "outputs": [
        {
          "output_type": "execute_result",
          "data": {
            "text/plain": [
              "1    1049894\n",
              "2      88105\n",
              "Name: TIPO_PACIENTE, dtype: int64"
            ]
          },
          "metadata": {},
          "execution_count": 60
        }
      ]
    },
    {
      "cell_type": "code",
      "source": [
        "df['FECHA_INGRESO'].value_counts()"
      ],
      "metadata": {
        "colab": {
          "base_uri": "https://localhost:8080/"
        },
        "id": "FDHrHl_DROOO",
        "outputId": "db75a3ac-fcc8-4d0d-ac9e-135669f9a9cc"
      },
      "execution_count": null,
      "outputs": [
        {
          "output_type": "execute_result",
          "data": {
            "text/plain": [
              "2023-01-09    14933\n",
              "2023-01-23    13205\n",
              "2023-01-10    13112\n",
              "2023-01-16    12823\n",
              "2023-01-11    12470\n",
              "              ...  \n",
              "2023-09-16      547\n",
              "2023-06-24      542\n",
              "2023-07-16      524\n",
              "2023-07-02      523\n",
              "2023-07-29      493\n",
              "Name: FECHA_INGRESO, Length: 261, dtype: int64"
            ]
          },
          "metadata": {},
          "execution_count": 61
        }
      ]
    },
    {
      "cell_type": "code",
      "source": [
        "df['FECHA_INGRESO'].str[:7].hist()"
      ],
      "metadata": {
        "colab": {
          "base_uri": "https://localhost:8080/",
          "height": 448
        },
        "id": "br-pHc0nSdKQ",
        "outputId": "494fc877-5c0d-47e1-f629-6ab40e033d19"
      },
      "execution_count": null,
      "outputs": [
        {
          "output_type": "execute_result",
          "data": {
            "text/plain": [
              "<Axes: >"
            ]
          },
          "metadata": {},
          "execution_count": 64
        },
        {
          "output_type": "display_data",
          "data": {
            "text/plain": [
              "<Figure size 640x480 with 1 Axes>"
            ],
            "image/png": "[encoded data removed]"
          },
          "metadata": {}
        }
      ]
    },
    {
      "cell_type": "code",
      "source": [
        "df['FECHA_SINTOMAS'].value_counts()"
      ],
      "metadata": {
        "colab": {
          "base_uri": "https://localhost:8080/"
        },
        "id": "lOli0gyxRPmK",
        "outputId": "3b870031-a5db-4008-a294-02c4f7be9d77"
      },
      "execution_count": null,
      "outputs": [
        {
          "output_type": "execute_result",
          "data": {
            "text/plain": [
              "2023-01-02    13655\n",
              "2023-01-09    13312\n",
              "2023-01-01    12822\n",
              "2023-01-03    11891\n",
              "2023-01-16    11399\n",
              "              ...  \n",
              "2023-07-13     1113\n",
              "2023-09-15      934\n",
              "2023-09-16      711\n",
              "2023-09-17      566\n",
              "2023-09-18      210\n",
              "Name: FECHA_SINTOMAS, Length: 261, dtype: int64"
            ]
          },
          "metadata": {},
          "execution_count": 65
        }
      ]
    },
    {
      "cell_type": "code",
      "source": [
        "df['FECHA_SINTOMAS'].str[:7].hist()"
      ],
      "metadata": {
        "colab": {
          "base_uri": "https://localhost:8080/",
          "height": 450
        },
        "id": "Odbhh7FETygf",
        "outputId": "6396c0df-b4c8-4c21-86aa-7cf4dd952aac"
      },
      "execution_count": null,
      "outputs": [
        {
          "output_type": "execute_result",
          "data": {
            "text/plain": [
              "<Axes: >"
            ]
          },
          "metadata": {},
          "execution_count": 66
        },
        {
          "output_type": "display_data",
          "data": {
            "text/plain": [
              "<Figure size 640x480 with 1 Axes>"
            ],
            "image/png": "[encoded data removed]"
          },
          "metadata": {}
        }
      ]
    },
    {
      "cell_type": "code",
      "source": [
        "df['FECHA_DEF'].value_counts()"
      ],
      "metadata": {
        "colab": {
          "base_uri": "https://localhost:8080/"
        },
        "id": "SzMtKUYFRRCA",
        "outputId": "87067a35-823c-420b-d883-3ebf9706f380"
      },
      "execution_count": null,
      "outputs": [
        {
          "output_type": "execute_result",
          "data": {
            "text/plain": [
              "9999-99-99    1130442\n",
              "2023-01-24         97\n",
              "2023-01-17         79\n",
              "2023-01-30         74\n",
              "2023-01-12         72\n",
              "               ...   \n",
              "2023-09-17          8\n",
              "2023-01-01          3\n",
              "2023-01-02          2\n",
              "2023-09-18          2\n",
              "2023-09-16          1\n",
              "Name: FECHA_DEF, Length: 262, dtype: int64"
            ]
          },
          "metadata": {},
          "execution_count": 67
        }
      ]
    },
    {
      "cell_type": "code",
      "source": [
        "fecha_a_exluir = '9999-99-99'\n",
        "df_filtrado = df[df['FECHA_DEF'] != fecha_a_exluir]\n",
        "df_filtrado['FECHA_DEF'].str[:7].hist()"
      ],
      "metadata": {
        "colab": {
          "base_uri": "https://localhost:8080/",
          "height": 448
        },
        "id": "At5RCGDTT7_c",
        "outputId": "3ea70314-f988-40d9-c501-32f6eaff2b1c"
      },
      "execution_count": null,
      "outputs": [
        {
          "output_type": "execute_result",
          "data": {
            "text/plain": [
              "<Axes: >"
            ]
          },
          "metadata": {},
          "execution_count": 72
        },
        {
          "output_type": "display_data",
          "data": {
            "text/plain": [
              "<Figure size 640x480 with 1 Axes>"
            ],
            "image/png": "[encoded data removed]"
          },
          "metadata": {}
        }
      ]
    },
    {
      "cell_type": "code",
      "source": [
        "df['INTUBADO'].value_counts()"
      ],
      "metadata": {
        "colab": {
          "base_uri": "https://localhost:8080/"
        },
        "id": "JtRcRzgDRSdD",
        "outputId": "38f0f363-ece8-4e9f-bc83-ee0e49a978e8"
      },
      "execution_count": null,
      "outputs": [
        {
          "output_type": "execute_result",
          "data": {
            "text/plain": [
              "97    1049894\n",
              "2       83901\n",
              "1        3966\n",
              "99        238\n",
              "Name: INTUBADO, dtype: int64"
            ]
          },
          "metadata": {},
          "execution_count": 73
        }
      ]
    },
    {
      "cell_type": "code",
      "source": [
        "df['NEUMONIA'].value_counts()"
      ],
      "metadata": {
        "colab": {
          "base_uri": "https://localhost:8080/"
        },
        "id": "MVOB02zURTtX",
        "outputId": "64258ea4-424e-440d-edb2-9b21357405b0"
      },
      "execution_count": null,
      "outputs": [
        {
          "output_type": "execute_result",
          "data": {
            "text/plain": [
              "2     1099547\n",
              "1       32673\n",
              "99       5779\n",
              "Name: NEUMONIA, dtype: int64"
            ]
          },
          "metadata": {},
          "execution_count": 74
        }
      ]
    },
    {
      "cell_type": "code",
      "source": [
        "df['EDAD'].value_counts()"
      ],
      "metadata": {
        "colab": {
          "base_uri": "https://localhost:8080/"
        },
        "id": "8JOJqlDvRWu1",
        "outputId": "54a08913-a34a-4e84-e1e5-4e5949da3b4e"
      },
      "execution_count": null,
      "outputs": [
        {
          "output_type": "execute_result",
          "data": {
            "text/plain": [
              "29     26871\n",
              "28     26858\n",
              "31     26496\n",
              "30     26303\n",
              "27     25777\n",
              "       ...  \n",
              "116        2\n",
              "121        2\n",
              "141        1\n",
              "154        1\n",
              "125        1\n",
              "Name: EDAD, Length: 124, dtype: int64"
            ]
          },
          "metadata": {},
          "execution_count": 75
        }
      ]
    },
    {
      "cell_type": "code",
      "source": [
        "df['EDAD'].hist()"
      ],
      "metadata": {
        "colab": {
          "base_uri": "https://localhost:8080/",
          "height": 448
        },
        "id": "85iphCo8Wy16",
        "outputId": "cd6c7d7a-8aec-43d8-d458-25d96750cf09"
      },
      "execution_count": null,
      "outputs": [
        {
          "output_type": "execute_result",
          "data": {
            "text/plain": [
              "<Axes: >"
            ]
          },
          "metadata": {},
          "execution_count": 76
        },
        {
          "output_type": "display_data",
          "data": {
            "text/plain": [
              "<Figure size 640x480 with 1 Axes>"
            ],
            "image/png": "[encoded data removed]"
          },
          "metadata": {}
        }
      ]
    },
    {
      "cell_type": "code",
      "source": [
        "df['EMBARAZO'].value_counts()"
      ],
      "metadata": {
        "colab": {
          "base_uri": "https://localhost:8080/"
        },
        "id": "fT7IO3ZIRYWI",
        "outputId": "28366d48-b2ac-4fcf-8bba-da71cd8f35b0"
      },
      "execution_count": null,
      "outputs": [
        {
          "output_type": "execute_result",
          "data": {
            "text/plain": [
              "2     644342\n",
              "97    468445\n",
              "1      19778\n",
              "98      5429\n",
              "99         5\n",
              "Name: EMBARAZO, dtype: int64"
            ]
          },
          "metadata": {},
          "execution_count": 77
        }
      ]
    },
    {
      "cell_type": "code",
      "source": [
        "df['INDIGENA'].value_counts()"
      ],
      "metadata": {
        "colab": {
          "base_uri": "https://localhost:8080/"
        },
        "id": "UAfga7JLRaTP",
        "outputId": "9f8a2d8a-6619-4771-d24e-36c08fb30e75"
      },
      "execution_count": null,
      "outputs": [
        {
          "output_type": "execute_result",
          "data": {
            "text/plain": [
              "2     1077052\n",
              "99      48726\n",
              "1       12221\n",
              "Name: INDIGENA, dtype: int64"
            ]
          },
          "metadata": {},
          "execution_count": 78
        }
      ]
    },
    {
      "cell_type": "code",
      "source": [
        "df['DIABETES'].value_counts()"
      ],
      "metadata": {
        "colab": {
          "base_uri": "https://localhost:8080/"
        },
        "id": "Ses0TXCFRbkt",
        "outputId": "171a0cab-b3b8-4c28-b7eb-ad14ca5974da"
      },
      "execution_count": null,
      "outputs": [
        {
          "output_type": "execute_result",
          "data": {
            "text/plain": [
              "2     1046980\n",
              "1       89830\n",
              "98       1189\n",
              "Name: DIABETES, dtype: int64"
            ]
          },
          "metadata": {},
          "execution_count": 79
        }
      ]
    },
    {
      "cell_type": "code",
      "source": [
        "df['EPOC'].value_counts()"
      ],
      "metadata": {
        "colab": {
          "base_uri": "https://localhost:8080/"
        },
        "id": "F0RN9X5fRcok",
        "outputId": "31bd8412-9055-4ca3-f6f2-facb2243663b"
      },
      "execution_count": null,
      "outputs": [
        {
          "output_type": "execute_result",
          "data": {
            "text/plain": [
              "2     1125759\n",
              "1       11158\n",
              "98       1082\n",
              "Name: EPOC, dtype: int64"
            ]
          },
          "metadata": {},
          "execution_count": 80
        }
      ]
    },
    {
      "cell_type": "code",
      "source": [
        "df['ASMA'].value_counts()"
      ],
      "metadata": {
        "colab": {
          "base_uri": "https://localhost:8080/"
        },
        "id": "Zt61TgaHReSB",
        "outputId": "1e2a707f-59e9-41b0-d01c-5007095d5ae9"
      },
      "execution_count": null,
      "outputs": [
        {
          "output_type": "execute_result",
          "data": {
            "text/plain": [
              "2     1110321\n",
              "1       26640\n",
              "98       1038\n",
              "Name: ASMA, dtype: int64"
            ]
          },
          "metadata": {},
          "execution_count": 81
        }
      ]
    },
    {
      "cell_type": "code",
      "source": [
        "df['INMUSUPR'].value_counts()"
      ],
      "metadata": {
        "colab": {
          "base_uri": "https://localhost:8080/"
        },
        "id": "Knh7UgR5RfrQ",
        "outputId": "bb88c2e0-678d-4494-a905-161fa283bec4"
      },
      "execution_count": null,
      "outputs": [
        {
          "output_type": "execute_result",
          "data": {
            "text/plain": [
              "2     1126677\n",
              "1       10311\n",
              "98       1011\n",
              "Name: INMUSUPR, dtype: int64"
            ]
          },
          "metadata": {},
          "execution_count": 82
        }
      ]
    },
    {
      "cell_type": "code",
      "source": [
        "df['HIPERTENSION'].value_counts()"
      ],
      "metadata": {
        "colab": {
          "base_uri": "https://localhost:8080/"
        },
        "id": "aYUNudsVRhLe",
        "outputId": "89c55f09-bd7a-4778-9bcf-de7dc01fbefa"
      },
      "execution_count": null,
      "outputs": [
        {
          "output_type": "execute_result",
          "data": {
            "text/plain": [
              "2     1012018\n",
              "1      124929\n",
              "98       1052\n",
              "Name: HIPERTENSION, dtype: int64"
            ]
          },
          "metadata": {},
          "execution_count": 83
        }
      ]
    },
    {
      "cell_type": "code",
      "source": [
        "df['CARDIOVASCULAR'].value_counts()"
      ],
      "metadata": {
        "colab": {
          "base_uri": "https://localhost:8080/"
        },
        "id": "rsBraqhmRi1v",
        "outputId": "bdb867fe-d6df-4b8b-cd66-8c16c2020d2d"
      },
      "execution_count": null,
      "outputs": [
        {
          "output_type": "execute_result",
          "data": {
            "text/plain": [
              "2     1122370\n",
              "1       14574\n",
              "98       1055\n",
              "Name: CARDIOVASCULAR, dtype: int64"
            ]
          },
          "metadata": {},
          "execution_count": 84
        }
      ]
    },
    {
      "cell_type": "code",
      "source": [
        "df['OBESIDAD'].value_counts()"
      ],
      "metadata": {
        "colab": {
          "base_uri": "https://localhost:8080/"
        },
        "id": "Gm8T6Q_mRkEe",
        "outputId": "29acd652-a403-4c5d-c6fa-9fe306f43525"
      },
      "execution_count": null,
      "outputs": [
        {
          "output_type": "execute_result",
          "data": {
            "text/plain": [
              "2     1049966\n",
              "1       87077\n",
              "98        956\n",
              "Name: OBESIDAD, dtype: int64"
            ]
          },
          "metadata": {},
          "execution_count": 85
        }
      ]
    },
    {
      "cell_type": "code",
      "source": [
        "df['RENAL_CRONICA'].value_counts()"
      ],
      "metadata": {
        "colab": {
          "base_uri": "https://localhost:8080/"
        },
        "id": "a7gJnOkaRlEO",
        "outputId": "abd4a65a-a00d-40a9-82e3-cd8e6bff202f"
      },
      "execution_count": null,
      "outputs": [
        {
          "output_type": "execute_result",
          "data": {
            "text/plain": [
              "2     1124379\n",
              "1       12574\n",
              "98       1046\n",
              "Name: RENAL_CRONICA, dtype: int64"
            ]
          },
          "metadata": {},
          "execution_count": 86
        }
      ]
    },
    {
      "cell_type": "code",
      "source": [
        "df['TABAQUISMO'].value_counts()"
      ],
      "metadata": {
        "colab": {
          "base_uri": "https://localhost:8080/"
        },
        "id": "WDl_RaDqRmJI",
        "outputId": "21c9d469-7458-41c8-bb58-b78f644844ac"
      },
      "execution_count": null,
      "outputs": [
        {
          "output_type": "execute_result",
          "data": {
            "text/plain": [
              "2     1090450\n",
              "1       46452\n",
              "98       1097\n",
              "Name: TABAQUISMO, dtype: int64"
            ]
          },
          "metadata": {},
          "execution_count": 87
        }
      ]
    },
    {
      "cell_type": "code",
      "source": [
        "df['OTRO_CASO'].value_counts()"
      ],
      "metadata": {
        "colab": {
          "base_uri": "https://localhost:8080/"
        },
        "id": "20HgbI9BRn0p",
        "outputId": "dec2bc27-2671-49ae-a53f-5a39062af159"
      },
      "execution_count": null,
      "outputs": [
        {
          "output_type": "execute_result",
          "data": {
            "text/plain": [
              "2     966448\n",
              "1     153611\n",
              "99     17940\n",
              "Name: OTRO_CASO, dtype: int64"
            ]
          },
          "metadata": {},
          "execution_count": 88
        }
      ]
    },
    {
      "cell_type": "code",
      "source": [
        "df['CLASIFICACION_FINAL'].value_counts()"
      ],
      "metadata": {
        "colab": {
          "base_uri": "https://localhost:8080/"
        },
        "id": "1dw2U4TARpb0",
        "outputId": "2530808b-5ee2-4935-806c-5ac51589bc57"
      },
      "execution_count": null,
      "outputs": [
        {
          "output_type": "execute_result",
          "data": {
            "text/plain": [
              "7    668960\n",
              "3    410273\n",
              "6     49075\n",
              "1      7962\n",
              "5      1576\n",
              "4       125\n",
              "2        28\n",
              "Name: CLASIFICACION_FINAL, dtype: int64"
            ]
          },
          "metadata": {},
          "execution_count": 89
        }
      ]
    },
    {
      "cell_type": "code",
      "source": [
        "df['UCI'].value_counts()"
      ],
      "metadata": {
        "colab": {
          "base_uri": "https://localhost:8080/"
        },
        "id": "B-EiFo9pRq9j",
        "outputId": "16a9115f-69c2-4520-a64a-03b330205ca7"
      },
      "execution_count": null,
      "outputs": [
        {
          "output_type": "execute_result",
          "data": {
            "text/plain": [
              "97    1049894\n",
              "2       84725\n",
              "1        3142\n",
              "99        238\n",
              "Name: UCI, dtype: int64"
            ]
          },
          "metadata": {},
          "execution_count": 90
        }
      ]
    },
    {
      "cell_type": "markdown",
      "source": [
        "# Preprocesamiento"
      ],
      "metadata": {
        "id": "_Z2kH5BPLWHT"
      }
    },
    {
      "cell_type": "code",
      "source": [
        "df_init.shape"
      ],
      "metadata": {
        "colab": {
          "base_uri": "https://localhost:8080/"
        },
        "id": "fhGffHK8nx0l",
        "outputId": "7a1dab90-a76d-48a6-cb79-3b23bd82f62a"
      },
      "execution_count": 3,
      "outputs": [
        {
          "output_type": "execute_result",
          "data": {
            "text/plain": [
              "(1137999, 40)"
            ]
          },
          "metadata": {},
          "execution_count": 3
        }
      ]
    },
    {
      "cell_type": "code",
      "source": [
        "df = df_init[(df_init['CLASIFICACION_FINAL'] == 1) | (df_init['CLASIFICACION_FINAL'] == 2) | (df_init['CLASIFICACION_FINAL'] == 3) | (df_init['CLASIFICACION_FINAL'] == 6)].reset_index(drop=True)"
      ],
      "metadata": {
        "id": "dyPOqc9cmO_t"
      },
      "execution_count": 3,
      "outputs": []
    },
    {
      "cell_type": "code",
      "source": [
        "df.isnull().sum()"
      ],
      "metadata": {
        "colab": {
          "base_uri": "https://localhost:8080/"
        },
        "id": "XkEaf4dMEgmQ",
        "outputId": "30db0a2d-2d65-47c9-dfa1-1befcd4b55de"
      },
      "execution_count": 73,
      "outputs": [
        {
          "output_type": "execute_result",
          "data": {
            "text/plain": [
              "FECHA_ACTUALIZACION      0\n",
              "ID_REGISTRO              0\n",
              "ORIGEN                   0\n",
              "SECTOR                   0\n",
              "ENTIDAD_UM               0\n",
              "SEXO                     0\n",
              "ENTIDAD_NAC              0\n",
              "ENTIDAD_RES              0\n",
              "MUNICIPIO_RES            0\n",
              "TIPO_PACIENTE            0\n",
              "FECHA_INGRESO            0\n",
              "FECHA_SINTOMAS           0\n",
              "FECHA_DEF                0\n",
              "INTUBADO                 0\n",
              "NEUMONIA                 0\n",
              "EDAD                     0\n",
              "NACIONALIDAD             0\n",
              "EMBARAZO                 0\n",
              "HABLA_LENGUA_INDIG       0\n",
              "INDIGENA                 0\n",
              "DIABETES                 0\n",
              "EPOC                     0\n",
              "ASMA                     0\n",
              "INMUSUPR                 0\n",
              "HIPERTENSION             0\n",
              "OTRA_COM                 0\n",
              "CARDIOVASCULAR           0\n",
              "OBESIDAD                 0\n",
              "RENAL_CRONICA            0\n",
              "TABAQUISMO               0\n",
              "OTRO_CASO                0\n",
              "TOMA_MUESTRA_LAB         0\n",
              "RESULTADO_LAB            0\n",
              "TOMA_MUESTRA_ANTIGENO    0\n",
              "RESULTADO_ANTIGENO       0\n",
              "CLASIFICACION_FINAL      0\n",
              "MIGRANTE                 0\n",
              "PAIS_NACIONALIDAD        0\n",
              "PAIS_ORIGEN              0\n",
              "UCI                      0\n",
              "dtype: int64"
            ]
          },
          "metadata": {},
          "execution_count": 73
        }
      ]
    },
    {
      "cell_type": "code",
      "source": [
        "df"
      ],
      "metadata": {
        "colab": {
          "base_uri": "https://localhost:8080/",
          "height": 443
        },
        "id": "7BZOy2JMsfWQ",
        "outputId": "1187a8fb-556e-4410-a359-49314b868244"
      },
      "execution_count": 74,
      "outputs": [
        {
          "output_type": "execute_result",
          "data": {
            "text/plain": [
              "       FECHA_ACTUALIZACION ID_REGISTRO  ORIGEN  SECTOR  ENTIDAD_UM  SEXO  \\\n",
              "0               2023-09-19      dacb2c       2      12           7     1   \n",
              "1               2023-09-19      6cef7b       2      12           7     1   \n",
              "2               2023-09-19      e72a0b       1      12          21     1   \n",
              "3               2023-09-19      dcee4a       1       6          11     1   \n",
              "4               2023-09-19      6236e4       2      12           9     2   \n",
              "...                    ...         ...     ...     ...         ...   ...   \n",
              "467333          2023-09-19     m0ae4cb       2      12          15     1   \n",
              "467334          2023-09-19     m066603       2      12          15     1   \n",
              "467335          2023-09-19     m0ee321       2      12          15     2   \n",
              "467336          2023-09-19     m0b74d8       2       9          15     2   \n",
              "467337          2023-09-19     m183d8a       2       9          15     2   \n",
              "\n",
              "        ENTIDAD_NAC  ENTIDAD_RES  MUNICIPIO_RES  TIPO_PACIENTE  ... OTRO_CASO  \\\n",
              "0                 7            7            108              1  ...         2   \n",
              "1                 7            7            108              1  ...         2   \n",
              "2                21           21            140              1  ...         1   \n",
              "3                11           11             20              1  ...         1   \n",
              "4                 9            9              9              1  ...         1   \n",
              "...             ...          ...            ...            ...  ...       ...   \n",
              "467333            9           15            999              1  ...        99   \n",
              "467334            9           15            999              1  ...        99   \n",
              "467335           15           15            999              1  ...        99   \n",
              "467336            9            9             16              2  ...        99   \n",
              "467337            9           15             37              1  ...        99   \n",
              "\n",
              "       TOMA_MUESTRA_LAB RESULTADO_LAB  TOMA_MUESTRA_ANTIGENO  \\\n",
              "0                     2            97                      2   \n",
              "1                     2            97                      2   \n",
              "2                     2            97                      1   \n",
              "3                     2            97                      1   \n",
              "4                     2            97                      1   \n",
              "...                 ...           ...                    ...   \n",
              "467333                2            97                      1   \n",
              "467334                2            97                      1   \n",
              "467335                2            97                      1   \n",
              "467336                1             1                      2   \n",
              "467337                1             1                      2   \n",
              "\n",
              "        RESULTADO_ANTIGENO  CLASIFICACION_FINAL  MIGRANTE  PAIS_NACIONALIDAD  \\\n",
              "0                       97                    6        99             México   \n",
              "1                       97                    6        99             México   \n",
              "2                        1                    3        99             México   \n",
              "3                        1                    3        99             México   \n",
              "4                        1                    3        99             México   \n",
              "...                    ...                  ...       ...                ...   \n",
              "467333                   1                    3        99             México   \n",
              "467334                   1                    3        99             México   \n",
              "467335                   1                    3        99             México   \n",
              "467336                  97                    3        99             México   \n",
              "467337                  97                    3        99             México   \n",
              "\n",
              "        PAIS_ORIGEN  UCI  \n",
              "0                97   97  \n",
              "1                97   97  \n",
              "2                97   97  \n",
              "3                97   97  \n",
              "4                97   97  \n",
              "...             ...  ...  \n",
              "467333           97   97  \n",
              "467334           97   97  \n",
              "467335           97   97  \n",
              "467336           97    2  \n",
              "467337           97   97  \n",
              "\n",
              "[467338 rows x 40 columns]"
            ],
            "text/html": [
              "\n",
              "  <div id=\"df-90eb8509-e01a-4245-a8d3-425ac90d4d81\" class=\"colab-df-container\">\n",
              "    <div>\n",
              "<style scoped>\n",
              "    .dataframe tbody tr th:only-of-type {\n",
              "        vertical-align: middle;\n",
              "    }\n",
              "\n",
              "    .dataframe tbody tr th {\n",
              "        vertical-align: top;\n",
              "    }\n",
              "\n",
              "    .dataframe thead th {\n",
              "        text-align: right;\n",
              "    }\n",
              "</style>\n",
              "<table border=\"1\" class=\"dataframe\">\n",
              "  <thead>\n",
              "    <tr style=\"text-align: right;\">\n",
              "      <th></th>\n",
              "      <th>FECHA_ACTUALIZACION</th>\n",
              "      <th>ID_REGISTRO</th>\n",
              "      <th>ORIGEN</th>\n",
              "      <th>SECTOR</th>\n",
              "      <th>ENTIDAD_UM</th>\n",
              "      <th>SEXO</th>\n",
              "      <th>ENTIDAD_NAC</th>\n",
              "      <th>ENTIDAD_RES</th>\n",
              "      <th>MUNICIPIO_RES</th>\n",
              "      <th>TIPO_PACIENTE</th>\n",
              "      <th>...</th>\n",
              "      <th>OTRO_CASO</th>\n",
              "      <th>TOMA_MUESTRA_LAB</th>\n",
              "      <th>RESULTADO_LAB</th>\n",
              "      <th>TOMA_MUESTRA_ANTIGENO</th>\n",
              "      <th>RESULTADO_ANTIGENO</th>\n",
              "      <th>CLASIFICACION_FINAL</th>\n",
              "      <th>MIGRANTE</th>\n",
              "      <th>PAIS_NACIONALIDAD</th>\n",
              "      <th>PAIS_ORIGEN</th>\n",
              "      <th>UCI</th>\n",
              "    </tr>\n",
              "  </thead>\n",
              "  <tbody>\n",
              "    <tr>\n",
              "      <th>0</th>\n",
              "      <td>2023-09-19</td>\n",
              "      <td>dacb2c</td>\n",
              "      <td>2</td>\n",
              "      <td>12</td>\n",
              "      <td>7</td>\n",
              "      <td>1</td>\n",
              "      <td>7</td>\n",
              "      <td>7</td>\n",
              "      <td>108</td>\n",
              "      <td>1</td>\n",
              "      <td>...</td>\n",
              "      <td>2</td>\n",
              "      <td>2</td>\n",
              "      <td>97</td>\n",
              "      <td>2</td>\n",
              "      <td>97</td>\n",
              "      <td>6</td>\n",
              "      <td>99</td>\n",
              "      <td>México</td>\n",
              "      <td>97</td>\n",
              "      <td>97</td>\n",
              "    </tr>\n",
              "    <tr>\n",
              "      <th>1</th>\n",
              "      <td>2023-09-19</td>\n",
              "      <td>6cef7b</td>\n",
              "      <td>2</td>\n",
              "      <td>12</td>\n",
              "      <td>7</td>\n",
              "      <td>1</td>\n",
              "      <td>7</td>\n",
              "      <td>7</td>\n",
              "      <td>108</td>\n",
              "      <td>1</td>\n",
              "      <td>...</td>\n",
              "      <td>2</td>\n",
              "      <td>2</td>\n",
              "      <td>97</td>\n",
              "      <td>2</td>\n",
              "      <td>97</td>\n",
              "      <td>6</td>\n",
              "      <td>99</td>\n",
              "      <td>México</td>\n",
              "      <td>97</td>\n",
              "      <td>97</td>\n",
              "    </tr>\n",
              "    <tr>\n",
              "      <th>2</th>\n",
              "      <td>2023-09-19</td>\n",
              "      <td>e72a0b</td>\n",
              "      <td>1</td>\n",
              "      <td>12</td>\n",
              "      <td>21</td>\n",
              "      <td>1</td>\n",
              "      <td>21</td>\n",
              "      <td>21</td>\n",
              "      <td>140</td>\n",
              "      <td>1</td>\n",
              "      <td>...</td>\n",
              "      <td>1</td>\n",
              "      <td>2</td>\n",
              "      <td>97</td>\n",
              "      <td>1</td>\n",
              "      <td>1</td>\n",
              "      <td>3</td>\n",
              "      <td>99</td>\n",
              "      <td>México</td>\n",
              "      <td>97</td>\n",
              "      <td>97</td>\n",
              "    </tr>\n",
              "    <tr>\n",
              "      <th>3</th>\n",
              "      <td>2023-09-19</td>\n",
              "      <td>dcee4a</td>\n",
              "      <td>1</td>\n",
              "      <td>6</td>\n",
              "      <td>11</td>\n",
              "      <td>1</td>\n",
              "      <td>11</td>\n",
              "      <td>11</td>\n",
              "      <td>20</td>\n",
              "      <td>1</td>\n",
              "      <td>...</td>\n",
              "      <td>1</td>\n",
              "      <td>2</td>\n",
              "      <td>97</td>\n",
              "      <td>1</td>\n",
              "      <td>1</td>\n",
              "      <td>3</td>\n",
              "      <td>99</td>\n",
              "      <td>México</td>\n",
              "      <td>97</td>\n",
              "      <td>97</td>\n",
              "    </tr>\n",
              "    <tr>\n",
              "      <th>4</th>\n",
              "      <td>2023-09-19</td>\n",
              "      <td>6236e4</td>\n",
              "      <td>2</td>\n",
              "      <td>12</td>\n",
              "      <td>9</td>\n",
              "      <td>2</td>\n",
              "      <td>9</td>\n",
              "      <td>9</td>\n",
              "      <td>9</td>\n",
              "      <td>1</td>\n",
              "      <td>...</td>\n",
              "      <td>1</td>\n",
              "      <td>2</td>\n",
              "      <td>97</td>\n",
              "      <td>1</td>\n",
              "      <td>1</td>\n",
              "      <td>3</td>\n",
              "      <td>99</td>\n",
              "      <td>México</td>\n",
              "      <td>97</td>\n",
              "      <td>97</td>\n",
              "    </tr>\n",
              "    <tr>\n",
              "      <th>...</th>\n",
              "      <td>...</td>\n",
              "      <td>...</td>\n",
              "      <td>...</td>\n",
              "      <td>...</td>\n",
              "      <td>...</td>\n",
              "      <td>...</td>\n",
              "      <td>...</td>\n",
              "      <td>...</td>\n",
              "      <td>...</td>\n",
              "      <td>...</td>\n",
              "      <td>...</td>\n",
              "      <td>...</td>\n",
              "      <td>...</td>\n",
              "      <td>...</td>\n",
              "      <td>...</td>\n",
              "      <td>...</td>\n",
              "      <td>...</td>\n",
              "      <td>...</td>\n",
              "      <td>...</td>\n",
              "      <td>...</td>\n",
              "      <td>...</td>\n",
              "    </tr>\n",
              "    <tr>\n",
              "      <th>467333</th>\n",
              "      <td>2023-09-19</td>\n",
              "      <td>m0ae4cb</td>\n",
              "      <td>2</td>\n",
              "      <td>12</td>\n",
              "      <td>15</td>\n",
              "      <td>1</td>\n",
              "      <td>9</td>\n",
              "      <td>15</td>\n",
              "      <td>999</td>\n",
              "      <td>1</td>\n",
              "      <td>...</td>\n",
              "      <td>99</td>\n",
              "      <td>2</td>\n",
              "      <td>97</td>\n",
              "      <td>1</td>\n",
              "      <td>1</td>\n",
              "      <td>3</td>\n",
              "      <td>99</td>\n",
              "      <td>México</td>\n",
              "      <td>97</td>\n",
              "      <td>97</td>\n",
              "    </tr>\n",
              "    <tr>\n",
              "      <th>467334</th>\n",
              "      <td>2023-09-19</td>\n",
              "      <td>m066603</td>\n",
              "      <td>2</td>\n",
              "      <td>12</td>\n",
              "      <td>15</td>\n",
              "      <td>1</td>\n",
              "      <td>9</td>\n",
              "      <td>15</td>\n",
              "      <td>999</td>\n",
              "      <td>1</td>\n",
              "      <td>...</td>\n",
              "      <td>99</td>\n",
              "      <td>2</td>\n",
              "      <td>97</td>\n",
              "      <td>1</td>\n",
              "      <td>1</td>\n",
              "      <td>3</td>\n",
              "      <td>99</td>\n",
              "      <td>México</td>\n",
              "      <td>97</td>\n",
              "      <td>97</td>\n",
              "    </tr>\n",
              "    <tr>\n",
              "      <th>467335</th>\n",
              "      <td>2023-09-19</td>\n",
              "      <td>m0ee321</td>\n",
              "      <td>2</td>\n",
              "      <td>12</td>\n",
              "      <td>15</td>\n",
              "      <td>2</td>\n",
              "      <td>15</td>\n",
              "      <td>15</td>\n",
              "      <td>999</td>\n",
              "      <td>1</td>\n",
              "      <td>...</td>\n",
              "      <td>99</td>\n",
              "      <td>2</td>\n",
              "      <td>97</td>\n",
              "      <td>1</td>\n",
              "      <td>1</td>\n",
              "      <td>3</td>\n",
              "      <td>99</td>\n",
              "      <td>México</td>\n",
              "      <td>97</td>\n",
              "      <td>97</td>\n",
              "    </tr>\n",
              "    <tr>\n",
              "      <th>467336</th>\n",
              "      <td>2023-09-19</td>\n",
              "      <td>m0b74d8</td>\n",
              "      <td>2</td>\n",
              "      <td>9</td>\n",
              "      <td>15</td>\n",
              "      <td>2</td>\n",
              "      <td>9</td>\n",
              "      <td>9</td>\n",
              "      <td>16</td>\n",
              "      <td>2</td>\n",
              "      <td>...</td>\n",
              "      <td>99</td>\n",
              "      <td>1</td>\n",
              "      <td>1</td>\n",
              "      <td>2</td>\n",
              "      <td>97</td>\n",
              "      <td>3</td>\n",
              "      <td>99</td>\n",
              "      <td>México</td>\n",
              "      <td>97</td>\n",
              "      <td>2</td>\n",
              "    </tr>\n",
              "    <tr>\n",
              "      <th>467337</th>\n",
              "      <td>2023-09-19</td>\n",
              "      <td>m183d8a</td>\n",
              "      <td>2</td>\n",
              "      <td>9</td>\n",
              "      <td>15</td>\n",
              "      <td>2</td>\n",
              "      <td>9</td>\n",
              "      <td>15</td>\n",
              "      <td>37</td>\n",
              "      <td>1</td>\n",
              "      <td>...</td>\n",
              "      <td>99</td>\n",
              "      <td>1</td>\n",
              "      <td>1</td>\n",
              "      <td>2</td>\n",
              "      <td>97</td>\n",
              "      <td>3</td>\n",
              "      <td>99</td>\n",
              "      <td>México</td>\n",
              "      <td>97</td>\n",
              "      <td>97</td>\n",
              "    </tr>\n",
              "  </tbody>\n",
              "</table>\n",
              "<p>467338 rows × 40 columns</p>\n",
              "</div>\n",
              "    <div class=\"colab-df-buttons\">\n",
              "\n",
              "  <div class=\"colab-df-container\">\n",
              "    <button class=\"colab-df-convert\" onclick=\"convertToInteractive('df-90eb8509-e01a-4245-a8d3-425ac90d4d81')\"\n",
              "            title=\"Convert this dataframe to an interactive table.\"\n",
              "            style=\"display:none;\">\n",
              "\n",
              "  <svg xmlns=\"http://www.w3.org/2000/svg\" height=\"24px\" viewBox=\"0 -960 960 960\">\n",
              "    <path d=\"M120-120v-720h720v720H120Zm60-500h600v-160H180v160Zm220 220h160v-160H400v160Zm0 220h160v-160H400v160ZM180-400h160v-160H180v160Zm440 0h160v-160H620v160ZM180-180h160v-160H180v160Zm440 0h160v-160H620v160Z\"/>\n",
              "  </svg>\n",
              "    </button>\n",
              "\n",
              "  <style>\n",
              "    .colab-df-container {\n",
              "      display:flex;\n",
              "      gap: 12px;\n",
              "    }\n",
              "\n",
              "    .colab-df-convert {\n",
              "      background-color: #E8F0FE;\n",
              "      border: none;\n",
              "      border-radius: 50%;\n",
              "      cursor: pointer;\n",
              "      display: none;\n",
              "      fill: #1967D2;\n",
              "      height: 32px;\n",
              "      padding: 0 0 0 0;\n",
              "      width: 32px;\n",
              "    }\n",
              "\n",
              "    .colab-df-convert:hover {\n",
              "      background-color: #E2EBFA;\n",
              "      box-shadow: 0px 1px 2px rgba(60, 64, 67, 0.3), 0px 1px 3px 1px rgba(60, 64, 67, 0.15);\n",
              "      fill: #174EA6;\n",
              "    }\n",
              "\n",
              "    .colab-df-buttons div {\n",
              "      margin-bottom: 4px;\n",
              "    }\n",
              "\n",
              "    [theme=dark] .colab-df-convert {\n",
              "      background-color: #3B4455;\n",
              "      fill: #D2E3FC;\n",
              "    }\n",
              "\n",
              "    [theme=dark] .colab-df-convert:hover {\n",
              "      background-color: #434B5C;\n",
              "      box-shadow: 0px 1px 3px 1px rgba(0, 0, 0, 0.15);\n",
              "      filter: drop-shadow(0px 1px 2px rgba(0, 0, 0, 0.3));\n",
              "      fill: #FFFFFF;\n",
              "    }\n",
              "  </style>\n",
              "\n",
              "    <script>\n",
              "      const buttonEl =\n",
              "        document.querySelector('#df-90eb8509-e01a-4245-a8d3-425ac90d4d81 button.colab-df-convert');\n",
              "      buttonEl.style.display =\n",
              "        google.colab.kernel.accessAllowed ? 'block' : 'none';\n",
              "\n",
              "      async function convertToInteractive(key) {\n",
              "        const element = document.querySelector('#df-90eb8509-e01a-4245-a8d3-425ac90d4d81');\n",
              "        const dataTable =\n",
              "          await google.colab.kernel.invokeFunction('convertToInteractive',\n",
              "                                                    [key], {});\n",
              "        if (!dataTable) return;\n",
              "\n",
              "        const docLinkHtml = 'Like what you see? Visit the ' +\n",
              "          '<a target=\"_blank\" href=https://colab.research.google.com/notebooks/data_table.ipynb>data table notebook</a>'\n",
              "          + ' to learn more about interactive tables.';\n",
              "        element.innerHTML = '';\n",
              "        dataTable['output_type'] = 'display_data';\n",
              "        await google.colab.output.renderOutput(dataTable, element);\n",
              "        const docLink = document.createElement('div');\n",
              "        docLink.innerHTML = docLinkHtml;\n",
              "        element.appendChild(docLink);\n",
              "      }\n",
              "    </script>\n",
              "  </div>\n",
              "\n",
              "\n",
              "<div id=\"df-67f0fac8-9d46-473b-8ad6-6ff851982520\">\n",
              "  <button class=\"colab-df-quickchart\" onclick=\"quickchart('df-67f0fac8-9d46-473b-8ad6-6ff851982520')\"\n",
              "            title=\"Suggest charts.\"\n",
              "            style=\"display:none;\">\n",
              "\n",
              "<svg xmlns=\"http://www.w3.org/2000/svg\" height=\"24px\"viewBox=\"0 0 24 24\"\n",
              "     width=\"24px\">\n",
              "    <g>\n",
              "        <path d=\"M19 3H5c-1.1 0-2 .9-2 2v14c0 1.1.9 2 2 2h14c1.1 0 2-.9 2-2V5c0-1.1-.9-2-2-2zM9 17H7v-7h2v7zm4 0h-2V7h2v10zm4 0h-2v-4h2v4z\"/>\n",
              "    </g>\n",
              "</svg>\n",
              "  </button>\n",
              "\n",
              "<style>\n",
              "  .colab-df-quickchart {\n",
              "      --bg-color: #E8F0FE;\n",
              "      --fill-color: #1967D2;\n",
              "      --hover-bg-color: #E2EBFA;\n",
              "      --hover-fill-color: #174EA6;\n",
              "      --disabled-fill-color: #AAA;\n",
              "      --disabled-bg-color: #DDD;\n",
              "  }\n",
              "\n",
              "  [theme=dark] .colab-df-quickchart {\n",
              "      --bg-color: #3B4455;\n",
              "      --fill-color: #D2E3FC;\n",
              "      --hover-bg-color: #434B5C;\n",
              "      --hover-fill-color: #FFFFFF;\n",
              "      --disabled-bg-color: #3B4455;\n",
              "      --disabled-fill-color: #666;\n",
              "  }\n",
              "\n",
              "  .colab-df-quickchart {\n",
              "    background-color: var(--bg-color);\n",
              "    border: none;\n",
              "    border-radius: 50%;\n",
              "    cursor: pointer;\n",
              "    display: none;\n",
              "    fill: var(--fill-color);\n",
              "    height: 32px;\n",
              "    padding: 0;\n",
              "    width: 32px;\n",
              "  }\n",
              "\n",
              "  .colab-df-quickchart:hover {\n",
              "    background-color: var(--hover-bg-color);\n",
              "    box-shadow: 0 1px 2px rgba(60, 64, 67, 0.3), 0 1px 3px 1px rgba(60, 64, 67, 0.15);\n",
              "    fill: var(--button-hover-fill-color);\n",
              "  }\n",
              "\n",
              "  .colab-df-quickchart-complete:disabled,\n",
              "  .colab-df-quickchart-complete:disabled:hover {\n",
              "    background-color: var(--disabled-bg-color);\n",
              "    fill: var(--disabled-fill-color);\n",
              "    box-shadow: none;\n",
              "  }\n",
              "\n",
              "  .colab-df-spinner {\n",
              "    border: 2px solid var(--fill-color);\n",
              "    border-color: transparent;\n",
              "    border-bottom-color: var(--fill-color);\n",
              "    animation:\n",
              "      spin 1s steps(1) infinite;\n",
              "  }\n",
              "\n",
              "  @keyframes spin {\n",
              "    0% {\n",
              "      border-color: transparent;\n",
              "      border-bottom-color: var(--fill-color);\n",
              "      border-left-color: var(--fill-color);\n",
              "    }\n",
              "    20% {\n",
              "      border-color: transparent;\n",
              "      border-left-color: var(--fill-color);\n",
              "      border-top-color: var(--fill-color);\n",
              "    }\n",
              "    30% {\n",
              "      border-color: transparent;\n",
              "      border-left-color: var(--fill-color);\n",
              "      border-top-color: var(--fill-color);\n",
              "      border-right-color: var(--fill-color);\n",
              "    }\n",
              "    40% {\n",
              "      border-color: transparent;\n",
              "      border-right-color: var(--fill-color);\n",
              "      border-top-color: var(--fill-color);\n",
              "    }\n",
              "    60% {\n",
              "      border-color: transparent;\n",
              "      border-right-color: var(--fill-color);\n",
              "    }\n",
              "    80% {\n",
              "      border-color: transparent;\n",
              "      border-right-color: var(--fill-color);\n",
              "      border-bottom-color: var(--fill-color);\n",
              "    }\n",
              "    90% {\n",
              "      border-color: transparent;\n",
              "      border-bottom-color: var(--fill-color);\n",
              "    }\n",
              "  }\n",
              "</style>\n",
              "\n",
              "  <script>\n",
              "    async function quickchart(key) {\n",
              "      const quickchartButtonEl =\n",
              "        document.querySelector('#' + key + ' button');\n",
              "      quickchartButtonEl.disabled = true;  // To prevent multiple clicks.\n",
              "      quickchartButtonEl.classList.add('colab-df-spinner');\n",
              "      try {\n",
              "        const charts = await google.colab.kernel.invokeFunction(\n",
              "            'suggestCharts', [key], {});\n",
              "      } catch (error) {\n",
              "        console.error('Error during call to suggestCharts:', error);\n",
              "      }\n",
              "      quickchartButtonEl.classList.remove('colab-df-spinner');\n",
              "      quickchartButtonEl.classList.add('colab-df-quickchart-complete');\n",
              "    }\n",
              "    (() => {\n",
              "      let quickchartButtonEl =\n",
              "        document.querySelector('#df-67f0fac8-9d46-473b-8ad6-6ff851982520 button');\n",
              "      quickchartButtonEl.style.display =\n",
              "        google.colab.kernel.accessAllowed ? 'block' : 'none';\n",
              "    })();\n",
              "  </script>\n",
              "</div>\n",
              "    </div>\n",
              "  </div>\n"
            ]
          },
          "metadata": {},
          "execution_count": 74
        }
      ]
    },
    {
      "cell_type": "code",
      "source": [
        "df[\"EDAD\"].isnull().sum()"
      ],
      "metadata": {
        "colab": {
          "base_uri": "https://localhost:8080/"
        },
        "id": "Q_jO5-EhnxJH",
        "outputId": "058cbc86-00f4-4dc0-ddc0-c88b85c2f432"
      },
      "execution_count": 75,
      "outputs": [
        {
          "output_type": "execute_result",
          "data": {
            "text/plain": [
              "0"
            ]
          },
          "metadata": {},
          "execution_count": 75
        }
      ]
    },
    {
      "cell_type": "code",
      "source": [
        "#Agregamos un campo calculado llamado FALLECIDO, que será nuestra variable dependiente (a predecir)\n",
        "df['FALLECIDO'] = np.where(df['FECHA_DEF'] != '9999-99-99', 'SI', 'NO')\n"
      ],
      "metadata": {
        "id": "br81Ls-fPw95"
      },
      "execution_count": 4,
      "outputs": []
    },
    {
      "cell_type": "code",
      "source": [
        "#prof = ProfileReport(df3)\n",
        "#prof.to_file(output_file='output.html')"
      ],
      "metadata": {
        "id": "OJShxJMImyyX"
      },
      "execution_count": null,
      "outputs": []
    },
    {
      "cell_type": "code",
      "source": [
        "from sklearn.preprocessing import OneHotEncoder\n",
        "def one_hot_encode(campo):\n",
        "  # Crear un objeto OneHotEncoder\n",
        "  ohe = OneHotEncoder(sparse_output=False)\n",
        "  # Ajustar y transformar la columna con el encoder\n",
        "  arr = ohe.fit_transform(campo.values.reshape(-1, 1))\n",
        "  # Crea un nuevo df con las columnas codificadas\n",
        "  df = pd.DataFrame(arr, columns=ohe.get_feature_names_out())\n",
        "  # Obteine el nombre del único campo del df input\n",
        "  nombre_campo = (pd.DataFrame(campo)).columns[0]\n",
        "  # Reemplazo el parte el nombre por defecto que asigna la función ohe.get_feature_names_out() para las columnas del df output\n",
        "  df.columns = df.columns.str.replace(\"x0\", nombre_campo, regex=True)\n",
        "  # Convierto tipo de dato float (default) a entero\n",
        "  for col in df.columns:\n",
        "    df[col] = df[col].astype(int)\n",
        "  # Devuelve el nuevo dataframe\n",
        "  return df\n",
        "\n",
        "# llamda a la funcion\n",
        "#df_onehot = one_hot_encode(df3['SECTOR'])\n",
        "#print(df_onehot.info())\n"
      ],
      "metadata": {
        "id": "pV-DoX_Z2prz"
      },
      "execution_count": 5,
      "outputs": []
    },
    {
      "cell_type": "code",
      "source": [
        "# Primera seleccion de atributos\n",
        "df_seleccion_1 = df[['FECHA_ACTUALIZACION',\n",
        "                      'ORIGEN',\n",
        "                      'SECTOR',\n",
        "                      'ENTIDAD_UM',\n",
        "                      'SEXO',\n",
        "                      'ENTIDAD_NAC',\n",
        "                      'ENTIDAD_RES',\n",
        "                      'MUNICIPIO_RES',\n",
        "                      'TIPO_PACIENTE',\n",
        "                      'FECHA_INGRESO',\n",
        "                      'FECHA_SINTOMAS',\n",
        "                      'FECHA_DEF',\n",
        "                      'INTUBADO',\n",
        "                      'NEUMONIA',\n",
        "                      'EDAD',\n",
        "                      'EMBARAZO',\n",
        "                      'INDIGENA',\n",
        "                      'DIABETES',\n",
        "                      'EPOC',\n",
        "                      'ASMA',\n",
        "                      'INMUSUPR',\n",
        "                      'HIPERTENSION',\n",
        "                      'CARDIOVASCULAR',\n",
        "                      'OBESIDAD',\n",
        "                      'RENAL_CRONICA',\n",
        "                      'TABAQUISMO',\n",
        "                      'OTRO_CASO',\n",
        "                      'CLASIFICACION_FINAL',\n",
        "                      'UCI',\n",
        "                      'FALLECIDO']]\n",
        "df_seleccion_1.info()"
      ],
      "metadata": {
        "id": "iZGKag7eU1Dk",
        "colab": {
          "base_uri": "https://localhost:8080/"
        },
        "outputId": "9be4f74a-df8f-4252-b54c-37b9f5522472"
      },
      "execution_count": 6,
      "outputs": [
        {
          "output_type": "stream",
          "name": "stdout",
          "text": [
            "<class 'pandas.core.frame.DataFrame'>\n",
            "RangeIndex: 467338 entries, 0 to 467337\n",
            "Data columns (total 30 columns):\n",
            " #   Column               Non-Null Count   Dtype \n",
            "---  ------               --------------   ----- \n",
            " 0   FECHA_ACTUALIZACION  467338 non-null  object\n",
            " 1   ORIGEN               467338 non-null  int64 \n",
            " 2   SECTOR               467338 non-null  int64 \n",
            " 3   ENTIDAD_UM           467338 non-null  int64 \n",
            " 4   SEXO                 467338 non-null  int64 \n",
            " 5   ENTIDAD_NAC          467338 non-null  int64 \n",
            " 6   ENTIDAD_RES          467338 non-null  int64 \n",
            " 7   MUNICIPIO_RES        467338 non-null  int64 \n",
            " 8   TIPO_PACIENTE        467338 non-null  int64 \n",
            " 9   FECHA_INGRESO        467338 non-null  object\n",
            " 10  FECHA_SINTOMAS       467338 non-null  object\n",
            " 11  FECHA_DEF            467338 non-null  object\n",
            " 12  INTUBADO             467338 non-null  int64 \n",
            " 13  NEUMONIA             467338 non-null  int64 \n",
            " 14  EDAD                 467338 non-null  int64 \n",
            " 15  EMBARAZO             467338 non-null  int64 \n",
            " 16  INDIGENA             467338 non-null  int64 \n",
            " 17  DIABETES             467338 non-null  int64 \n",
            " 18  EPOC                 467338 non-null  int64 \n",
            " 19  ASMA                 467338 non-null  int64 \n",
            " 20  INMUSUPR             467338 non-null  int64 \n",
            " 21  HIPERTENSION         467338 non-null  int64 \n",
            " 22  CARDIOVASCULAR       467338 non-null  int64 \n",
            " 23  OBESIDAD             467338 non-null  int64 \n",
            " 24  RENAL_CRONICA        467338 non-null  int64 \n",
            " 25  TABAQUISMO           467338 non-null  int64 \n",
            " 26  OTRO_CASO            467338 non-null  int64 \n",
            " 27  CLASIFICACION_FINAL  467338 non-null  int64 \n",
            " 28  UCI                  467338 non-null  int64 \n",
            " 29  FALLECIDO            467338 non-null  object\n",
            "dtypes: int64(25), object(5)\n",
            "memory usage: 107.0+ MB\n"
          ]
        }
      ]
    },
    {
      "cell_type": "code",
      "source": [
        "def categorizar_si_no(valor):\n",
        "  if valor in (1,\"SI\"):\n",
        "    return 1\n",
        "  elif valor in (2,\"NO\"):\n",
        "    return 0\n",
        "  else:\n",
        "    return -1"
      ],
      "metadata": {
        "id": "PBkh3QUXfvLe"
      },
      "execution_count": 8,
      "outputs": []
    },
    {
      "cell_type": "markdown",
      "source": [
        "Creo un dataframa llamado **df_categ** que contendrá los att categorizados de manera binaria (0 y 1)"
      ],
      "metadata": {
        "id": "3tk8ISQM6h4u"
      }
    },
    {
      "cell_type": "code",
      "source": [
        "df_categ = pd.DataFrame()"
      ],
      "metadata": {
        "id": "6Zpcgfrw6gB2"
      },
      "execution_count": 82,
      "outputs": []
    },
    {
      "cell_type": "markdown",
      "source": [
        "Función para convertir SI y NO\n",
        "```\n",
        "CLAVE - DESCRIPCIÓN\n",
        "1  - SI\n",
        "2  - NO\n",
        "```"
      ],
      "metadata": {
        "id": "TjPIp8yMfx8y"
      }
    },
    {
      "cell_type": "markdown",
      "source": [
        "Campo SEXO\n",
        "```\n",
        "Codificación binaria:\n",
        "1 --> 1 = Mujer\n",
        "2 --> 0 = Hombre\n",
        "```"
      ],
      "metadata": {
        "id": "qMsUzGV_ZL2G"
      }
    },
    {
      "cell_type": "code",
      "source": [
        "df_seleccion_1['SEXO'].value_counts()"
      ],
      "metadata": {
        "colab": {
          "base_uri": "https://localhost:8080/"
        },
        "id": "jZUvPpzvX3hw",
        "outputId": "07a9417a-27cc-4b54-e74c-9472c8b696c5"
      },
      "execution_count": null,
      "outputs": [
        {
          "output_type": "execute_result",
          "data": {
            "text/plain": [
              "1    279869\n",
              "2    187469\n",
              "Name: SEXO, dtype: int64"
            ]
          },
          "metadata": {},
          "execution_count": 338
        }
      ]
    },
    {
      "cell_type": "code",
      "source": [
        "df_seleccion_1['SEXO'] = df_seleccion_1['SEXO'].map(categorizar_si_no)\n",
        "df_seleccion_1['SEXO'].value_counts()"
      ],
      "metadata": {
        "colab": {
          "base_uri": "https://localhost:8080/"
        },
        "id": "0jBUFy3Q7C_o",
        "outputId": "65ad1fa6-10ef-4ecd-8602-72384b3fa936"
      },
      "execution_count": 9,
      "outputs": [
        {
          "output_type": "stream",
          "name": "stderr",
          "text": [
            "<ipython-input-9-626cf2b80ffa>:1: SettingWithCopyWarning: \n",
            "A value is trying to be set on a copy of a slice from a DataFrame.\n",
            "Try using .loc[row_indexer,col_indexer] = value instead\n",
            "\n",
            "See the caveats in the documentation: https://pandas.pydata.org/pandas-docs/stable/user_guide/indexing.html#returning-a-view-versus-a-copy\n",
            "  df_seleccion_1['SEXO'] = df_seleccion_1['SEXO'].map(categorizar_si_no)\n"
          ]
        },
        {
          "output_type": "execute_result",
          "data": {
            "text/plain": [
              "1    279869\n",
              "0    187469\n",
              "Name: SEXO, dtype: int64"
            ]
          },
          "metadata": {},
          "execution_count": 9
        }
      ]
    },
    {
      "cell_type": "markdown",
      "source": [
        "Campo INTUBADO\n",
        "Codificación OneHot:\n",
        "```\n",
        "CLAVE - DESCRIPCIÓN\n",
        "1  - SI\n",
        "2  - NO\n",
        "97 - NO APLICA\n",
        "98 - SE IGNORA\n",
        "99 - NO ESPECIFICADO\n",
        "```"
      ],
      "metadata": {
        "id": "JE51RmIl7ShL"
      }
    },
    {
      "cell_type": "code",
      "source": [
        "df_seleccion_1['INTUBADO'].value_counts()"
      ],
      "metadata": {
        "id": "cfVdEaR97ShM"
      },
      "execution_count": null,
      "outputs": []
    },
    {
      "cell_type": "code",
      "source": [
        "df_intubado_onehot = one_hot_encode(df_seleccion_1['INTUBADO'])\n",
        "df_seleccion_1 = pd.concat([df_seleccion_1, df_intubado_onehot], axis=1)\n",
        "\n",
        "df_seleccion_1.drop(columns='INTUBADO', inplace=True)"
      ],
      "metadata": {
        "id": "Gs4fwIhP7ShO"
      },
      "execution_count": 10,
      "outputs": []
    },
    {
      "cell_type": "markdown",
      "source": [
        "Campo NEUMONIA\n",
        "Codificación OneHot:\n",
        "```\n",
        "CLAVE - DESCRIPCIÓN\n",
        "1  - SI\n",
        "2  - NO\n",
        "97 - NO APLICA\n",
        "98 - SE IGNORA\n",
        "99 - NO ESPECIFICADO\n",
        "```"
      ],
      "metadata": {
        "id": "A91TCGuu9vQk"
      }
    },
    {
      "cell_type": "code",
      "source": [
        "df_seleccion_1['NEUMONIA'].value_counts()"
      ],
      "metadata": {
        "colab": {
          "base_uri": "https://localhost:8080/"
        },
        "outputId": "ef0154b3-f5d5-42fc-c6f6-579a87c7349d",
        "id": "R73Dypon9vQl"
      },
      "execution_count": 103,
      "outputs": [
        {
          "output_type": "execute_result",
          "data": {
            "text/plain": [
              "2     455393\n",
              "1      10225\n",
              "99      1720\n",
              "Name: NEUMONIA, dtype: int64"
            ]
          },
          "metadata": {},
          "execution_count": 103
        }
      ]
    },
    {
      "cell_type": "code",
      "source": [
        "df_neumonia_onehot = one_hot_encode(df_seleccion_1['NEUMONIA'])\n",
        "df_seleccion_1 = pd.concat([df_seleccion_1, df_neumonia_onehot], axis=1)\n",
        "#df_seleccion_1 = df_seleccion_1.join(df_neumonia_onehot)\n",
        "df_seleccion_1.drop(columns='NEUMONIA', inplace=True)\n"
      ],
      "metadata": {
        "id": "rTjKwdJY9vQm"
      },
      "execution_count": 11,
      "outputs": []
    },
    {
      "cell_type": "markdown",
      "source": [
        "Campo EMBARAZO\n",
        "Codificación OneHot:\n",
        "```\n",
        "CLAVE - DESCRIPCIÓN\n",
        "1  - SI\n",
        "2  - NO\n",
        "97 - NO APLICA\n",
        "98 - SE IGNORA\n",
        "99 - NO ESPECIFICADO\n",
        "```"
      ],
      "metadata": {
        "id": "qJ_bJc1F9_4n"
      }
    },
    {
      "cell_type": "code",
      "source": [
        "df_seleccion_1['EMBARAZO'].value_counts()"
      ],
      "metadata": {
        "colab": {
          "base_uri": "https://localhost:8080/"
        },
        "outputId": "454edd20-627e-4148-86a9-d7d970d7e5b2",
        "id": "fH4dHeaD9_4p"
      },
      "execution_count": null,
      "outputs": [
        {
          "output_type": "execute_result",
          "data": {
            "text/plain": [
              "2     271972\n",
              "97    187469\n",
              "1       5854\n",
              "98      2041\n",
              "99         2\n",
              "Name: EMBARAZO, dtype: int64"
            ]
          },
          "metadata": {},
          "execution_count": 346
        }
      ]
    },
    {
      "cell_type": "code",
      "source": [
        "df_embarazo_onehot = one_hot_encode(df_seleccion_1['EMBARAZO'])\n",
        "df_seleccion_1 = pd.concat([df_seleccion_1, df_embarazo_onehot], axis=1)\n",
        "df_seleccion_1.drop(columns='EMBARAZO', inplace=True)"
      ],
      "metadata": {
        "id": "7N_-g9Ly9_4r"
      },
      "execution_count": 12,
      "outputs": []
    },
    {
      "cell_type": "markdown",
      "source": [
        "Campo INDIGENA\n",
        "Codificación OneHot:\n",
        "```\n",
        "CLAVE - DESCRIPCIÓN\n",
        "1  - SI\n",
        "2  - NO\n",
        "97 - NO APLICA\n",
        "98 - SE IGNORA\n",
        "99 - NO ESPECIFICADO\n",
        "```"
      ],
      "metadata": {
        "id": "vfrpEED2ftRR"
      }
    },
    {
      "cell_type": "code",
      "source": [
        "df_seleccion_1['INDIGENA'].value_counts()"
      ],
      "metadata": {
        "colab": {
          "base_uri": "https://localhost:8080/"
        },
        "outputId": "a1c8f076-b60c-4531-899b-17aae4c28093",
        "id": "KW5HZmeKftRT"
      },
      "execution_count": null,
      "outputs": [
        {
          "output_type": "execute_result",
          "data": {
            "text/plain": [
              "2     444763\n",
              "99     16360\n",
              "1       6215\n",
              "Name: INDIGENA, dtype: int64"
            ]
          },
          "metadata": {},
          "execution_count": 348
        }
      ]
    },
    {
      "cell_type": "code",
      "source": [
        "df_INDIGENA_onehot = one_hot_encode(df_seleccion_1['INDIGENA'])\n",
        "df_seleccion_1 = pd.concat([df_seleccion_1, df_INDIGENA_onehot], axis=1)\n",
        "df_seleccion_1.drop(columns='INDIGENA', inplace=True)"
      ],
      "metadata": {
        "id": "mgTpC5YnftRU"
      },
      "execution_count": 13,
      "outputs": []
    },
    {
      "cell_type": "markdown",
      "source": [
        "Campo DIABETES\n",
        "Codificación OneHot:\n",
        "```\n",
        "CLAVE - DESCRIPCIÓN\n",
        "1  - SI\n",
        "2  - NO\n",
        "97 - NO APLICA\n",
        "98 - SE IGNORA\n",
        "99 - NO ESPECIFICADO\n",
        "```"
      ],
      "metadata": {
        "id": "ryOjsEtD-fcu"
      }
    },
    {
      "cell_type": "code",
      "source": [
        "df_seleccion_1['DIABETES'].value_counts()"
      ],
      "metadata": {
        "colab": {
          "base_uri": "https://localhost:8080/"
        },
        "outputId": "0d4d0fe3-1655-4bda-ed9d-e97c2a10d3f2",
        "id": "0yb8x2JB-fcv"
      },
      "execution_count": null,
      "outputs": [
        {
          "output_type": "execute_result",
          "data": {
            "text/plain": [
              "2     427831\n",
              "1      38826\n",
              "98       681\n",
              "Name: DIABETES, dtype: int64"
            ]
          },
          "metadata": {},
          "execution_count": 350
        }
      ]
    },
    {
      "cell_type": "code",
      "source": [
        "df_DIABETES_onehot = one_hot_encode(df_seleccion_1['DIABETES'])\n",
        "df_seleccion_1 = pd.concat([df_seleccion_1, df_DIABETES_onehot], axis=1)\n",
        "df_seleccion_1.drop(columns='DIABETES', inplace=True)"
      ],
      "metadata": {
        "id": "OO8N2Cg3-fcv"
      },
      "execution_count": 14,
      "outputs": []
    },
    {
      "cell_type": "markdown",
      "source": [
        "Campo EPOC\n",
        "Codificación OneHot:\n",
        "```\n",
        "CLAVE - DESCRIPCIÓN\n",
        "1  - SI\n",
        "2  - NO\n",
        "97 - NO APLICA\n",
        "98 - SE IGNORA\n",
        "99 - NO ESPECIFICADO\n",
        "```"
      ],
      "metadata": {
        "id": "efi3KDRj-t6q"
      }
    },
    {
      "cell_type": "code",
      "source": [
        "df_seleccion_1['EPOC'].value_counts()"
      ],
      "metadata": {
        "colab": {
          "base_uri": "https://localhost:8080/"
        },
        "outputId": "3e5f8fe1-a029-4d3a-87b6-050dd6d96b3b",
        "id": "vzAYATgN-t6r"
      },
      "execution_count": null,
      "outputs": [
        {
          "output_type": "execute_result",
          "data": {
            "text/plain": [
              "2     463185\n",
              "1       3519\n",
              "98       634\n",
              "Name: EPOC, dtype: int64"
            ]
          },
          "metadata": {},
          "execution_count": 352
        }
      ]
    },
    {
      "cell_type": "code",
      "source": [
        "df_EPOC_onehot = one_hot_encode(df_seleccion_1['EPOC'])\n",
        "df_seleccion_1 = pd.concat([df_seleccion_1, df_EPOC_onehot], axis=1)\n",
        "df_seleccion_1.drop(columns='EPOC', inplace=True)"
      ],
      "metadata": {
        "id": "2YRCRvP9-t6s"
      },
      "execution_count": 15,
      "outputs": []
    },
    {
      "cell_type": "markdown",
      "source": [
        "Campo ASMA\n",
        "Codificación OneHot:\n",
        "```\n",
        "CLAVE - DESCRIPCIÓN\n",
        "1  - SI\n",
        "2  - NO\n",
        "97 - NO APLICA\n",
        "98 - SE IGNORA\n",
        "99 - NO ESPECIFICADO\n",
        "```"
      ],
      "metadata": {
        "id": "-8HJ8cyu-5qV"
      }
    },
    {
      "cell_type": "code",
      "source": [
        "df_seleccion_1['ASMA'].value_counts()"
      ],
      "metadata": {
        "colab": {
          "base_uri": "https://localhost:8080/"
        },
        "outputId": "94c1d3c3-3bfe-4f79-cb22-8ff1bfb542fe",
        "id": "RVlT7MmP-5qW"
      },
      "execution_count": null,
      "outputs": [
        {
          "output_type": "execute_result",
          "data": {
            "text/plain": [
              "2     456260\n",
              "1      10459\n",
              "98       619\n",
              "Name: ASMA, dtype: int64"
            ]
          },
          "metadata": {},
          "execution_count": 354
        }
      ]
    },
    {
      "cell_type": "code",
      "source": [
        "df_ASMA_onehot = one_hot_encode(df_seleccion_1['ASMA'])\n",
        "df_seleccion_1 = pd.concat([df_seleccion_1, df_ASMA_onehot], axis=1)\n",
        "df_seleccion_1.drop(columns='ASMA', inplace=True)"
      ],
      "metadata": {
        "id": "2hc9fz_q-5qY"
      },
      "execution_count": 16,
      "outputs": []
    },
    {
      "cell_type": "markdown",
      "source": [
        "Campo INMUSUPR\n",
        "Codificación OneHot:\n",
        "```\n",
        "CLAVE - DESCRIPCIÓN\n",
        "1  - SI\n",
        "2  - NO\n",
        "97 - NO APLICA\n",
        "98 - SE IGNORA\n",
        "99 - NO ESPECIFICADO\n",
        "```"
      ],
      "metadata": {
        "id": "rbkdFK8V_Dcm"
      }
    },
    {
      "cell_type": "code",
      "source": [
        "df_seleccion_1['INMUSUPR'].value_counts()"
      ],
      "metadata": {
        "colab": {
          "base_uri": "https://localhost:8080/"
        },
        "outputId": "5e7da46a-91c0-4687-9d9b-72757aeb8733",
        "id": "VwuB3Ito_Dcm"
      },
      "execution_count": null,
      "outputs": [
        {
          "output_type": "execute_result",
          "data": {
            "text/plain": [
              "2     463260\n",
              "1       3459\n",
              "98       619\n",
              "Name: INMUSUPR, dtype: int64"
            ]
          },
          "metadata": {},
          "execution_count": 356
        }
      ]
    },
    {
      "cell_type": "code",
      "source": [
        "df_INMUSUPR_onehot = one_hot_encode(df_seleccion_1['INMUSUPR'])\n",
        "df_seleccion_1 = pd.concat([df_seleccion_1, df_INMUSUPR_onehot], axis=1)\n",
        "df_seleccion_1.drop(columns='INMUSUPR', inplace=True)"
      ],
      "metadata": {
        "id": "Xu8NPtCD_Dcn"
      },
      "execution_count": 17,
      "outputs": []
    },
    {
      "cell_type": "markdown",
      "source": [
        "Campo HIPERTENSION\n",
        "Codificación OneHot:\n",
        "```\n",
        "CLAVE - DESCRIPCIÓN\n",
        "1  - SI\n",
        "2  - NO\n",
        "97 - NO APLICA\n",
        "98 - SE IGNORA\n",
        "99 - NO ESPECIFICADO\n",
        "```"
      ],
      "metadata": {
        "id": "X-VU4tlc_MQr"
      }
    },
    {
      "cell_type": "code",
      "source": [
        "df_seleccion_1['HIPERTENSION'].value_counts()"
      ],
      "metadata": {
        "colab": {
          "base_uri": "https://localhost:8080/"
        },
        "outputId": "155819e9-6157-4eb9-bbfd-222e25eeb189",
        "id": "YSi7YCLJ_MQs"
      },
      "execution_count": null,
      "outputs": [
        {
          "output_type": "execute_result",
          "data": {
            "text/plain": [
              "2     409089\n",
              "1      57620\n",
              "98       629\n",
              "Name: HIPERTENSION, dtype: int64"
            ]
          },
          "metadata": {},
          "execution_count": 358
        }
      ]
    },
    {
      "cell_type": "code",
      "source": [
        "df_HIPERTENSION_onehot = one_hot_encode(df_seleccion_1['HIPERTENSION'])\n",
        "df_seleccion_1 = pd.concat([df_seleccion_1, df_HIPERTENSION_onehot], axis=1)\n",
        "df_seleccion_1.drop(columns='HIPERTENSION', inplace=True)"
      ],
      "metadata": {
        "id": "9-me9Ru__MQt"
      },
      "execution_count": 18,
      "outputs": []
    },
    {
      "cell_type": "markdown",
      "source": [
        "Campo CARDIOVASCULAR\n",
        "Codificación OneHot:\n",
        "```\n",
        "CLAVE - DESCRIPCIÓN\n",
        "1  - SI\n",
        "2  - NO\n",
        "97 - NO APLICA\n",
        "98 - SE IGNORA\n",
        "99 - NO ESPECIFICADO\n",
        "```\n",
        "Codificación binaria:\n",
        "1 --> 1 Sí\n",
        "2 --> 0 No"
      ],
      "metadata": {
        "id": "x8-vfYFG_UP7"
      }
    },
    {
      "cell_type": "code",
      "source": [
        "df_seleccion_1['CARDIOVASCULAR'].value_counts()"
      ],
      "metadata": {
        "colab": {
          "base_uri": "https://localhost:8080/"
        },
        "outputId": "c04420c9-eb2d-4344-db7b-9ef348e34b62",
        "id": "SRm_EzAM_UP9"
      },
      "execution_count": null,
      "outputs": [
        {
          "output_type": "execute_result",
          "data": {
            "text/plain": [
              "2     461309\n",
              "1       5391\n",
              "98       638\n",
              "Name: CARDIOVASCULAR, dtype: int64"
            ]
          },
          "metadata": {},
          "execution_count": 360
        }
      ]
    },
    {
      "cell_type": "code",
      "source": [
        "df_CARDIOVASCULAR_onehot = one_hot_encode(df_seleccion_1['CARDIOVASCULAR'])\n",
        "df_seleccion_1 = pd.concat([df_seleccion_1, df_CARDIOVASCULAR_onehot], axis=1)\n",
        "df_seleccion_1.drop(columns='CARDIOVASCULAR', inplace=True)"
      ],
      "metadata": {
        "id": "Svd107sS_UP-"
      },
      "execution_count": 19,
      "outputs": []
    },
    {
      "cell_type": "markdown",
      "source": [
        "Campo OBESIDAD\n",
        "Codificación OneHot:\n",
        "```\n",
        "CLAVE - DESCRIPCIÓN\n",
        "1  - SI\n",
        "2  - NO\n",
        "97 - NO APLICA\n",
        "98 - SE IGNORA\n",
        "99 - NO ESPECIFICADO\n",
        "```"
      ],
      "metadata": {
        "id": "15g4mgEk_f3G"
      }
    },
    {
      "cell_type": "code",
      "source": [
        "df_seleccion_1['OBESIDAD'].value_counts()"
      ],
      "metadata": {
        "colab": {
          "base_uri": "https://localhost:8080/"
        },
        "outputId": "3d611ed2-2bbc-4097-9385-45f0ba16c6c9",
        "id": "8CaRuFih_f3H"
      },
      "execution_count": null,
      "outputs": [
        {
          "output_type": "execute_result",
          "data": {
            "text/plain": [
              "2     423119\n",
              "1      43606\n",
              "98       613\n",
              "Name: OBESIDAD, dtype: int64"
            ]
          },
          "metadata": {},
          "execution_count": 362
        }
      ]
    },
    {
      "cell_type": "code",
      "source": [
        "df_OBESIDAD_onehot = one_hot_encode(df_seleccion_1['OBESIDAD'])\n",
        "df_seleccion_1 = pd.concat([df_seleccion_1, df_OBESIDAD_onehot], axis=1)\n",
        "df_seleccion_1.drop(columns='OBESIDAD', inplace=True)"
      ],
      "metadata": {
        "id": "qmE0ugCI_f3H"
      },
      "execution_count": 20,
      "outputs": []
    },
    {
      "cell_type": "markdown",
      "source": [
        "Campo RENAL_CRONICA\n",
        "Codificación OneHot:\n",
        "```\n",
        "CLAVE - DESCRIPCIÓN\n",
        "1  - SI\n",
        "2  - NO\n",
        "97 - NO APLICA\n",
        "98 - SE IGNORA\n",
        "99 - NO ESPECIFICADO\n",
        "```"
      ],
      "metadata": {
        "id": "k58LU6BU_mqc"
      }
    },
    {
      "cell_type": "code",
      "source": [
        "df_seleccion_1['RENAL_CRONICA'].value_counts()"
      ],
      "metadata": {
        "colab": {
          "base_uri": "https://localhost:8080/"
        },
        "outputId": "3fafadb2-d171-4fc7-82f1-f2c8607f4804",
        "id": "hGCk4OFl_mqe"
      },
      "execution_count": null,
      "outputs": [
        {
          "output_type": "execute_result",
          "data": {
            "text/plain": [
              "2     462964\n",
              "1       3738\n",
              "98       636\n",
              "Name: RENAL_CRONICA, dtype: int64"
            ]
          },
          "metadata": {},
          "execution_count": 364
        }
      ]
    },
    {
      "cell_type": "code",
      "source": [
        "df_RENAL_CRONICA_onehot = one_hot_encode(df_seleccion_1['RENAL_CRONICA'])\n",
        "df_seleccion_1 = pd.concat([df_seleccion_1, df_RENAL_CRONICA_onehot], axis=1)\n",
        "df_seleccion_1.drop(columns='RENAL_CRONICA', inplace=True)"
      ],
      "metadata": {
        "id": "4p6td2PF_mqf"
      },
      "execution_count": 21,
      "outputs": []
    },
    {
      "cell_type": "markdown",
      "source": [
        "Campo TABAQUISMO\n",
        "Codificación OneHot:\n",
        "```\n",
        "CLAVE - DESCRIPCIÓN\n",
        "1  - SI\n",
        "2  - NO\n",
        "97 - NO APLICA\n",
        "98 - SE IGNORA\n",
        "99 - NO ESPECIFICADO\n",
        "```"
      ],
      "metadata": {
        "id": "8n3fVaSk_40S"
      }
    },
    {
      "cell_type": "code",
      "source": [
        "df_seleccion_1['TABAQUISMO'].value_counts()"
      ],
      "metadata": {
        "colab": {
          "base_uri": "https://localhost:8080/"
        },
        "outputId": "b2752bb3-f1f8-4d0c-c153-b9daf417b1d2",
        "id": "mTGJi-Xd_40V"
      },
      "execution_count": null,
      "outputs": [
        {
          "output_type": "execute_result",
          "data": {
            "text/plain": [
              "2     447317\n",
              "1      19360\n",
              "98       661\n",
              "Name: TABAQUISMO, dtype: int64"
            ]
          },
          "metadata": {},
          "execution_count": 366
        }
      ]
    },
    {
      "cell_type": "code",
      "source": [
        "df_TABAQUISMO_onehot = one_hot_encode(df_seleccion_1['TABAQUISMO'])\n",
        "df_seleccion_1 = pd.concat([df_seleccion_1, df_TABAQUISMO_onehot], axis=1)\n",
        "df_seleccion_1.drop(columns='TABAQUISMO', inplace=True)"
      ],
      "metadata": {
        "id": "Id4kO4Bh_40V"
      },
      "execution_count": 22,
      "outputs": []
    },
    {
      "cell_type": "markdown",
      "source": [
        "Campo OTRO_CASO\n",
        "Codificación OneHot:\n",
        "```\n",
        "CLAVE - DESCRIPCIÓN\n",
        "1  - SI\n",
        "2  - NO\n",
        "97 - NO APLICA\n",
        "98 - SE IGNORA\n",
        "99 - NO ESPECIFICADO\n",
        "```"
      ],
      "metadata": {
        "id": "UNP0vUhRlWzk"
      }
    },
    {
      "cell_type": "code",
      "source": [
        "df_seleccion_1['OTRO_CASO'].value_counts()"
      ],
      "metadata": {
        "colab": {
          "base_uri": "https://localhost:8080/"
        },
        "outputId": "4e70c218-c4c8-4b74-f883-01a1ba0ed430",
        "id": "ZclYX8j1lWzl"
      },
      "execution_count": null,
      "outputs": [
        {
          "output_type": "execute_result",
          "data": {
            "text/plain": [
              "2     391128\n",
              "1      70025\n",
              "99      6185\n",
              "Name: OTRO_CASO, dtype: int64"
            ]
          },
          "metadata": {},
          "execution_count": 368
        }
      ]
    },
    {
      "cell_type": "code",
      "source": [
        "df_OTRO_CASO_onehot = one_hot_encode(df_seleccion_1['OTRO_CASO'])\n",
        "df_seleccion_1 = pd.concat([df_seleccion_1, df_OTRO_CASO_onehot], axis=1)\n",
        "df_seleccion_1.drop(columns='OTRO_CASO', inplace=True)"
      ],
      "metadata": {
        "id": "L--599NolWzl"
      },
      "execution_count": 23,
      "outputs": []
    },
    {
      "cell_type": "markdown",
      "source": [
        "Campo UCI\n",
        "Codificación OneHot:\n",
        "```\n",
        "CLAVE - DESCRIPCIÓN\n",
        "1  - SI\n",
        "2  - NO\n",
        "97 - NO APLICA\n",
        "98 - SE IGNORA\n",
        "99 - NO ESPECIFICADO\n",
        "```"
      ],
      "metadata": {
        "id": "NUrot5PSUSqJ"
      }
    },
    {
      "cell_type": "code",
      "source": [
        "df_seleccion_1['UCI'].value_counts()"
      ],
      "metadata": {
        "colab": {
          "base_uri": "https://localhost:8080/"
        },
        "outputId": "8241ec78-d408-4c18-ab47-5f639c5c1d37",
        "id": "UmBzDIAMUSqL"
      },
      "execution_count": null,
      "outputs": [
        {
          "output_type": "execute_result",
          "data": {
            "text/plain": [
              "97    446655\n",
              "2      19625\n",
              "1        965\n",
              "99        93\n",
              "Name: UCI, dtype: int64"
            ]
          },
          "metadata": {},
          "execution_count": 370
        }
      ]
    },
    {
      "cell_type": "code",
      "source": [
        "df_UCI_onehot = one_hot_encode(df_seleccion_1['UCI'])\n",
        "df_seleccion_1 = pd.concat([df_seleccion_1, df_UCI_onehot], axis=1)\n",
        "df_seleccion_1.drop(columns='UCI', inplace=True)"
      ],
      "metadata": {
        "id": "iNWWuuy5USqM"
      },
      "execution_count": 24,
      "outputs": []
    },
    {
      "cell_type": "markdown",
      "source": [
        "Campo FALLECIDO\n",
        "Codificación binaria:\n",
        "SI --> 1\n",
        "NO --> 0"
      ],
      "metadata": {
        "id": "2wvHpoTIV5_K"
      }
    },
    {
      "cell_type": "code",
      "source": [
        "df_seleccion_1['FALLECIDO'].value_counts()"
      ],
      "metadata": {
        "colab": {
          "base_uri": "https://localhost:8080/"
        },
        "outputId": "69fb7980-68ca-4341-b09a-1541fdab9ac5",
        "id": "lfGSTt8KV5_M"
      },
      "execution_count": null,
      "outputs": [
        {
          "output_type": "execute_result",
          "data": {
            "text/plain": [
              "NO    464403\n",
              "SI      2935\n",
              "Name: FALLECIDO, dtype: int64"
            ]
          },
          "metadata": {},
          "execution_count": 372
        }
      ]
    },
    {
      "cell_type": "code",
      "source": [
        "df_seleccion_1['FALLECIDO'] = df_seleccion_1['FALLECIDO'].map(categorizar_si_no)\n",
        "df_seleccion_1['FALLECIDO'].value_counts()"
      ],
      "metadata": {
        "colab": {
          "base_uri": "https://localhost:8080/"
        },
        "outputId": "a05b663c-3122-446f-c87e-897118bda702",
        "id": "oL0mcvZgV5_N"
      },
      "execution_count": 25,
      "outputs": [
        {
          "output_type": "execute_result",
          "data": {
            "text/plain": [
              "0    464403\n",
              "1      2935\n",
              "Name: FALLECIDO, dtype: int64"
            ]
          },
          "metadata": {},
          "execution_count": 25
        }
      ]
    },
    {
      "cell_type": "markdown",
      "source": [
        "Campo ORIGEN\n",
        "Codificación OneHot:\n",
        "```\n",
        "CLAVE - DESCRIPCIÓN\n",
        "1  - USMER\n",
        "2  - FUERA DE USMER\n",
        "99 - NO ESPECIFICADO\n",
        "```\n"
      ],
      "metadata": {
        "id": "2ZUNRnBcmw2V"
      }
    },
    {
      "cell_type": "code",
      "source": [
        "df_seleccion_1['ORIGEN'].value_counts()"
      ],
      "metadata": {
        "colab": {
          "base_uri": "https://localhost:8080/"
        },
        "id": "63xqQ9_Tn5bN",
        "outputId": "5d0e7fc3-f6f0-467d-e327-dacc78929e79"
      },
      "execution_count": null,
      "outputs": [
        {
          "output_type": "execute_result",
          "data": {
            "text/plain": [
              "2    365910\n",
              "1    101428\n",
              "Name: ORIGEN, dtype: int64"
            ]
          },
          "metadata": {},
          "execution_count": 374
        }
      ]
    },
    {
      "cell_type": "code",
      "source": [
        "df_ORIGEN_onehot = one_hot_encode(df_seleccion_1['ORIGEN'])\n",
        "df_seleccion_1 = pd.concat([df_seleccion_1, df_ORIGEN_onehot], axis=1)\n",
        "df_seleccion_1.drop(columns='ORIGEN', inplace=True)"
      ],
      "metadata": {
        "id": "PW9-Vo0nmw2V"
      },
      "execution_count": 26,
      "outputs": []
    },
    {
      "cell_type": "markdown",
      "source": [
        "Campo SECTOR\n",
        "Codificación OneHot:\n",
        "```\n",
        "CLAVE - DESCRIPCIÓN\n",
        "1  -  CRUZ ROJA\n",
        "2  -  DIF\n",
        "3  -  ESTATAL\n",
        "4  -  IMSS\n",
        "5  -  IMSS-BIENESTAR\n",
        "6  -  ISSSTE\n",
        "7  -  MUNICIPAL\n",
        "8  -  PEMEX\n",
        "9  -  PRIVADA\n",
        "10 - SEDENA\n",
        "11 - SEMAR\n",
        "12 - SSA\n",
        "13 - UNIVERSITARIO\n",
        "99 - NO ESPECIFICADO\n",
        "```\n"
      ],
      "metadata": {
        "id": "_c2H3390oJzj"
      }
    },
    {
      "cell_type": "code",
      "source": [
        "df_seleccion_1['SECTOR'].value_counts()"
      ],
      "metadata": {
        "colab": {
          "base_uri": "https://localhost:8080/"
        },
        "outputId": "34673b11-44c7-4f71-98c4-ad63c4e3af43",
        "id": "a2YMBuGQoJzk"
      },
      "execution_count": null,
      "outputs": [
        {
          "output_type": "execute_result",
          "data": {
            "text/plain": [
              "4     289371\n",
              "12    118512\n",
              "9      25186\n",
              "6      24726\n",
              "3       5395\n",
              "8       1488\n",
              "5        989\n",
              "13       589\n",
              "11       449\n",
              "10       301\n",
              "7        169\n",
              "99        94\n",
              "2         54\n",
              "1         15\n",
              "Name: SECTOR, dtype: int64"
            ]
          },
          "metadata": {},
          "execution_count": 376
        }
      ]
    },
    {
      "cell_type": "code",
      "source": [
        "df_SECTOR_onehot = one_hot_encode(df_seleccion_1['SECTOR'])\n",
        "df_seleccion_1 = pd.concat([df_seleccion_1, df_SECTOR_onehot], axis=1)\n",
        "df_seleccion_1.drop(columns='SECTOR', inplace=True)"
      ],
      "metadata": {
        "id": "Yc3jH2LPoJzm"
      },
      "execution_count": 27,
      "outputs": []
    },
    {
      "cell_type": "markdown",
      "source": [
        "Campo ENTIDAD_UM\n",
        "Codificación OneHot:\n",
        "```\n",
        "CLAVE - DESCRIPCIÓN\n",
        "01 - AGUASCALIENTES\n",
        "02 - BAJA CALIFORNIA\n",
        "03 - BAJA CALIFORNIA SUR\n",
        "04 - CAMPECHE\n",
        "05 - COAHUILA DE ZARAGOZA\n",
        "06 - COLIMA\n",
        "07 - CHIAPAS\n",
        "08 - CHIHUAHUA\n",
        "09 - CIUDAD DE MÉXICO\n",
        "10 - DURANGO\n",
        "11 - GUANAJUATO\n",
        "12 - GUERRERO\n",
        "13 - HIDALGO\n",
        "14 - JALISCO\n",
        "15 - MÉXICO\n",
        "16 - MICHOACÁN DE OCAMPO\n",
        "17 - MORELOS\n",
        "18 - NAYARIT\n",
        "19 - NUEVO LEÓN\n",
        "20 - OAXACA\n",
        "21 - PUEBLA\n",
        "22 - QUERÉTARO\n",
        "23 - QUINTANA ROO\n",
        "24 - SAN LUIS POTOSÍ\n",
        "25 - SINALOA\n",
        "26 - SONORA\n",
        "27 - TABASCO\n",
        "28 - TAMAULIPAS\n",
        "29 - TLAXCALA\n",
        "30 - VERACRUZ DE IGNACIO DE LA LLAVE\n",
        "31 - YUCATÁN\n",
        "32 - ZACATECAS\n",
        "36 - ESTADOS UNIDOS MEXICANOS\n",
        "97 - NO APLICA\n",
        "98 - SE IGNORA\n",
        "99 - NO ESPECIFICADO\n",
        "```\n"
      ],
      "metadata": {
        "id": "S7H281W-pJSN"
      }
    },
    {
      "cell_type": "code",
      "source": [
        "df_seleccion_1['ENTIDAD_UM'].value_counts()"
      ],
      "metadata": {
        "colab": {
          "base_uri": "https://localhost:8080/"
        },
        "outputId": "c995e222-048a-4c4c-cc01-cd14e774c9ab",
        "id": "_1AeWlDEpJSO"
      },
      "execution_count": null,
      "outputs": [
        {
          "output_type": "execute_result",
          "data": {
            "text/plain": [
              "9     128393\n",
              "15     39631\n",
              "19     31366\n",
              "7      24666\n",
              "11     19229\n",
              "21     17585\n",
              "2      14801\n",
              "30     14798\n",
              "14     13994\n",
              "24     12599\n",
              "22     12244\n",
              "13     11121\n",
              "5       9885\n",
              "20      9565\n",
              "25      9452\n",
              "17      8675\n",
              "28      8604\n",
              "16      8271\n",
              "31      7875\n",
              "26      7528\n",
              "18      6831\n",
              "8       5818\n",
              "3       5626\n",
              "1       5486\n",
              "6       5475\n",
              "29      5264\n",
              "12      5057\n",
              "23      4979\n",
              "32      3752\n",
              "10      3155\n",
              "27      2813\n",
              "4       2800\n",
              "Name: ENTIDAD_UM, dtype: int64"
            ]
          },
          "metadata": {},
          "execution_count": 378
        }
      ]
    },
    {
      "cell_type": "code",
      "source": [
        "df_ENTIDAD_UM_onehot = one_hot_encode(df_seleccion_1['ENTIDAD_UM'])\n",
        "df_seleccion_1 = pd.concat([df_seleccion_1, df_ENTIDAD_UM_onehot], axis=1)\n",
        "df_seleccion_1.drop(columns='ENTIDAD_UM', inplace=True)"
      ],
      "metadata": {
        "id": "9tNzjBb4pJSP"
      },
      "execution_count": 28,
      "outputs": []
    },
    {
      "cell_type": "markdown",
      "source": [
        "Campo ENTIDAD_NAC\n",
        "Codificación OneHot:\n",
        "```\n",
        "CLAVE - DESCRIPCIÓN\n",
        "01 - AGUASCALIENTES\n",
        "02 - BAJA CALIFORNIA\n",
        "03 - BAJA CALIFORNIA SUR\n",
        "04 - CAMPECHE\n",
        "05 - COAHUILA DE ZARAGOZA\n",
        "06 - COLIMA\n",
        "07 - CHIAPAS\n",
        "08 - CHIHUAHUA\n",
        "09 - CIUDAD DE MÉXICO\n",
        "10 - DURANGO\n",
        "11 - GUANAJUATO\n",
        "12 - GUERRERO\n",
        "13 - HIDALGO\n",
        "14 - JALISCO\n",
        "15 - MÉXICO\n",
        "16 - MICHOACÁN DE OCAMPO\n",
        "17 - MORELOS\n",
        "18 - NAYARIT\n",
        "19 - NUEVO LEÓN\n",
        "20 - OAXACA\n",
        "21 - PUEBLA\n",
        "22 - QUERÉTARO\n",
        "23 - QUINTANA ROO\n",
        "24 - SAN LUIS POTOSÍ\n",
        "25 - SINALOA\n",
        "26 - SONORA\n",
        "27 - TABASCO\n",
        "28 - TAMAULIPAS\n",
        "29 - TLAXCALA\n",
        "30 - VERACRUZ DE IGNACIO DE LA LLAVE\n",
        "31 - YUCATÁN\n",
        "32 - ZACATECAS\n",
        "36 - ESTADOS UNIDOS MEXICANOS\n",
        "97 - NO APLICA\n",
        "98 - SE IGNORA\n",
        "99 - NO ESPECIFICADO\n",
        "```\n"
      ],
      "metadata": {
        "id": "1FGPvYya17fp"
      }
    },
    {
      "cell_type": "code",
      "source": [
        "df_seleccion_1['ENTIDAD_NAC'].value_counts()"
      ],
      "metadata": {
        "colab": {
          "base_uri": "https://localhost:8080/"
        },
        "outputId": "d4eeb649-f0c9-4c95-d940-7938404266d1",
        "id": "IRHQ8oyc17fq"
      },
      "execution_count": null,
      "outputs": [
        {
          "output_type": "execute_result",
          "data": {
            "text/plain": [
              "9     124734\n",
              "15     42726\n",
              "19     26405\n",
              "7      25980\n",
              "30     20162\n",
              "11     19682\n",
              "21     18620\n",
              "14     14427\n",
              "24     13254\n",
              "20     11765\n",
              "25     11104\n",
              "13     10579\n",
              "5      10263\n",
              "16     10179\n",
              "28      8601\n",
              "2       8400\n",
              "31      8297\n",
              "12      8247\n",
              "17      8048\n",
              "22      7643\n",
              "26      7553\n",
              "18      6582\n",
              "8       5714\n",
              "1       5436\n",
              "29      5349\n",
              "6       4652\n",
              "32      4326\n",
              "3       3972\n",
              "10      3831\n",
              "27      3762\n",
              "4       2778\n",
              "23      2604\n",
              "99      1663\n",
              "Name: ENTIDAD_NAC, dtype: int64"
            ]
          },
          "metadata": {},
          "execution_count": 380
        }
      ]
    },
    {
      "cell_type": "code",
      "source": [
        "df_ENTIDAD_NAC_onehot = one_hot_encode(df_seleccion_1['ENTIDAD_NAC'])\n",
        "df_seleccion_1 = pd.concat([df_seleccion_1, df_ENTIDAD_NAC_onehot], axis=1)\n",
        "df_seleccion_1.drop(columns='ENTIDAD_NAC', inplace=True)"
      ],
      "metadata": {
        "id": "SLmUI2fy17fq"
      },
      "execution_count": 29,
      "outputs": []
    },
    {
      "cell_type": "markdown",
      "source": [
        "Campo ENTIDAD_RES\n",
        "Codificación OneHot:\n",
        "```\n",
        "CLAVE - DESCRIPCIÓN\n",
        "01 - AGUASCALIENTES\n",
        "02 - BAJA CALIFORNIA\n",
        "03 - BAJA CALIFORNIA SUR\n",
        "04 - CAMPECHE\n",
        "05 - COAHUILA DE ZARAGOZA\n",
        "06 - COLIMA\n",
        "07 - CHIAPAS\n",
        "08 - CHIHUAHUA\n",
        "09 - CIUDAD DE MÉXICO\n",
        "10 - DURANGO\n",
        "11 - GUANAJUATO\n",
        "12 - GUERRERO\n",
        "13 - HIDALGO\n",
        "14 - JALISCO\n",
        "15 - MÉXICO\n",
        "16 - MICHOACÁN DE OCAMPO\n",
        "17 - MORELOS\n",
        "18 - NAYARIT\n",
        "19 - NUEVO LEÓN\n",
        "20 - OAXACA\n",
        "21 - PUEBLA\n",
        "22 - QUERÉTARO\n",
        "23 - QUINTANA ROO\n",
        "24 - SAN LUIS POTOSÍ\n",
        "25 - SINALOA\n",
        "26 - SONORA\n",
        "27 - TABASCO\n",
        "28 - TAMAULIPAS\n",
        "29 - TLAXCALA\n",
        "30 - VERACRUZ DE IGNACIO DE LA LLAVE\n",
        "31 - YUCATÁN\n",
        "32 - ZACATECAS\n",
        "36 - ESTADOS UNIDOS MEXICANOS\n",
        "97 - NO APLICA\n",
        "98 - SE IGNORA\n",
        "99 - NO ESPECIFICADO\n",
        "```\n"
      ],
      "metadata": {
        "id": "t6wcwZvf4AcO"
      }
    },
    {
      "cell_type": "code",
      "source": [
        "df_seleccion_1['ENTIDAD_RES'].value_counts()"
      ],
      "metadata": {
        "colab": {
          "base_uri": "https://localhost:8080/"
        },
        "outputId": "a48b0a34-c493-4ce5-fe5a-b0b90e36c439",
        "id": "QI-YIddK4AcQ"
      },
      "execution_count": null,
      "outputs": [
        {
          "output_type": "execute_result",
          "data": {
            "text/plain": [
              "9     117398\n",
              "15     49560\n",
              "19     31400\n",
              "7      24736\n",
              "11     19272\n",
              "21     17639\n",
              "30     14969\n",
              "2      14863\n",
              "14     14054\n",
              "24     12553\n",
              "22     12299\n",
              "13     11170\n",
              "5       9894\n",
              "20      9638\n",
              "25      9372\n",
              "17      8788\n",
              "28      8627\n",
              "16      8390\n",
              "31      7894\n",
              "26      7538\n",
              "18      6807\n",
              "8       5844\n",
              "3       5638\n",
              "1       5510\n",
              "6       5444\n",
              "29      5348\n",
              "12      5167\n",
              "23      4995\n",
              "32      3775\n",
              "10      3192\n",
              "27      2805\n",
              "4       2759\n",
              "Name: ENTIDAD_RES, dtype: int64"
            ]
          },
          "metadata": {},
          "execution_count": 382
        }
      ]
    },
    {
      "cell_type": "code",
      "source": [
        "df_ENTIDAD_RES_onehot = one_hot_encode(df_seleccion_1['ENTIDAD_RES'])\n",
        "df_seleccion_1 = pd.concat([df_seleccion_1, df_ENTIDAD_RES_onehot], axis=1)\n",
        "df_seleccion_1.drop(columns='ENTIDAD_RES', inplace=True)"
      ],
      "metadata": {
        "id": "e1YJjyEy4AcQ"
      },
      "execution_count": 30,
      "outputs": []
    },
    {
      "cell_type": "markdown",
      "source": [
        "Campo TIPO_PACIENTE\n",
        "Codificación OneHot:\n",
        "```\n",
        "CLAVE - DESCRIPCIÓN\n",
        "1  - AMBULATORIO\n",
        "2  - HOSPITALIZADO\n",
        "99 - NO ESPECIFICADO\n",
        "```\n"
      ],
      "metadata": {
        "id": "7_nczZnk7gjt"
      }
    },
    {
      "cell_type": "code",
      "source": [
        "df_seleccion_1['TIPO_PACIENTE'].value_counts()"
      ],
      "metadata": {
        "colab": {
          "base_uri": "https://localhost:8080/"
        },
        "outputId": "198f2180-0760-4b60-8f6b-486ae5ff69a0",
        "id": "-goCIPSm7gjv"
      },
      "execution_count": null,
      "outputs": [
        {
          "output_type": "execute_result",
          "data": {
            "text/plain": [
              "1    446655\n",
              "2     20683\n",
              "Name: TIPO_PACIENTE, dtype: int64"
            ]
          },
          "metadata": {},
          "execution_count": 384
        }
      ]
    },
    {
      "cell_type": "code",
      "source": [
        "df_TIPO_PACIENTE_onehot = one_hot_encode(df_seleccion_1['TIPO_PACIENTE'])\n",
        "df_seleccion_1 = pd.concat([df_seleccion_1, df_TIPO_PACIENTE_onehot], axis=1)\n",
        "df_seleccion_1.drop(columns='TIPO_PACIENTE', inplace=True)"
      ],
      "metadata": {
        "id": "gsuBJUjZ7gjw"
      },
      "execution_count": 31,
      "outputs": []
    },
    {
      "cell_type": "markdown",
      "source": [
        "Campo EDAD\n",
        "```\n",
        "CApeo para mayores o iguales al valor del percentil 99\n",
        "```\n"
      ],
      "metadata": {
        "id": "_bDYDPlmOibK"
      }
    },
    {
      "cell_type": "code",
      "source": [
        "df_seleccion_1['EDAD']"
      ],
      "metadata": {
        "colab": {
          "base_uri": "https://localhost:8080/"
        },
        "id": "tMnuMftKndac",
        "outputId": "b4ce85ed-9e95-496e-baa7-0b1c00e55f3b"
      },
      "execution_count": null,
      "outputs": [
        {
          "output_type": "execute_result",
          "data": {
            "text/plain": [
              "3          45\n",
              "4          54\n",
              "5          65\n",
              "6          62\n",
              "7          40\n",
              "           ..\n",
              "1137978    49\n",
              "1137980    27\n",
              "1137982    26\n",
              "1137989    68\n",
              "1137991    50\n",
              "Name: EDAD, Length: 467338, dtype: int64"
            ]
          },
          "metadata": {},
          "execution_count": 386
        }
      ]
    },
    {
      "cell_type": "code",
      "source": [
        "# Calcula el percentil 99 de la columna \"EDAD\"\n",
        "percentil_99 = df_seleccion_1['EDAD'].quantile(0.99)\n",
        "#print(percentil_99)\n",
        "# Aplica el capeo para asignar el valor del percentil 99 a las edades mayores o iguales\n",
        "df_seleccion_1['EDAD'] = df_seleccion_1['EDAD'].apply(lambda x: percentil_99 if x >= percentil_99 else x)\n",
        "df_seleccion_1['EDAD'] = df_seleccion_1['EDAD'].astype(int)"
      ],
      "metadata": {
        "id": "6MNCuryL4SMC"
      },
      "execution_count": 32,
      "outputs": []
    },
    {
      "cell_type": "markdown",
      "source": [
        "Campo DIAS_SINTOMAS\n",
        "```\n",
        "Calculo la cantidad de días de síntomas del paciente restando FECHA_ACTUALIZACION - FECHA_SINTOMAS\n",
        "```\n"
      ],
      "metadata": {
        "id": "gpTYlBMZQ5gp"
      }
    },
    {
      "cell_type": "code",
      "source": [
        "df_seleccion_1['FECHA_DEF'] = np.where(df_seleccion_1['FECHA_DEF'] != '9999-99-99', df_seleccion_1['FECHA_DEF'], '1777-11-11')\n",
        "#df_seleccion_1['FECHA_DEF'] = pd.to_datetime(df_seleccion_1['FECHA_DEF'], format='%Y-%m-%d')\n",
        "#print(df_seleccion_1['FECHA_DEF'] != '1111-11-11')\n",
        "#print(df_seleccion_1['FECHA_DEF'].loc[df_seleccion_1['FECHA_DEF'] != '1111-11-11'])\n",
        "#df_seleccion_1['FECHA_DEF'] = pd.to_datetime(df_seleccion_1['FECHA_DEF'], format='%Y-%m-%d')\n",
        "#print(df_seleccion_1['FECHA_DEF'])\n",
        "\n",
        "def sintomas_defuncion(fecha_def, fecha_sintomas):\n",
        "  fecha_def = pd.to_datetime(fecha_def)\n",
        "  fecha_sintomas = pd.to_datetime(fecha_sintomas)\n",
        "  return (fecha_def - fecha_sintomas).dt.days\n",
        "\n",
        "def sintomas_actualizacion(fecha_act, fecha_sintomas):\n",
        "  fecha_act = pd.to_datetime(fecha_act)\n",
        "  fecha_sintomas = pd.to_datetime(fecha_sintomas)\n",
        "  return (fecha_act - fecha_sintomas).dt.days\n",
        "\n",
        "#df_seleccion_1['DIAS_SINTOMAS'] = df.apply(lambda row : sintomas(row['FECHA_DEF'], row['FECHA_ACTUALIZACION'], row['FECHA_SINTOMAS']), axis = 1)\n",
        "df_seleccion_1['DIAS_SINTOMAS'] = np.where(df_seleccion_1['FALLECIDO'] == 0, sintomas_actualizacion(df_seleccion_1['FECHA_ACTUALIZACION'],df_seleccion_1['FECHA_SINTOMAS']), sintomas_defuncion(df_seleccion_1['FECHA_DEF'],df_seleccion_1['FECHA_SINTOMAS']))\n",
        "\n"
      ],
      "metadata": {
        "colab": {
          "base_uri": "https://localhost:8080/"
        },
        "id": "KWvnBlRkQBNb",
        "outputId": "103e877e-cf86-48ec-a94b-937dc3060b74"
      },
      "execution_count": 33,
      "outputs": [
        {
          "output_type": "stream",
          "name": "stderr",
          "text": [
            "<ipython-input-33-60b0341627fd>:19: PerformanceWarning: DataFrame is highly fragmented.  This is usually the result of calling `frame.insert` many times, which has poor performance.  Consider joining all columns at once using pd.concat(axis=1) instead. To get a de-fragmented frame, use `newframe = frame.copy()`\n",
            "  df_seleccion_1['DIAS_SINTOMAS'] = np.where(df_seleccion_1['FALLECIDO'] == 0, sintomas_actualizacion(df_seleccion_1['FECHA_ACTUALIZACION'],df_seleccion_1['FECHA_SINTOMAS']), sintomas_defuncion(df_seleccion_1['FECHA_DEF'],df_seleccion_1['FECHA_SINTOMAS']))\n"
          ]
        }
      ]
    },
    {
      "cell_type": "markdown",
      "source": [
        "Campo CLASIFICACION_FINAL\n",
        "Codificación OneHot:\n",
        "```\n",
        "CLAVE - DESCRIPCIÓN\n",
        "1 - CASO DE COVID-19 CONFIRMADO POR ASOCIACIÓN CLÍNICA EPIDEMIOLÓGICA\n",
        "2 - CASO DE COVID-19 CONFIRMADO POR COMITÉ DE  DICTAMINACIÓN\n",
        "3 - CASO DE SARS-COV-2  CONFIRMADO\n",
        "4 - INVÁLIDO POR LABORATORIO\n",
        "5 - NO REALIZADO POR LABORATORIO\n",
        "6 - CASO SOSPECHOSO\n",
        "7 - NEGATIVO A SARS-COV-2\n",
        "```\n"
      ],
      "metadata": {
        "id": "RiDQ3Zi6_MHQ"
      }
    },
    {
      "cell_type": "code",
      "source": [
        "df_seleccion_1['CLASIFICACION_FINAL'].value_counts()\n"
      ],
      "metadata": {
        "colab": {
          "base_uri": "https://localhost:8080/"
        },
        "id": "KXsuLqGlfjVG",
        "outputId": "0986473d-8ca7-4d6a-cd88-4f8f1bc0d3ab"
      },
      "execution_count": null,
      "outputs": [
        {
          "output_type": "execute_result",
          "data": {
            "text/plain": [
              "3    410273\n",
              "6     49075\n",
              "1      7962\n",
              "2        28\n",
              "Name: CLASIFICACION_FINAL, dtype: int64"
            ]
          },
          "metadata": {},
          "execution_count": 390
        }
      ]
    },
    {
      "cell_type": "code",
      "source": [
        "df_CLASIFICACION_FINAL_onehot = one_hot_encode(df_seleccion_1['CLASIFICACION_FINAL'])\n",
        "df_seleccion_1 = pd.concat([df_seleccion_1, df_CLASIFICACION_FINAL_onehot], axis=1)\n",
        "df_seleccion_1.drop(columns='CLASIFICACION_FINAL', inplace=True)"
      ],
      "metadata": {
        "id": "RxUdAZlE_MHS"
      },
      "execution_count": 34,
      "outputs": []
    },
    {
      "cell_type": "markdown",
      "source": [
        " Borro los campos a los cuales le apliqué la codificación OneHot"
      ],
      "metadata": {
        "id": "SEhdLfGvF050"
      }
    },
    {
      "cell_type": "code",
      "source": [
        "#df_seleccion_1.drop(columns='INTUBADO', inplace=True)\n",
        "#df_seleccion_1.drop(columns='NEUMONIA', inplace=True)\n",
        "#df_seleccion_1.drop(columns='EMBARAZO', inplace=True)\n",
        "#df_seleccion_1.drop(columns='INDIGENA', inplace=True)\n",
        "#df_seleccion_1.drop(columns='DIABETES', inplace=True)\n",
        "#df_seleccion_1.drop(columns='EPOC', inplace=True)\n",
        "#df_seleccion_1.drop(columns='ASMA', inplace=True)\n",
        "#df_seleccion_1.drop(columns='INMUSUPR', inplace=True)\n",
        "#df_seleccion_1.drop(columns='HIPERTENSION', inplace=True)\n",
        "#df_seleccion_1.drop(columns='CARDIOVASCULAR', inplace=True)\n",
        "#df_seleccion_1.drop(columns='OBESIDAD', inplace=True)\n",
        "#df_seleccion_1.drop(columns='RENAL_CRONICA', inplace=True)\n",
        "#df_seleccion_1.drop(columns='TABAQUISMO', inplace=True)\n",
        "#df_seleccion_1.drop(columns='OTRO_CASO', inplace=True)\n",
        "#df_seleccion_1.drop(columns='UCI', inplace=True)\n",
        "#df_seleccion_1.drop(columns='ORIGEN', inplace=True)\n",
        "#df_seleccion_1.drop(columns='SECTOR', inplace=True)\n",
        "#df_seleccion_1.drop(columns='ENTIDAD_UM', inplace=True)\n",
        "#df_seleccion_1.drop(columns='ENTIDAD_NAC', inplace=True)\n",
        "#df_seleccion_1.drop(columns='ENTIDAD_RES', inplace=True)\n",
        "#df_seleccion_1.drop(columns='TIPO_PACIENTE', inplace=True)\n",
        "#df_seleccion_1.drop(columns='CLASIFICACION_FINAL', inplace=True)\n",
        "df_seleccion_1.drop(columns='FECHA_ACTUALIZACION', inplace=True)\n",
        "df_seleccion_1.drop(columns='MUNICIPIO_RES', inplace=True)\n",
        "df_seleccion_1.drop(columns='FECHA_INGRESO', inplace=True)\n",
        "df_seleccion_1.drop(columns='FECHA_DEF', inplace=True)\n",
        "df_seleccion_1.drop(columns='FECHA_SINTOMAS', inplace=True)"
      ],
      "metadata": {
        "id": "5Wnj1wCSAHhh"
      },
      "execution_count": 35,
      "outputs": []
    },
    {
      "cell_type": "markdown",
      "source": [
        "# Organización de datos"
      ],
      "metadata": {
        "id": "noM4cgw3Y5ul"
      }
    },
    {
      "cell_type": "code",
      "source": [
        "from imblearn.under_sampling import RandomUnderSampler\n",
        "from sklearn.model_selection import train_test_split\n",
        "from collections import Counter"
      ],
      "metadata": {
        "id": "EqeP0EHzjruW"
      },
      "execution_count": 36,
      "outputs": []
    },
    {
      "cell_type": "code",
      "source": [
        "y = df_seleccion_1['FALLECIDO']\n",
        "rus = RandomUnderSampler(random_state=42, replacement=False)\n",
        "df_rus, y_rus = rus.fit_resample(df_seleccion_1, y)\n",
        "print('Original dataset shape:', Counter(y))\n",
        "print('Resample dataset shape', Counter(y_rus))"
      ],
      "metadata": {
        "colab": {
          "base_uri": "https://localhost:8080/"
        },
        "id": "H91pvk5tjwIU",
        "outputId": "6624e2cc-bfdf-413a-92b0-641be614a40a"
      },
      "execution_count": 37,
      "outputs": [
        {
          "output_type": "stream",
          "name": "stdout",
          "text": [
            "Original dataset shape: Counter({0: 464403, 1: 2935})\n",
            "Resample dataset shape Counter({0: 2935, 1: 2935})\n"
          ]
        }
      ]
    },
    {
      "cell_type": "code",
      "source": [
        "df_seleccion_1.isnull().sum()"
      ],
      "metadata": {
        "colab": {
          "base_uri": "https://localhost:8080/"
        },
        "id": "tN2n9SRV2yyl",
        "outputId": "3ff65071-bd2a-4161-a58a-cf95065841ea"
      },
      "execution_count": 38,
      "outputs": [
        {
          "output_type": "execute_result",
          "data": {
            "text/plain": [
              "SEXO                     0\n",
              "EDAD                     0\n",
              "FALLECIDO                0\n",
              "INTUBADO_1               0\n",
              "INTUBADO_2               0\n",
              "                        ..\n",
              "DIAS_SINTOMAS            0\n",
              "CLASIFICACION_FINAL_1    0\n",
              "CLASIFICACION_FINAL_2    0\n",
              "CLASIFICACION_FINAL_3    0\n",
              "CLASIFICACION_FINAL_6    0\n",
              "Length: 172, dtype: int64"
            ]
          },
          "metadata": {},
          "execution_count": 38
        }
      ]
    },
    {
      "cell_type": "markdown",
      "source": [
        "Aplicar partición de entrenamiento 70% y prueba 30%."
      ],
      "metadata": {
        "id": "cQM2GKNOZO1X"
      }
    },
    {
      "cell_type": "code",
      "source": [
        "from sklearn import model_selection\n",
        "from sklearn.model_selection import train_test_split\n",
        "\n",
        "df_train, df_test = model_selection.train_test_split(df_rus, test_size=0.3, random_state=7)\n",
        "#X_train, X_test, y_train, y_test = train_test_split(df_rus, y_rus, test_size=0.2, random_state=42, shuffle=True)\n"
      ],
      "metadata": {
        "id": "YsswgxhQZIyL"
      },
      "execution_count": 39,
      "outputs": []
    },
    {
      "cell_type": "markdown",
      "source": [
        "Dividir atributos de las etiquetas usando todos los atributos"
      ],
      "metadata": {
        "id": "cGWDlcNLby0v"
      }
    },
    {
      "cell_type": "code",
      "source": [
        "etiqueta = ['FALLECIDO']\n",
        "X_train = df_train.drop(['FALLECIDO'], axis=1)  #Atributos\n",
        "y_train = df_train[etiqueta]  #Etiqueta\n",
        "X_test = df_test.drop(['FALLECIDO'], axis=1)  #Atributos\n",
        "y_test = df_test[etiqueta]  #Etiqueta"
      ],
      "metadata": {
        "id": "N5wixLWzb3qj"
      },
      "execution_count": 40,
      "outputs": []
    },
    {
      "cell_type": "code",
      "source": [
        "X_train.head(15)"
      ],
      "metadata": {
        "colab": {
          "base_uri": "https://localhost:8080/",
          "height": 569
        },
        "id": "n_jmkC832aoV",
        "outputId": "e5b827b7-1a06-4c65-806d-45c40ed14d98"
      },
      "execution_count": 41,
      "outputs": [
        {
          "output_type": "execute_result",
          "data": {
            "text/plain": [
              "      SEXO  EDAD  INTUBADO_1  INTUBADO_2  INTUBADO_97  INTUBADO_99  \\\n",
              "3988     0    86           0           1            0            0   \n",
              "5246     0    65           0           1            0            0   \n",
              "4382     0    85           0           1            0            0   \n",
              "2600     0    37           0           0            1            0   \n",
              "2368     1    23           0           0            1            0   \n",
              "4490     1    86           0           1            0            0   \n",
              "9        1    36           0           0            1            0   \n",
              "3882     0    86           1           0            0            0   \n",
              "405      1    59           0           0            1            0   \n",
              "873      1    22           0           0            1            0   \n",
              "4232     0    83           0           1            0            0   \n",
              "3992     0    86           0           1            0            0   \n",
              "2573     1    35           0           0            1            0   \n",
              "4526     0    84           0           1            0            0   \n",
              "4178     0    79           0           1            0            0   \n",
              "\n",
              "      NEUMONIA_1  NEUMONIA_2  NEUMONIA_99  EMBARAZO_1  ...  ENTIDAD_RES_30  \\\n",
              "3988           1           0            0           0  ...               0   \n",
              "5246           1           0            0           0  ...               0   \n",
              "4382           0           1            0           0  ...               0   \n",
              "2600           0           1            0           0  ...               0   \n",
              "2368           0           1            0           0  ...               0   \n",
              "4490           1           0            0           0  ...               0   \n",
              "9              0           1            0           0  ...               0   \n",
              "3882           1           0            0           0  ...               0   \n",
              "405            0           1            0           0  ...               0   \n",
              "873            0           1            0           0  ...               0   \n",
              "4232           1           0            0           0  ...               0   \n",
              "3992           1           0            0           0  ...               0   \n",
              "2573           0           1            0           0  ...               0   \n",
              "4526           1           0            0           0  ...               1   \n",
              "4178           1           0            0           0  ...               0   \n",
              "\n",
              "      ENTIDAD_RES_31  ENTIDAD_RES_32  TIPO_PACIENTE_1  TIPO_PACIENTE_2  \\\n",
              "3988               0               1                0                1   \n",
              "5246               0               0                0                1   \n",
              "4382               0               0                0                1   \n",
              "2600               0               0                1                0   \n",
              "2368               0               0                1                0   \n",
              "4490               0               0                0                1   \n",
              "9                  0               0                1                0   \n",
              "3882               0               0                0                1   \n",
              "405                0               0                1                0   \n",
              "873                0               0                1                0   \n",
              "4232               0               0                0                1   \n",
              "3992               0               0                0                1   \n",
              "2573               0               0                1                0   \n",
              "4526               0               0                0                1   \n",
              "4178               0               0                0                1   \n",
              "\n",
              "      DIAS_SINTOMAS  CLASIFICACION_FINAL_1  CLASIFICACION_FINAL_2  \\\n",
              "3988             14                      0                      0   \n",
              "5246              3                      0                      0   \n",
              "4382             14                      0                      0   \n",
              "2600            145                      0                      0   \n",
              "2368            135                      0                      0   \n",
              "4490             25                      0                      0   \n",
              "9               202                      0                      0   \n",
              "3882             14                      0                      1   \n",
              "405             200                      0                      0   \n",
              "873              24                      0                      0   \n",
              "4232              4                      0                      0   \n",
              "3992             13                      0                      0   \n",
              "2573             55                      0                      0   \n",
              "4526             17                      0                      0   \n",
              "4178             36                      0                      0   \n",
              "\n",
              "      CLASIFICACION_FINAL_3  CLASIFICACION_FINAL_6  \n",
              "3988                      1                      0  \n",
              "5246                      0                      1  \n",
              "4382                      1                      0  \n",
              "2600                      1                      0  \n",
              "2368                      1                      0  \n",
              "4490                      1                      0  \n",
              "9                         1                      0  \n",
              "3882                      0                      0  \n",
              "405                       1                      0  \n",
              "873                       1                      0  \n",
              "4232                      1                      0  \n",
              "3992                      1                      0  \n",
              "2573                      1                      0  \n",
              "4526                      1                      0  \n",
              "4178                      1                      0  \n",
              "\n",
              "[15 rows x 171 columns]"
            ],
            "text/html": [
              "\n",
              "  <div id=\"df-2250c86b-aede-42f8-a9df-0ed2b00c762c\" class=\"colab-df-container\">\n",
              "    <div>\n",
              "<style scoped>\n",
              "    .dataframe tbody tr th:only-of-type {\n",
              "        vertical-align: middle;\n",
              "    }\n",
              "\n",
              "    .dataframe tbody tr th {\n",
              "        vertical-align: top;\n",
              "    }\n",
              "\n",
              "    .dataframe thead th {\n",
              "        text-align: right;\n",
              "    }\n",
              "</style>\n",
              "<table border=\"1\" class=\"dataframe\">\n",
              "  <thead>\n",
              "    <tr style=\"text-align: right;\">\n",
              "      <th></th>\n",
              "      <th>SEXO</th>\n",
              "      <th>EDAD</th>\n",
              "      <th>INTUBADO_1</th>\n",
              "      <th>INTUBADO_2</th>\n",
              "      <th>INTUBADO_97</th>\n",
              "      <th>INTUBADO_99</th>\n",
              "      <th>NEUMONIA_1</th>\n",
              "      <th>NEUMONIA_2</th>\n",
              "      <th>NEUMONIA_99</th>\n",
              "      <th>EMBARAZO_1</th>\n",
              "      <th>...</th>\n",
              "      <th>ENTIDAD_RES_30</th>\n",
              "      <th>ENTIDAD_RES_31</th>\n",
              "      <th>ENTIDAD_RES_32</th>\n",
              "      <th>TIPO_PACIENTE_1</th>\n",
              "      <th>TIPO_PACIENTE_2</th>\n",
              "      <th>DIAS_SINTOMAS</th>\n",
              "      <th>CLASIFICACION_FINAL_1</th>\n",
              "      <th>CLASIFICACION_FINAL_2</th>\n",
              "      <th>CLASIFICACION_FINAL_3</th>\n",
              "      <th>CLASIFICACION_FINAL_6</th>\n",
              "    </tr>\n",
              "  </thead>\n",
              "  <tbody>\n",
              "    <tr>\n",
              "      <th>3988</th>\n",
              "      <td>0</td>\n",
              "      <td>86</td>\n",
              "      <td>0</td>\n",
              "      <td>1</td>\n",
              "      <td>0</td>\n",
              "      <td>0</td>\n",
              "      <td>1</td>\n",
              "      <td>0</td>\n",
              "      <td>0</td>\n",
              "      <td>0</td>\n",
              "      <td>...</td>\n",
              "      <td>0</td>\n",
              "      <td>0</td>\n",
              "      <td>1</td>\n",
              "      <td>0</td>\n",
              "      <td>1</td>\n",
              "      <td>14</td>\n",
              "      <td>0</td>\n",
              "      <td>0</td>\n",
              "      <td>1</td>\n",
              "      <td>0</td>\n",
              "    </tr>\n",
              "    <tr>\n",
              "      <th>5246</th>\n",
              "      <td>0</td>\n",
              "      <td>65</td>\n",
              "      <td>0</td>\n",
              "      <td>1</td>\n",
              "      <td>0</td>\n",
              "      <td>0</td>\n",
              "      <td>1</td>\n",
              "      <td>0</td>\n",
              "      <td>0</td>\n",
              "      <td>0</td>\n",
              "      <td>...</td>\n",
              "      <td>0</td>\n",
              "      <td>0</td>\n",
              "      <td>0</td>\n",
              "      <td>0</td>\n",
              "      <td>1</td>\n",
              "      <td>3</td>\n",
              "      <td>0</td>\n",
              "      <td>0</td>\n",
              "      <td>0</td>\n",
              "      <td>1</td>\n",
              "    </tr>\n",
              "    <tr>\n",
              "      <th>4382</th>\n",
              "      <td>0</td>\n",
              "      <td>85</td>\n",
              "      <td>0</td>\n",
              "      <td>1</td>\n",
              "      <td>0</td>\n",
              "      <td>0</td>\n",
              "      <td>0</td>\n",
              "      <td>1</td>\n",
              "      <td>0</td>\n",
              "      <td>0</td>\n",
              "      <td>...</td>\n",
              "      <td>0</td>\n",
              "      <td>0</td>\n",
              "      <td>0</td>\n",
              "      <td>0</td>\n",
              "      <td>1</td>\n",
              "      <td>14</td>\n",
              "      <td>0</td>\n",
              "      <td>0</td>\n",
              "      <td>1</td>\n",
              "      <td>0</td>\n",
              "    </tr>\n",
              "    <tr>\n",
              "      <th>2600</th>\n",
              "      <td>0</td>\n",
              "      <td>37</td>\n",
              "      <td>0</td>\n",
              "      <td>0</td>\n",
              "      <td>1</td>\n",
              "      <td>0</td>\n",
              "      <td>0</td>\n",
              "      <td>1</td>\n",
              "      <td>0</td>\n",
              "      <td>0</td>\n",
              "      <td>...</td>\n",
              "      <td>0</td>\n",
              "      <td>0</td>\n",
              "      <td>0</td>\n",
              "      <td>1</td>\n",
              "      <td>0</td>\n",
              "      <td>145</td>\n",
              "      <td>0</td>\n",
              "      <td>0</td>\n",
              "      <td>1</td>\n",
              "      <td>0</td>\n",
              "    </tr>\n",
              "    <tr>\n",
              "      <th>2368</th>\n",
              "      <td>1</td>\n",
              "      <td>23</td>\n",
              "      <td>0</td>\n",
              "      <td>0</td>\n",
              "      <td>1</td>\n",
              "      <td>0</td>\n",
              "      <td>0</td>\n",
              "      <td>1</td>\n",
              "      <td>0</td>\n",
              "      <td>0</td>\n",
              "      <td>...</td>\n",
              "      <td>0</td>\n",
              "      <td>0</td>\n",
              "      <td>0</td>\n",
              "      <td>1</td>\n",
              "      <td>0</td>\n",
              "      <td>135</td>\n",
              "      <td>0</td>\n",
              "      <td>0</td>\n",
              "      <td>1</td>\n",
              "      <td>0</td>\n",
              "    </tr>\n",
              "    <tr>\n",
              "      <th>4490</th>\n",
              "      <td>1</td>\n",
              "      <td>86</td>\n",
              "      <td>0</td>\n",
              "      <td>1</td>\n",
              "      <td>0</td>\n",
              "      <td>0</td>\n",
              "      <td>1</td>\n",
              "      <td>0</td>\n",
              "      <td>0</td>\n",
              "      <td>0</td>\n",
              "      <td>...</td>\n",
              "      <td>0</td>\n",
              "      <td>0</td>\n",
              "      <td>0</td>\n",
              "      <td>0</td>\n",
              "      <td>1</td>\n",
              "      <td>25</td>\n",
              "      <td>0</td>\n",
              "      <td>0</td>\n",
              "      <td>1</td>\n",
              "      <td>0</td>\n",
              "    </tr>\n",
              "    <tr>\n",
              "      <th>9</th>\n",
              "      <td>1</td>\n",
              "      <td>36</td>\n",
              "      <td>0</td>\n",
              "      <td>0</td>\n",
              "      <td>1</td>\n",
              "      <td>0</td>\n",
              "      <td>0</td>\n",
              "      <td>1</td>\n",
              "      <td>0</td>\n",
              "      <td>0</td>\n",
              "      <td>...</td>\n",
              "      <td>0</td>\n",
              "      <td>0</td>\n",
              "      <td>0</td>\n",
              "      <td>1</td>\n",
              "      <td>0</td>\n",
              "      <td>202</td>\n",
              "      <td>0</td>\n",
              "      <td>0</td>\n",
              "      <td>1</td>\n",
              "      <td>0</td>\n",
              "    </tr>\n",
              "    <tr>\n",
              "      <th>3882</th>\n",
              "      <td>0</td>\n",
              "      <td>86</td>\n",
              "      <td>1</td>\n",
              "      <td>0</td>\n",
              "      <td>0</td>\n",
              "      <td>0</td>\n",
              "      <td>1</td>\n",
              "      <td>0</td>\n",
              "      <td>0</td>\n",
              "      <td>0</td>\n",
              "      <td>...</td>\n",
              "      <td>0</td>\n",
              "      <td>0</td>\n",
              "      <td>0</td>\n",
              "      <td>0</td>\n",
              "      <td>1</td>\n",
              "      <td>14</td>\n",
              "      <td>0</td>\n",
              "      <td>1</td>\n",
              "      <td>0</td>\n",
              "      <td>0</td>\n",
              "    </tr>\n",
              "    <tr>\n",
              "      <th>405</th>\n",
              "      <td>1</td>\n",
              "      <td>59</td>\n",
              "      <td>0</td>\n",
              "      <td>0</td>\n",
              "      <td>1</td>\n",
              "      <td>0</td>\n",
              "      <td>0</td>\n",
              "      <td>1</td>\n",
              "      <td>0</td>\n",
              "      <td>0</td>\n",
              "      <td>...</td>\n",
              "      <td>0</td>\n",
              "      <td>0</td>\n",
              "      <td>0</td>\n",
              "      <td>1</td>\n",
              "      <td>0</td>\n",
              "      <td>200</td>\n",
              "      <td>0</td>\n",
              "      <td>0</td>\n",
              "      <td>1</td>\n",
              "      <td>0</td>\n",
              "    </tr>\n",
              "    <tr>\n",
              "      <th>873</th>\n",
              "      <td>1</td>\n",
              "      <td>22</td>\n",
              "      <td>0</td>\n",
              "      <td>0</td>\n",
              "      <td>1</td>\n",
              "      <td>0</td>\n",
              "      <td>0</td>\n",
              "      <td>1</td>\n",
              "      <td>0</td>\n",
              "      <td>0</td>\n",
              "      <td>...</td>\n",
              "      <td>0</td>\n",
              "      <td>0</td>\n",
              "      <td>0</td>\n",
              "      <td>1</td>\n",
              "      <td>0</td>\n",
              "      <td>24</td>\n",
              "      <td>0</td>\n",
              "      <td>0</td>\n",
              "      <td>1</td>\n",
              "      <td>0</td>\n",
              "    </tr>\n",
              "    <tr>\n",
              "      <th>4232</th>\n",
              "      <td>0</td>\n",
              "      <td>83</td>\n",
              "      <td>0</td>\n",
              "      <td>1</td>\n",
              "      <td>0</td>\n",
              "      <td>0</td>\n",
              "      <td>1</td>\n",
              "      <td>0</td>\n",
              "      <td>0</td>\n",
              "      <td>0</td>\n",
              "      <td>...</td>\n",
              "      <td>0</td>\n",
              "      <td>0</td>\n",
              "      <td>0</td>\n",
              "      <td>0</td>\n",
              "      <td>1</td>\n",
              "      <td>4</td>\n",
              "      <td>0</td>\n",
              "      <td>0</td>\n",
              "      <td>1</td>\n",
              "      <td>0</td>\n",
              "    </tr>\n",
              "    <tr>\n",
              "      <th>3992</th>\n",
              "      <td>0</td>\n",
              "      <td>86</td>\n",
              "      <td>0</td>\n",
              "      <td>1</td>\n",
              "      <td>0</td>\n",
              "      <td>0</td>\n",
              "      <td>1</td>\n",
              "      <td>0</td>\n",
              "      <td>0</td>\n",
              "      <td>0</td>\n",
              "      <td>...</td>\n",
              "      <td>0</td>\n",
              "      <td>0</td>\n",
              "      <td>0</td>\n",
              "      <td>0</td>\n",
              "      <td>1</td>\n",
              "      <td>13</td>\n",
              "      <td>0</td>\n",
              "      <td>0</td>\n",
              "      <td>1</td>\n",
              "      <td>0</td>\n",
              "    </tr>\n",
              "    <tr>\n",
              "      <th>2573</th>\n",
              "      <td>1</td>\n",
              "      <td>35</td>\n",
              "      <td>0</td>\n",
              "      <td>0</td>\n",
              "      <td>1</td>\n",
              "      <td>0</td>\n",
              "      <td>0</td>\n",
              "      <td>1</td>\n",
              "      <td>0</td>\n",
              "      <td>0</td>\n",
              "      <td>...</td>\n",
              "      <td>0</td>\n",
              "      <td>0</td>\n",
              "      <td>0</td>\n",
              "      <td>1</td>\n",
              "      <td>0</td>\n",
              "      <td>55</td>\n",
              "      <td>0</td>\n",
              "      <td>0</td>\n",
              "      <td>1</td>\n",
              "      <td>0</td>\n",
              "    </tr>\n",
              "    <tr>\n",
              "      <th>4526</th>\n",
              "      <td>0</td>\n",
              "      <td>84</td>\n",
              "      <td>0</td>\n",
              "      <td>1</td>\n",
              "      <td>0</td>\n",
              "      <td>0</td>\n",
              "      <td>1</td>\n",
              "      <td>0</td>\n",
              "      <td>0</td>\n",
              "      <td>0</td>\n",
              "      <td>...</td>\n",
              "      <td>1</td>\n",
              "      <td>0</td>\n",
              "      <td>0</td>\n",
              "      <td>0</td>\n",
              "      <td>1</td>\n",
              "      <td>17</td>\n",
              "      <td>0</td>\n",
              "      <td>0</td>\n",
              "      <td>1</td>\n",
              "      <td>0</td>\n",
              "    </tr>\n",
              "    <tr>\n",
              "      <th>4178</th>\n",
              "      <td>0</td>\n",
              "      <td>79</td>\n",
              "      <td>0</td>\n",
              "      <td>1</td>\n",
              "      <td>0</td>\n",
              "      <td>0</td>\n",
              "      <td>1</td>\n",
              "      <td>0</td>\n",
              "      <td>0</td>\n",
              "      <td>0</td>\n",
              "      <td>...</td>\n",
              "      <td>0</td>\n",
              "      <td>0</td>\n",
              "      <td>0</td>\n",
              "      <td>0</td>\n",
              "      <td>1</td>\n",
              "      <td>36</td>\n",
              "      <td>0</td>\n",
              "      <td>0</td>\n",
              "      <td>1</td>\n",
              "      <td>0</td>\n",
              "    </tr>\n",
              "  </tbody>\n",
              "</table>\n",
              "<p>15 rows × 171 columns</p>\n",
              "</div>\n",
              "    <div class=\"colab-df-buttons\">\n",
              "\n",
              "  <div class=\"colab-df-container\">\n",
              "    <button class=\"colab-df-convert\" onclick=\"convertToInteractive('df-2250c86b-aede-42f8-a9df-0ed2b00c762c')\"\n",
              "            title=\"Convert this dataframe to an interactive table.\"\n",
              "            style=\"display:none;\">\n",
              "\n",
              "  <svg xmlns=\"http://www.w3.org/2000/svg\" height=\"24px\" viewBox=\"0 -960 960 960\">\n",
              "    <path d=\"M120-120v-720h720v720H120Zm60-500h600v-160H180v160Zm220 220h160v-160H400v160Zm0 220h160v-160H400v160ZM180-400h160v-160H180v160Zm440 0h160v-160H620v160ZM180-180h160v-160H180v160Zm440 0h160v-160H620v160Z\"/>\n",
              "  </svg>\n",
              "    </button>\n",
              "\n",
              "  <style>\n",
              "    .colab-df-container {\n",
              "      display:flex;\n",
              "      gap: 12px;\n",
              "    }\n",
              "\n",
              "    .colab-df-convert {\n",
              "      background-color: #E8F0FE;\n",
              "      border: none;\n",
              "      border-radius: 50%;\n",
              "      cursor: pointer;\n",
              "      display: none;\n",
              "      fill: #1967D2;\n",
              "      height: 32px;\n",
              "      padding: 0 0 0 0;\n",
              "      width: 32px;\n",
              "    }\n",
              "\n",
              "    .colab-df-convert:hover {\n",
              "      background-color: #E2EBFA;\n",
              "      box-shadow: 0px 1px 2px rgba(60, 64, 67, 0.3), 0px 1px 3px 1px rgba(60, 64, 67, 0.15);\n",
              "      fill: #174EA6;\n",
              "    }\n",
              "\n",
              "    .colab-df-buttons div {\n",
              "      margin-bottom: 4px;\n",
              "    }\n",
              "\n",
              "    [theme=dark] .colab-df-convert {\n",
              "      background-color: #3B4455;\n",
              "      fill: #D2E3FC;\n",
              "    }\n",
              "\n",
              "    [theme=dark] .colab-df-convert:hover {\n",
              "      background-color: #434B5C;\n",
              "      box-shadow: 0px 1px 3px 1px rgba(0, 0, 0, 0.15);\n",
              "      filter: drop-shadow(0px 1px 2px rgba(0, 0, 0, 0.3));\n",
              "      fill: #FFFFFF;\n",
              "    }\n",
              "  </style>\n",
              "\n",
              "    <script>\n",
              "      const buttonEl =\n",
              "        document.querySelector('#df-2250c86b-aede-42f8-a9df-0ed2b00c762c button.colab-df-convert');\n",
              "      buttonEl.style.display =\n",
              "        google.colab.kernel.accessAllowed ? 'block' : 'none';\n",
              "\n",
              "      async function convertToInteractive(key) {\n",
              "        const element = document.querySelector('#df-2250c86b-aede-42f8-a9df-0ed2b00c762c');\n",
              "        const dataTable =\n",
              "          await google.colab.kernel.invokeFunction('convertToInteractive',\n",
              "                                                    [key], {});\n",
              "        if (!dataTable) return;\n",
              "\n",
              "        const docLinkHtml = 'Like what you see? Visit the ' +\n",
              "          '<a target=\"_blank\" href=https://colab.research.google.com/notebooks/data_table.ipynb>data table notebook</a>'\n",
              "          + ' to learn more about interactive tables.';\n",
              "        element.innerHTML = '';\n",
              "        dataTable['output_type'] = 'display_data';\n",
              "        await google.colab.output.renderOutput(dataTable, element);\n",
              "        const docLink = document.createElement('div');\n",
              "        docLink.innerHTML = docLinkHtml;\n",
              "        element.appendChild(docLink);\n",
              "      }\n",
              "    </script>\n",
              "  </div>\n",
              "\n",
              "\n",
              "<div id=\"df-d3295340-f0fa-4da7-b2ff-5a2f6cd1aee5\">\n",
              "  <button class=\"colab-df-quickchart\" onclick=\"quickchart('df-d3295340-f0fa-4da7-b2ff-5a2f6cd1aee5')\"\n",
              "            title=\"Suggest charts.\"\n",
              "            style=\"display:none;\">\n",
              "\n",
              "<svg xmlns=\"http://www.w3.org/2000/svg\" height=\"24px\"viewBox=\"0 0 24 24\"\n",
              "     width=\"24px\">\n",
              "    <g>\n",
              "        <path d=\"M19 3H5c-1.1 0-2 .9-2 2v14c0 1.1.9 2 2 2h14c1.1 0 2-.9 2-2V5c0-1.1-.9-2-2-2zM9 17H7v-7h2v7zm4 0h-2V7h2v10zm4 0h-2v-4h2v4z\"/>\n",
              "    </g>\n",
              "</svg>\n",
              "  </button>\n",
              "\n",
              "<style>\n",
              "  .colab-df-quickchart {\n",
              "      --bg-color: #E8F0FE;\n",
              "      --fill-color: #1967D2;\n",
              "      --hover-bg-color: #E2EBFA;\n",
              "      --hover-fill-color: #174EA6;\n",
              "      --disabled-fill-color: #AAA;\n",
              "      --disabled-bg-color: #DDD;\n",
              "  }\n",
              "\n",
              "  [theme=dark] .colab-df-quickchart {\n",
              "      --bg-color: #3B4455;\n",
              "      --fill-color: #D2E3FC;\n",
              "      --hover-bg-color: #434B5C;\n",
              "      --hover-fill-color: #FFFFFF;\n",
              "      --disabled-bg-color: #3B4455;\n",
              "      --disabled-fill-color: #666;\n",
              "  }\n",
              "\n",
              "  .colab-df-quickchart {\n",
              "    background-color: var(--bg-color);\n",
              "    border: none;\n",
              "    border-radius: 50%;\n",
              "    cursor: pointer;\n",
              "    display: none;\n",
              "    fill: var(--fill-color);\n",
              "    height: 32px;\n",
              "    padding: 0;\n",
              "    width: 32px;\n",
              "  }\n",
              "\n",
              "  .colab-df-quickchart:hover {\n",
              "    background-color: var(--hover-bg-color);\n",
              "    box-shadow: 0 1px 2px rgba(60, 64, 67, 0.3), 0 1px 3px 1px rgba(60, 64, 67, 0.15);\n",
              "    fill: var(--button-hover-fill-color);\n",
              "  }\n",
              "\n",
              "  .colab-df-quickchart-complete:disabled,\n",
              "  .colab-df-quickchart-complete:disabled:hover {\n",
              "    background-color: var(--disabled-bg-color);\n",
              "    fill: var(--disabled-fill-color);\n",
              "    box-shadow: none;\n",
              "  }\n",
              "\n",
              "  .colab-df-spinner {\n",
              "    border: 2px solid var(--fill-color);\n",
              "    border-color: transparent;\n",
              "    border-bottom-color: var(--fill-color);\n",
              "    animation:\n",
              "      spin 1s steps(1) infinite;\n",
              "  }\n",
              "\n",
              "  @keyframes spin {\n",
              "    0% {\n",
              "      border-color: transparent;\n",
              "      border-bottom-color: var(--fill-color);\n",
              "      border-left-color: var(--fill-color);\n",
              "    }\n",
              "    20% {\n",
              "      border-color: transparent;\n",
              "      border-left-color: var(--fill-color);\n",
              "      border-top-color: var(--fill-color);\n",
              "    }\n",
              "    30% {\n",
              "      border-color: transparent;\n",
              "      border-left-color: var(--fill-color);\n",
              "      border-top-color: var(--fill-color);\n",
              "      border-right-color: var(--fill-color);\n",
              "    }\n",
              "    40% {\n",
              "      border-color: transparent;\n",
              "      border-right-color: var(--fill-color);\n",
              "      border-top-color: var(--fill-color);\n",
              "    }\n",
              "    60% {\n",
              "      border-color: transparent;\n",
              "      border-right-color: var(--fill-color);\n",
              "    }\n",
              "    80% {\n",
              "      border-color: transparent;\n",
              "      border-right-color: var(--fill-color);\n",
              "      border-bottom-color: var(--fill-color);\n",
              "    }\n",
              "    90% {\n",
              "      border-color: transparent;\n",
              "      border-bottom-color: var(--fill-color);\n",
              "    }\n",
              "  }\n",
              "</style>\n",
              "\n",
              "  <script>\n",
              "    async function quickchart(key) {\n",
              "      const quickchartButtonEl =\n",
              "        document.querySelector('#' + key + ' button');\n",
              "      quickchartButtonEl.disabled = true;  // To prevent multiple clicks.\n",
              "      quickchartButtonEl.classList.add('colab-df-spinner');\n",
              "      try {\n",
              "        const charts = await google.colab.kernel.invokeFunction(\n",
              "            'suggestCharts', [key], {});\n",
              "      } catch (error) {\n",
              "        console.error('Error during call to suggestCharts:', error);\n",
              "      }\n",
              "      quickchartButtonEl.classList.remove('colab-df-spinner');\n",
              "      quickchartButtonEl.classList.add('colab-df-quickchart-complete');\n",
              "    }\n",
              "    (() => {\n",
              "      let quickchartButtonEl =\n",
              "        document.querySelector('#df-d3295340-f0fa-4da7-b2ff-5a2f6cd1aee5 button');\n",
              "      quickchartButtonEl.style.display =\n",
              "        google.colab.kernel.accessAllowed ? 'block' : 'none';\n",
              "    })();\n",
              "  </script>\n",
              "</div>\n",
              "    </div>\n",
              "  </div>\n"
            ]
          },
          "metadata": {},
          "execution_count": 41
        }
      ]
    },
    {
      "cell_type": "markdown",
      "source": [
        "# Aplicación de modelos"
      ],
      "metadata": {
        "id": "_70QTQxYWkcN"
      }
    },
    {
      "cell_type": "code",
      "source": [
        "from sklearn.linear_model import LogisticRegression\n",
        "logistic_classifier = LogisticRegression()\n",
        "logistic_classifier.fit(X_train, y_train.values.ravel())"
      ],
      "metadata": {
        "colab": {
          "base_uri": "https://localhost:8080/",
          "height": 220
        },
        "id": "gh0ZoU9ScR9n",
        "outputId": "7bd0f0da-ba29-4a60-9002-5cafb8482af1"
      },
      "execution_count": 42,
      "outputs": [
        {
          "output_type": "stream",
          "name": "stderr",
          "text": [
            "/usr/local/lib/python3.10/dist-packages/sklearn/linear_model/_logistic.py:458: ConvergenceWarning: lbfgs failed to converge (status=1):\n",
            "STOP: TOTAL NO. of ITERATIONS REACHED LIMIT.\n",
            "\n",
            "Increase the number of iterations (max_iter) or scale the data as shown in:\n",
            "    https://scikit-learn.org/stable/modules/preprocessing.html\n",
            "Please also refer to the documentation for alternative solver options:\n",
            "    https://scikit-learn.org/stable/modules/linear_model.html#logistic-regression\n",
            "  n_iter_i = _check_optimize_result(\n"
          ]
        },
        {
          "output_type": "execute_result",
          "data": {
            "text/plain": [
              "LogisticRegression()"
            ],
            "text/html": [
              "<style>#sk-container-id-1 {color: black;background-color: white;}#sk-container-id-1 pre{padding: 0;}#sk-container-id-1 div.sk-toggleable {background-color: white;}#sk-container-id-1 label.sk-toggleable__label {cursor: pointer;display: block;width: 100%;margin-bottom: 0;padding: 0.3em;box-sizing: border-box;text-align: center;}#sk-container-id-1 label.sk-toggleable__label-arrow:before {content: \"▸\";float: left;margin-right: 0.25em;color: #696969;}#sk-container-id-1 label.sk-toggleable__label-arrow:hover:before {color: black;}#sk-container-id-1 div.sk-estimator:hover label.sk-toggleable__label-arrow:before {color: black;}#sk-container-id-1 div.sk-toggleable__content {max-height: 0;max-width: 0;overflow: hidden;text-align: left;background-color: #f0f8ff;}#sk-container-id-1 div.sk-toggleable__content pre {margin: 0.2em;color: black;border-radius: 0.25em;background-color: #f0f8ff;}#sk-container-id-1 input.sk-toggleable__control:checked~div.sk-toggleable__content {max-height: 200px;max-width: 100%;overflow: auto;}#sk-container-id-1 input.sk-toggleable__control:checked~label.sk-toggleable__label-arrow:before {content: \"▾\";}#sk-container-id-1 div.sk-estimator input.sk-toggleable__control:checked~label.sk-toggleable__label {background-color: #d4ebff;}#sk-container-id-1 div.sk-label input.sk-toggleable__control:checked~label.sk-toggleable__label {background-color: #d4ebff;}#sk-container-id-1 input.sk-hidden--visually {border: 0;clip: rect(1px 1px 1px 1px);clip: rect(1px, 1px, 1px, 1px);height: 1px;margin: -1px;overflow: hidden;padding: 0;position: absolute;width: 1px;}#sk-container-id-1 div.sk-estimator {font-family: monospace;background-color: #f0f8ff;border: 1px dotted black;border-radius: 0.25em;box-sizing: border-box;margin-bottom: 0.5em;}#sk-container-id-1 div.sk-estimator:hover {background-color: #d4ebff;}#sk-container-id-1 div.sk-parallel-item::after {content: \"\";width: 100%;border-bottom: 1px solid gray;flex-grow: 1;}#sk-container-id-1 div.sk-label:hover label.sk-toggleable__label {background-color: #d4ebff;}#sk-container-id-1 div.sk-serial::before {content: \"\";position: absolute;border-left: 1px solid gray;box-sizing: border-box;top: 0;bottom: 0;left: 50%;z-index: 0;}#sk-container-id-1 div.sk-serial {display: flex;flex-direction: column;align-items: center;background-color: white;padding-right: 0.2em;padding-left: 0.2em;position: relative;}#sk-container-id-1 div.sk-item {position: relative;z-index: 1;}#sk-container-id-1 div.sk-parallel {display: flex;align-items: stretch;justify-content: center;background-color: white;position: relative;}#sk-container-id-1 div.sk-item::before, #sk-container-id-1 div.sk-parallel-item::before {content: \"\";position: absolute;border-left: 1px solid gray;box-sizing: border-box;top: 0;bottom: 0;left: 50%;z-index: -1;}#sk-container-id-1 div.sk-parallel-item {display: flex;flex-direction: column;z-index: 1;position: relative;background-color: white;}#sk-container-id-1 div.sk-parallel-item:first-child::after {align-self: flex-end;width: 50%;}#sk-container-id-1 div.sk-parallel-item:last-child::after {align-self: flex-start;width: 50%;}#sk-container-id-1 div.sk-parallel-item:only-child::after {width: 0;}#sk-container-id-1 div.sk-dashed-wrapped {border: 1px dashed gray;margin: 0 0.4em 0.5em 0.4em;box-sizing: border-box;padding-bottom: 0.4em;background-color: white;}#sk-container-id-1 div.sk-label label {font-family: monospace;font-weight: bold;display: inline-block;line-height: 1.2em;}#sk-container-id-1 div.sk-label-container {text-align: center;}#sk-container-id-1 div.sk-container {/* jupyter's `normalize.less` sets `[hidden] { display: none; }` but bootstrap.min.css set `[hidden] { display: none !important; }` so we also need the `!important` here to be able to override the default hidden behavior on the sphinx rendered scikit-learn.org. See: https://github.com/scikit-learn/scikit-learn/issues/21755 */display: inline-block !important;position: relative;}#sk-container-id-1 div.sk-text-repr-fallback {display: none;}</style><div id=\"sk-container-id-1\" class=\"sk-top-container\"><div class=\"sk-text-repr-fallback\"><pre>LogisticRegression()</pre><b>In a Jupyter environment, please rerun this cell to show the HTML representation or trust the notebook. <br />On GitHub, the HTML representation is unable to render, please try loading this page with nbviewer.org.</b></div><div class=\"sk-container\" hidden><div class=\"sk-item\"><div class=\"sk-estimator sk-toggleable\"><input class=\"sk-toggleable__control sk-hidden--visually\" id=\"sk-estimator-id-1\" type=\"checkbox\" checked><label for=\"sk-estimator-id-1\" class=\"sk-toggleable__label sk-toggleable__label-arrow\">LogisticRegression</label><div class=\"sk-toggleable__content\"><pre>LogisticRegression()</pre></div></div></div></div></div>"
            ]
          },
          "metadata": {},
          "execution_count": 42
        }
      ]
    },
    {
      "cell_type": "markdown",
      "source": [
        "## Regresión logística"
      ],
      "metadata": {
        "id": "g8-uMPM6YSFJ"
      }
    },
    {
      "cell_type": "code",
      "source": [
        "from sklearn.linear_model import LogisticRegression\n",
        "logistic_classifier = LogisticRegression()\n",
        "logistic_classifier.fit(X_train, y_train.values.ravel())"
      ],
      "metadata": {
        "id": "4NZ8rwZqYQh6",
        "colab": {
          "base_uri": "https://localhost:8080/",
          "height": 220
        },
        "outputId": "86b8b208-9d07-468f-b5ff-6c76c06fab55"
      },
      "execution_count": 43,
      "outputs": [
        {
          "output_type": "stream",
          "name": "stderr",
          "text": [
            "/usr/local/lib/python3.10/dist-packages/sklearn/linear_model/_logistic.py:458: ConvergenceWarning: lbfgs failed to converge (status=1):\n",
            "STOP: TOTAL NO. of ITERATIONS REACHED LIMIT.\n",
            "\n",
            "Increase the number of iterations (max_iter) or scale the data as shown in:\n",
            "    https://scikit-learn.org/stable/modules/preprocessing.html\n",
            "Please also refer to the documentation for alternative solver options:\n",
            "    https://scikit-learn.org/stable/modules/linear_model.html#logistic-regression\n",
            "  n_iter_i = _check_optimize_result(\n"
          ]
        },
        {
          "output_type": "execute_result",
          "data": {
            "text/plain": [
              "LogisticRegression()"
            ],
            "text/html": [
              "<style>#sk-container-id-2 {color: black;background-color: white;}#sk-container-id-2 pre{padding: 0;}#sk-container-id-2 div.sk-toggleable {background-color: white;}#sk-container-id-2 label.sk-toggleable__label {cursor: pointer;display: block;width: 100%;margin-bottom: 0;padding: 0.3em;box-sizing: border-box;text-align: center;}#sk-container-id-2 label.sk-toggleable__label-arrow:before {content: \"▸\";float: left;margin-right: 0.25em;color: #696969;}#sk-container-id-2 label.sk-toggleable__label-arrow:hover:before {color: black;}#sk-container-id-2 div.sk-estimator:hover label.sk-toggleable__label-arrow:before {color: black;}#sk-container-id-2 div.sk-toggleable__content {max-height: 0;max-width: 0;overflow: hidden;text-align: left;background-color: #f0f8ff;}#sk-container-id-2 div.sk-toggleable__content pre {margin: 0.2em;color: black;border-radius: 0.25em;background-color: #f0f8ff;}#sk-container-id-2 input.sk-toggleable__control:checked~div.sk-toggleable__content {max-height: 200px;max-width: 100%;overflow: auto;}#sk-container-id-2 input.sk-toggleable__control:checked~label.sk-toggleable__label-arrow:before {content: \"▾\";}#sk-container-id-2 div.sk-estimator input.sk-toggleable__control:checked~label.sk-toggleable__label {background-color: #d4ebff;}#sk-container-id-2 div.sk-label input.sk-toggleable__control:checked~label.sk-toggleable__label {background-color: #d4ebff;}#sk-container-id-2 input.sk-hidden--visually {border: 0;clip: rect(1px 1px 1px 1px);clip: rect(1px, 1px, 1px, 1px);height: 1px;margin: -1px;overflow: hidden;padding: 0;position: absolute;width: 1px;}#sk-container-id-2 div.sk-estimator {font-family: monospace;background-color: #f0f8ff;border: 1px dotted black;border-radius: 0.25em;box-sizing: border-box;margin-bottom: 0.5em;}#sk-container-id-2 div.sk-estimator:hover {background-color: #d4ebff;}#sk-container-id-2 div.sk-parallel-item::after {content: \"\";width: 100%;border-bottom: 1px solid gray;flex-grow: 1;}#sk-container-id-2 div.sk-label:hover label.sk-toggleable__label {background-color: #d4ebff;}#sk-container-id-2 div.sk-serial::before {content: \"\";position: absolute;border-left: 1px solid gray;box-sizing: border-box;top: 0;bottom: 0;left: 50%;z-index: 0;}#sk-container-id-2 div.sk-serial {display: flex;flex-direction: column;align-items: center;background-color: white;padding-right: 0.2em;padding-left: 0.2em;position: relative;}#sk-container-id-2 div.sk-item {position: relative;z-index: 1;}#sk-container-id-2 div.sk-parallel {display: flex;align-items: stretch;justify-content: center;background-color: white;position: relative;}#sk-container-id-2 div.sk-item::before, #sk-container-id-2 div.sk-parallel-item::before {content: \"\";position: absolute;border-left: 1px solid gray;box-sizing: border-box;top: 0;bottom: 0;left: 50%;z-index: -1;}#sk-container-id-2 div.sk-parallel-item {display: flex;flex-direction: column;z-index: 1;position: relative;background-color: white;}#sk-container-id-2 div.sk-parallel-item:first-child::after {align-self: flex-end;width: 50%;}#sk-container-id-2 div.sk-parallel-item:last-child::after {align-self: flex-start;width: 50%;}#sk-container-id-2 div.sk-parallel-item:only-child::after {width: 0;}#sk-container-id-2 div.sk-dashed-wrapped {border: 1px dashed gray;margin: 0 0.4em 0.5em 0.4em;box-sizing: border-box;padding-bottom: 0.4em;background-color: white;}#sk-container-id-2 div.sk-label label {font-family: monospace;font-weight: bold;display: inline-block;line-height: 1.2em;}#sk-container-id-2 div.sk-label-container {text-align: center;}#sk-container-id-2 div.sk-container {/* jupyter's `normalize.less` sets `[hidden] { display: none; }` but bootstrap.min.css set `[hidden] { display: none !important; }` so we also need the `!important` here to be able to override the default hidden behavior on the sphinx rendered scikit-learn.org. See: https://github.com/scikit-learn/scikit-learn/issues/21755 */display: inline-block !important;position: relative;}#sk-container-id-2 div.sk-text-repr-fallback {display: none;}</style><div id=\"sk-container-id-2\" class=\"sk-top-container\"><div class=\"sk-text-repr-fallback\"><pre>LogisticRegression()</pre><b>In a Jupyter environment, please rerun this cell to show the HTML representation or trust the notebook. <br />On GitHub, the HTML representation is unable to render, please try loading this page with nbviewer.org.</b></div><div class=\"sk-container\" hidden><div class=\"sk-item\"><div class=\"sk-estimator sk-toggleable\"><input class=\"sk-toggleable__control sk-hidden--visually\" id=\"sk-estimator-id-2\" type=\"checkbox\" checked><label for=\"sk-estimator-id-2\" class=\"sk-toggleable__label sk-toggleable__label-arrow\">LogisticRegression</label><div class=\"sk-toggleable__content\"><pre>LogisticRegression()</pre></div></div></div></div></div>"
            ]
          },
          "metadata": {},
          "execution_count": 43
        }
      ]
    },
    {
      "cell_type": "markdown",
      "source": [
        "Realizamos la predicción"
      ],
      "metadata": {
        "id": "Uv3S_ePPkmk-"
      }
    },
    {
      "cell_type": "code",
      "source": [
        "y_pred = logistic_classifier.predict(X_test)"
      ],
      "metadata": {
        "id": "vN3dOEWRknbf"
      },
      "execution_count": 44,
      "outputs": []
    },
    {
      "cell_type": "markdown",
      "source": [
        "**Obtenemos** la matriz de confusión"
      ],
      "metadata": {
        "id": "32OK8Kmlkr-N"
      }
    },
    {
      "cell_type": "code",
      "source": [
        "from sklearn.metrics import confusion_matrix, classification_report\n",
        "conf_matrix = confusion_matrix(y_test,y_pred)\n",
        "print(conf_matrix)"
      ],
      "metadata": {
        "id": "A_nKVZiXkwM6",
        "colab": {
          "base_uri": "https://localhost:8080/"
        },
        "outputId": "2fd93b10-e9b9-434a-d490-de264b5fb075"
      },
      "execution_count": 45,
      "outputs": [
        {
          "output_type": "stream",
          "name": "stdout",
          "text": [
            "[[864  13]\n",
            " [  2 882]]\n"
          ]
        }
      ]
    },
    {
      "cell_type": "code",
      "source": [
        "print(classification_report(y_test,y_pred))"
      ],
      "metadata": {
        "colab": {
          "base_uri": "https://localhost:8080/"
        },
        "id": "bR5s6uDEod16",
        "outputId": "c8cf2398-1274-42a3-c1b3-497fd89c1e25"
      },
      "execution_count": 50,
      "outputs": [
        {
          "output_type": "stream",
          "name": "stdout",
          "text": [
            "              precision    recall  f1-score   support\n",
            "\n",
            "           0       1.00      0.99      0.99       877\n",
            "           1       0.99      1.00      0.99       884\n",
            "\n",
            "    accuracy                           0.99      1761\n",
            "   macro avg       0.99      0.99      0.99      1761\n",
            "weighted avg       0.99      0.99      0.99      1761\n",
            "\n"
          ]
        }
      ]
    },
    {
      "cell_type": "markdown",
      "source": [
        "Calculamos el RECALL"
      ],
      "metadata": {
        "id": "65hRj0RtSbD3"
      }
    },
    {
      "cell_type": "code",
      "source": [
        "true_negatives = conf_matrix[0,0]\n",
        "false_negatives = conf_matrix[1,0]\n",
        "true_positives = conf_matrix[1,1]\n",
        "false_positives = conf_matrix[0,1]"
      ],
      "metadata": {
        "id": "RM7jPm3nTSWR"
      },
      "execution_count": 46,
      "outputs": []
    },
    {
      "cell_type": "code",
      "source": [
        "print(\"true_negatives:\" + str(true_negatives))\n",
        "print(\"false_negatives:\" + str(false_negatives))\n",
        "print(\"true_positives:\" + str(true_positives))\n",
        "print(\"false_positives:\" + str(false_positives))"
      ],
      "metadata": {
        "colab": {
          "base_uri": "https://localhost:8080/"
        },
        "id": "IH0r2sB4VWzf",
        "outputId": "ccebb334-bfaf-46bb-c88a-7b2145ba1eb4"
      },
      "execution_count": 47,
      "outputs": [
        {
          "output_type": "stream",
          "name": "stdout",
          "text": [
            "true_negatives:864\n",
            "false_negatives:2\n",
            "true_positives:882\n",
            "false_positives:13\n"
          ]
        }
      ]
    },
    {
      "cell_type": "code",
      "source": [
        "recall = true_positives / (true_positives + false_negatives)\n",
        "print(\"Recall:\", recall)"
      ],
      "metadata": {
        "colab": {
          "base_uri": "https://localhost:8080/"
        },
        "id": "asjW5vWoRGAF",
        "outputId": "db5bd81c-4075-4409-d121-b31be632e17f"
      },
      "execution_count": 48,
      "outputs": [
        {
          "output_type": "stream",
          "name": "stdout",
          "text": [
            "Recall: 0.997737556561086\n"
          ]
        }
      ]
    },
    {
      "cell_type": "markdown",
      "source": [
        "Calculamos la PRECISION"
      ],
      "metadata": {
        "id": "rXXJDuaRSwAV"
      }
    },
    {
      "cell_type": "code",
      "source": [
        "# Calculate precision\n",
        "precision = true_positives / (true_positives + false_positives)\n",
        "\n",
        "print(\"Precision:\", precision)\n"
      ],
      "metadata": {
        "colab": {
          "base_uri": "https://localhost:8080/"
        },
        "id": "1foRAFSmSuyB",
        "outputId": "fa43802b-b158-493c-ca47-fab3949b91e0"
      },
      "execution_count": 49,
      "outputs": [
        {
          "output_type": "stream",
          "name": "stdout",
          "text": [
            "Precision: 0.9854748603351955\n"
          ]
        }
      ]
    },
    {
      "cell_type": "markdown",
      "source": [
        "Calculamos el ROC AUC Score"
      ],
      "metadata": {
        "id": "GL9ob9GAbSMA"
      }
    },
    {
      "cell_type": "code",
      "source": [
        "from sklearn.metrics import roc_auc_score\n",
        "\n",
        "# Calculate TPR (True Positive Rate) and FPR (False Positive Rate)\n",
        "TPR = true_positives / (true_positives + false_negatives)\n",
        "FPR = false_positives / (false_positives + true_negatives)\n",
        "\n",
        "# Calculate ROC AUC score\n",
        "roc_auc = roc_auc_score([0, 1], [0, 1], [FPR])\n",
        "# The second argument ([0, 1]) represents the true labels, and the third argument ([0, 1]) represents the predicted probabilities.\n",
        "\n",
        "print(\"ROC AUC Score:\", roc_auc)"
      ],
      "metadata": {
        "colab": {
          "base_uri": "https://localhost:8080/",
          "height": 254
        },
        "id": "TrJodJSMbWzf",
        "outputId": "371edd56-aa69-41d3-8c72-1877323a1e74"
      },
      "execution_count": 51,
      "outputs": [
        {
          "output_type": "error",
          "ename": "TypeError",
          "evalue": "ignored",
          "traceback": [
            "\u001b[0;31m---------------------------------------------------------------------------\u001b[0m",
            "\u001b[0;31mTypeError\u001b[0m                                 Traceback (most recent call last)",
            "\u001b[0;32m<ipython-input-51-7ce6194e5f61>\u001b[0m in \u001b[0;36m<cell line: 8>\u001b[0;34m()\u001b[0m\n\u001b[1;32m      6\u001b[0m \u001b[0;34m\u001b[0m\u001b[0m\n\u001b[1;32m      7\u001b[0m \u001b[0;31m# Calculate ROC AUC score\u001b[0m\u001b[0;34m\u001b[0m\u001b[0;34m\u001b[0m\u001b[0m\n\u001b[0;32m----> 8\u001b[0;31m \u001b[0mroc_auc\u001b[0m \u001b[0;34m=\u001b[0m \u001b[0mroc_auc_score\u001b[0m\u001b[0;34m(\u001b[0m\u001b[0;34m[\u001b[0m\u001b[0;36m0\u001b[0m\u001b[0;34m,\u001b[0m \u001b[0;36m1\u001b[0m\u001b[0;34m]\u001b[0m\u001b[0;34m,\u001b[0m \u001b[0;34m[\u001b[0m\u001b[0;36m0\u001b[0m\u001b[0;34m,\u001b[0m \u001b[0;36m1\u001b[0m\u001b[0;34m]\u001b[0m\u001b[0;34m,\u001b[0m \u001b[0;34m[\u001b[0m\u001b[0mFPR\u001b[0m\u001b[0;34m]\u001b[0m\u001b[0;34m)\u001b[0m\u001b[0;34m\u001b[0m\u001b[0;34m\u001b[0m\u001b[0m\n\u001b[0m\u001b[1;32m      9\u001b[0m \u001b[0;31m# The second argument ([0, 1]) represents the true labels, and the third argument ([0, 1]) represents the predicted probabilities.\u001b[0m\u001b[0;34m\u001b[0m\u001b[0;34m\u001b[0m\u001b[0m\n\u001b[1;32m     10\u001b[0m \u001b[0;34m\u001b[0m\u001b[0m\n",
            "\u001b[0;31mTypeError\u001b[0m: roc_auc_score() takes 2 positional arguments but 3 were given"
          ]
        }
      ]
    },
    {
      "cell_type": "markdown",
      "source": [
        "## Arbol de decisión"
      ],
      "metadata": {
        "id": "64p5lw30k82v"
      }
    },
    {
      "cell_type": "code",
      "source": [
        "from sklearn.tree import DecisionTreeRegressor\n",
        "from sklearn.metrics import mean_squared_error, r2_score, max_error, mean_absolute_error, mean_absolute_percentage_error, accuracy_score"
      ],
      "metadata": {
        "id": "fCpZgEZglBlo"
      },
      "execution_count": 52,
      "outputs": []
    },
    {
      "cell_type": "code",
      "source": [
        "regr_1 = DecisionTreeRegressor(max_depth=5)\n",
        "regr_1.fit(X_train, y_train)\n"
      ],
      "metadata": {
        "id": "nzElqMozlMQp",
        "colab": {
          "base_uri": "https://localhost:8080/",
          "height": 74
        },
        "outputId": "fa4b7d7e-5757-4b80-e41e-c73a4139feed"
      },
      "execution_count": 53,
      "outputs": [
        {
          "output_type": "execute_result",
          "data": {
            "text/plain": [
              "DecisionTreeRegressor(max_depth=5)"
            ],
            "text/html": [
              "<style>#sk-container-id-3 {color: black;background-color: white;}#sk-container-id-3 pre{padding: 0;}#sk-container-id-3 div.sk-toggleable {background-color: white;}#sk-container-id-3 label.sk-toggleable__label {cursor: pointer;display: block;width: 100%;margin-bottom: 0;padding: 0.3em;box-sizing: border-box;text-align: center;}#sk-container-id-3 label.sk-toggleable__label-arrow:before {content: \"▸\";float: left;margin-right: 0.25em;color: #696969;}#sk-container-id-3 label.sk-toggleable__label-arrow:hover:before {color: black;}#sk-container-id-3 div.sk-estimator:hover label.sk-toggleable__label-arrow:before {color: black;}#sk-container-id-3 div.sk-toggleable__content {max-height: 0;max-width: 0;overflow: hidden;text-align: left;background-color: #f0f8ff;}#sk-container-id-3 div.sk-toggleable__content pre {margin: 0.2em;color: black;border-radius: 0.25em;background-color: #f0f8ff;}#sk-container-id-3 input.sk-toggleable__control:checked~div.sk-toggleable__content {max-height: 200px;max-width: 100%;overflow: auto;}#sk-container-id-3 input.sk-toggleable__control:checked~label.sk-toggleable__label-arrow:before {content: \"▾\";}#sk-container-id-3 div.sk-estimator input.sk-toggleable__control:checked~label.sk-toggleable__label {background-color: #d4ebff;}#sk-container-id-3 div.sk-label input.sk-toggleable__control:checked~label.sk-toggleable__label {background-color: #d4ebff;}#sk-container-id-3 input.sk-hidden--visually {border: 0;clip: rect(1px 1px 1px 1px);clip: rect(1px, 1px, 1px, 1px);height: 1px;margin: -1px;overflow: hidden;padding: 0;position: absolute;width: 1px;}#sk-container-id-3 div.sk-estimator {font-family: monospace;background-color: #f0f8ff;border: 1px dotted black;border-radius: 0.25em;box-sizing: border-box;margin-bottom: 0.5em;}#sk-container-id-3 div.sk-estimator:hover {background-color: #d4ebff;}#sk-container-id-3 div.sk-parallel-item::after {content: \"\";width: 100%;border-bottom: 1px solid gray;flex-grow: 1;}#sk-container-id-3 div.sk-label:hover label.sk-toggleable__label {background-color: #d4ebff;}#sk-container-id-3 div.sk-serial::before {content: \"\";position: absolute;border-left: 1px solid gray;box-sizing: border-box;top: 0;bottom: 0;left: 50%;z-index: 0;}#sk-container-id-3 div.sk-serial {display: flex;flex-direction: column;align-items: center;background-color: white;padding-right: 0.2em;padding-left: 0.2em;position: relative;}#sk-container-id-3 div.sk-item {position: relative;z-index: 1;}#sk-container-id-3 div.sk-parallel {display: flex;align-items: stretch;justify-content: center;background-color: white;position: relative;}#sk-container-id-3 div.sk-item::before, #sk-container-id-3 div.sk-parallel-item::before {content: \"\";position: absolute;border-left: 1px solid gray;box-sizing: border-box;top: 0;bottom: 0;left: 50%;z-index: -1;}#sk-container-id-3 div.sk-parallel-item {display: flex;flex-direction: column;z-index: 1;position: relative;background-color: white;}#sk-container-id-3 div.sk-parallel-item:first-child::after {align-self: flex-end;width: 50%;}#sk-container-id-3 div.sk-parallel-item:last-child::after {align-self: flex-start;width: 50%;}#sk-container-id-3 div.sk-parallel-item:only-child::after {width: 0;}#sk-container-id-3 div.sk-dashed-wrapped {border: 1px dashed gray;margin: 0 0.4em 0.5em 0.4em;box-sizing: border-box;padding-bottom: 0.4em;background-color: white;}#sk-container-id-3 div.sk-label label {font-family: monospace;font-weight: bold;display: inline-block;line-height: 1.2em;}#sk-container-id-3 div.sk-label-container {text-align: center;}#sk-container-id-3 div.sk-container {/* jupyter's `normalize.less` sets `[hidden] { display: none; }` but bootstrap.min.css set `[hidden] { display: none !important; }` so we also need the `!important` here to be able to override the default hidden behavior on the sphinx rendered scikit-learn.org. See: https://github.com/scikit-learn/scikit-learn/issues/21755 */display: inline-block !important;position: relative;}#sk-container-id-3 div.sk-text-repr-fallback {display: none;}</style><div id=\"sk-container-id-3\" class=\"sk-top-container\"><div class=\"sk-text-repr-fallback\"><pre>DecisionTreeRegressor(max_depth=5)</pre><b>In a Jupyter environment, please rerun this cell to show the HTML representation or trust the notebook. <br />On GitHub, the HTML representation is unable to render, please try loading this page with nbviewer.org.</b></div><div class=\"sk-container\" hidden><div class=\"sk-item\"><div class=\"sk-estimator sk-toggleable\"><input class=\"sk-toggleable__control sk-hidden--visually\" id=\"sk-estimator-id-3\" type=\"checkbox\" checked><label for=\"sk-estimator-id-3\" class=\"sk-toggleable__label sk-toggleable__label-arrow\">DecisionTreeRegressor</label><div class=\"sk-toggleable__content\"><pre>DecisionTreeRegressor(max_depth=5)</pre></div></div></div></div></div>"
            ]
          },
          "metadata": {},
          "execution_count": 53
        }
      ]
    },
    {
      "cell_type": "code",
      "source": [
        "y_pred_1 = regr_1.predict(X_test)"
      ],
      "metadata": {
        "id": "DKw9re7ilQaL"
      },
      "execution_count": 54,
      "outputs": []
    },
    {
      "cell_type": "code",
      "source": [
        "print(\"MSE: %.2f\" % mean_squared_error(y_test, y_pred_1))\n",
        "print(\"R cuadrado: %.2f\" % r2_score(y_test, y_pred_1))\n",
        "print(\"MAE: %.2f\" % mean_absolute_error(y_test, y_pred_1))\n",
        "print(\"ME: %.2f\" % max_error(y_test, y_pred_1))"
      ],
      "metadata": {
        "id": "AhHoofSzlRie",
        "colab": {
          "base_uri": "https://localhost:8080/"
        },
        "outputId": "45f0bb7a-40db-43d5-86e6-6987b1e515cb"
      },
      "execution_count": 55,
      "outputs": [
        {
          "output_type": "stream",
          "name": "stdout",
          "text": [
            "MSE: 0.01\n",
            "R cuadrado: 0.96\n",
            "MAE: 0.01\n",
            "ME: 1.00\n"
          ]
        }
      ]
    },
    {
      "cell_type": "code",
      "source": [
        "from sklearn.tree import export_graphviz\n",
        "import graphviz\n",
        "import pydotplus\n",
        "from IPython.display import Image\n",
        "\n",
        "dot_data = export_graphviz(regr_1, out_file=None,\n",
        "                           feature_names= X_test.columns,\n",
        "                           filled=True, rounded=True, special_characters=True)\n",
        "\n",
        "# Convierte el archivo .dot a un gráfico\n",
        "graph = pydotplus.graph_from_dot_data(dot_data)\n",
        "\n",
        "# Muestra el gráfico en el cuaderno (Jupyter Notebook)\n",
        "Image(graph.create_png())"
      ],
      "metadata": {
        "colab": {
          "base_uri": "https://localhost:8080/",
          "height": 501
        },
        "id": "GkGm4KcYtj8W",
        "outputId": "b73bc4cd-2bc6-4c82-cf28-d4160b914f0d"
      },
      "execution_count": 56,
      "outputs": [
        {
          "output_type": "execute_result",
          "data": {
            "image/png": "[encoded data removed]",
            "text/plain": [
              "<IPython.core.display.Image object>"
            ]
          },
          "metadata": {},
          "execution_count": 56
        }
      ]
    }
  ]
}